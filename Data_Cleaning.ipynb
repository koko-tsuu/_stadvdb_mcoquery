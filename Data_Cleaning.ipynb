{
 "cells": [
  {
   "cell_type": "code",
   "execution_count": 217,
   "id": "3fdc0dc5-8bbb-4ebb-a56d-6335f4074839",
   "metadata": {
    "tags": []
   },
   "outputs": [],
   "source": [
    "import pandas as pd\n",
    "import numpy as np"
   ]
  },
  {
   "cell_type": "markdown",
   "id": "1f6f58e3-ae34-4ff4-b676-a5d4274a6617",
   "metadata": {},
   "source": [
    "# PX"
   ]
  },
  {
   "cell_type": "code",
   "execution_count": 218,
   "id": "e51cedeb-5053-4747-85ab-edaf2d753dd4",
   "metadata": {
    "tags": []
   },
   "outputs": [],
   "source": [
    "px_db = pd.read_csv(\"px.csv\")"
   ]
  },
  {
   "cell_type": "code",
   "execution_count": 219,
   "id": "0b43ccb7-8851-47e8-8cff-8165cc372747",
   "metadata": {
    "tags": []
   },
   "outputs": [
    {
     "name": "stdout",
     "output_type": "stream",
     "text": [
      "<class 'pandas.core.frame.DataFrame'>\n",
      "RangeIndex: 5512482 entries, 0 to 5512481\n",
      "Data columns (total 4 columns):\n",
      " #   Column      Dtype \n",
      "---  ------      ----- \n",
      " 0   Unnamed: 0  int64 \n",
      " 1   pxid        object\n",
      " 2   age         int64 \n",
      " 3   gender      object\n",
      "dtypes: int64(2), object(2)\n",
      "memory usage: 168.2+ MB\n"
     ]
    }
   ],
   "source": [
    "px_db.info()"
   ]
  },
  {
   "cell_type": "code",
   "execution_count": 220,
   "id": "1326121b-2a40-4333-981e-3c532e1f2242",
   "metadata": {
    "tags": []
   },
   "outputs": [
    {
     "data": {
      "text/plain": [
       "Unnamed: 0    False\n",
       "pxid          False\n",
       "age           False\n",
       "gender        False\n",
       "dtype: bool"
      ]
     },
     "execution_count": 220,
     "metadata": {},
     "output_type": "execute_result"
    }
   ],
   "source": [
    "px_db.isnull().any()"
   ]
  },
  {
   "cell_type": "code",
   "execution_count": 221,
   "id": "503e46a4-cb5d-4e87-8d57-0c244cfbdb72",
   "metadata": {
    "tags": []
   },
   "outputs": [
    {
     "data": {
      "text/plain": [
       "gender\n",
       "FEMALE    3095509\n",
       "MALE      2416973\n",
       "Name: count, dtype: int64"
      ]
     },
     "execution_count": 221,
     "metadata": {},
     "output_type": "execute_result"
    }
   ],
   "source": [
    "px_db['gender'].value_counts()"
   ]
  },
  {
   "cell_type": "code",
   "execution_count": 222,
   "id": "9ef7ad04-145d-4c6e-ac5c-f5caa8e200a9",
   "metadata": {
    "tags": []
   },
   "outputs": [
    {
     "data": {
      "text/plain": [
       "array(['FEMALE', 'MALE'], dtype=object)"
      ]
     },
     "execution_count": 222,
     "metadata": {},
     "output_type": "execute_result"
    }
   ],
   "source": [
    "px_db['gender'].unique()"
   ]
  },
  {
   "cell_type": "code",
   "execution_count": 223,
   "id": "91c18759-77c7-4cf6-aa83-ff7beb94d1c6",
   "metadata": {
    "tags": []
   },
   "outputs": [
    {
     "data": {
      "text/plain": [
       "age\n",
       "54     150375\n",
       "29     125362\n",
       "28     121702\n",
       "31     120597\n",
       "32     120355\n",
       "        ...  \n",
       "96       2365\n",
       "97       1870\n",
       "98       1339\n",
       "99       1072\n",
       "100       826\n",
       "Name: count, Length: 101, dtype: int64"
      ]
     },
     "execution_count": 223,
     "metadata": {},
     "output_type": "execute_result"
    }
   ],
   "source": [
    "px_db['age'].value_counts()"
   ]
  },
  {
   "cell_type": "code",
   "execution_count": 224,
   "id": "54156532-6589-464d-bf36-5cb4ea5f1338",
   "metadata": {
    "scrolled": true,
    "tags": []
   },
   "outputs": [
    {
     "data": {
      "text/plain": [
       "array([ 54,   8,   2,  67,  89,  31,  59,  14,  34,  29,  60,  32,  33,\n",
       "         1,  27,  65,  64,   5,  62,  40,  50,   6,  83,  69,  37,  22,\n",
       "        42,  78,  55,  48,  81,  66,  58,  82,  44,  43,  30,  79,  38,\n",
       "        74,  26,  70,  36,   9,  93,  12,  23,  21,  72,   4,  63,  80,\n",
       "        61,  16,  20,  18,  11,  46,  45,  49,  71,  35,  25,  28,  53,\n",
       "        57,  41,  52,  86,   3,  24,  47,  90,  10,  87,  77,  51,  73,\n",
       "        76,  13,  56,  75,  39,  15,   7,  17,  68,  19,   0,  84,  88,\n",
       "        92,  95,  96,  98,  91,  85,  99,  94,  97, 100], dtype=int64)"
      ]
     },
     "execution_count": 224,
     "metadata": {},
     "output_type": "execute_result"
    }
   ],
   "source": [
    "px_db['age'].unique()"
   ]
  },
  {
   "cell_type": "code",
   "execution_count": 225,
   "id": "280fb8c2",
   "metadata": {},
   "outputs": [
    {
     "data": {
      "text/plain": [
       "False"
      ]
     },
     "execution_count": 225,
     "metadata": {},
     "output_type": "execute_result"
    }
   ],
   "source": [
    "# check for duplicates\n",
    "px_db.duplicated().any()"
   ]
  },
  {
   "cell_type": "code",
   "execution_count": 226,
   "id": "da43f153",
   "metadata": {},
   "outputs": [],
   "source": [
    "# drop the said duplicates\n",
    "px_db = px_db.drop_duplicates()"
   ]
  },
  {
   "cell_type": "code",
   "execution_count": 227,
   "id": "f937c8f1",
   "metadata": {},
   "outputs": [
    {
     "data": {
      "text/plain": [
       "False"
      ]
     },
     "execution_count": 227,
     "metadata": {},
     "output_type": "execute_result"
    }
   ],
   "source": [
    "px_db.duplicated().any()"
   ]
  },
  {
   "cell_type": "code",
   "execution_count": 228,
   "id": "181629b4",
   "metadata": {},
   "outputs": [],
   "source": [
    "# convert all strings to int\n",
    "px_db['age'] = pd.to_numeric(px_db['age'], errors='coerce').astype('Int64')"
   ]
  },
  {
   "cell_type": "code",
   "execution_count": 229,
   "id": "1572b0df",
   "metadata": {},
   "outputs": [],
   "source": [
    "# change N/A values to the mode of the dataframe\n",
    "px_db['age'].fillna(px_db['age'].where(px_db['age'] > 0).mode().iloc[0], inplace=True)"
   ]
  },
  {
   "cell_type": "code",
   "execution_count": 230,
   "id": "82ccfdff",
   "metadata": {},
   "outputs": [
    {
     "data": {
      "text/plain": [
       "<IntegerArray>\n",
       "[ 54,   8,   2,  67,  89,  31,  59,  14,  34,  29,\n",
       " ...\n",
       "  92,  95,  96,  98,  91,  85,  99,  94,  97, 100]\n",
       "Length: 101, dtype: Int64"
      ]
     },
     "execution_count": 230,
     "metadata": {},
     "output_type": "execute_result"
    }
   ],
   "source": [
    "px_db['age'].unique()"
   ]
  },
  {
   "cell_type": "code",
   "execution_count": 231,
   "id": "b41500b0",
   "metadata": {},
   "outputs": [
    {
     "data": {
      "text/plain": [
       "0"
      ]
     },
     "execution_count": 231,
     "metadata": {},
     "output_type": "execute_result"
    }
   ],
   "source": [
    "# check for the number of negative values\n",
    "(px_db['age'] < 0).sum().sum()"
   ]
  },
  {
   "cell_type": "code",
   "execution_count": 232,
   "id": "bc97701e",
   "metadata": {},
   "outputs": [
    {
     "data": {
      "text/plain": [
       "False"
      ]
     },
     "execution_count": 232,
     "metadata": {},
     "output_type": "execute_result"
    }
   ],
   "source": [
    "px_db['age'].isnull().any()"
   ]
  },
  {
   "cell_type": "code",
   "execution_count": 233,
   "id": "2a8f83b7",
   "metadata": {},
   "outputs": [],
   "source": [
    "# change negative values to the mode of df['age']\n",
    "px_db['age'] = px_db['age'].mask(px_db['age'] < 0, px_db['age'].mode())"
   ]
  },
  {
   "cell_type": "code",
   "execution_count": 234,
   "id": "cc59d098",
   "metadata": {},
   "outputs": [
    {
     "data": {
      "text/plain": [
       "<IntegerArray>\n",
       "[ 54,   8,   2,  67,  89,  31,  59,  14,  34,  29,\n",
       " ...\n",
       "  92,  95,  96,  98,  91,  85,  99,  94,  97, 100]\n",
       "Length: 101, dtype: Int64"
      ]
     },
     "execution_count": 234,
     "metadata": {},
     "output_type": "execute_result"
    }
   ],
   "source": [
    "# seeing that there are age more than 100\n",
    "px_db['age'].unique()"
   ]
  },
  {
   "cell_type": "code",
   "execution_count": 235,
   "id": "51288291",
   "metadata": {},
   "outputs": [],
   "source": [
    "# replace outliers with mode\n",
    "px_db['age'] = px_db['age'].mask(px_db['age'] > 100, px_db['age'].mode())"
   ]
  },
  {
   "cell_type": "code",
   "execution_count": 236,
   "id": "e5813e3d",
   "metadata": {},
   "outputs": [
    {
     "data": {
      "text/plain": [
       "age\n",
       "54     150375\n",
       "29     125362\n",
       "28     121702\n",
       "31     120597\n",
       "32     120355\n",
       "        ...  \n",
       "96       2365\n",
       "97       1870\n",
       "98       1339\n",
       "99       1072\n",
       "100       826\n",
       "Name: count, Length: 101, dtype: Int64"
      ]
     },
     "execution_count": 236,
     "metadata": {},
     "output_type": "execute_result"
    }
   ],
   "source": [
    "px_db['age'].value_counts()"
   ]
  },
  {
   "cell_type": "code",
   "execution_count": 237,
   "id": "c48bbfc7",
   "metadata": {},
   "outputs": [],
   "source": [
    "# drop row that has 'gender' as gender in df\n",
    "mask = px_db['gender'] == 'gender'"
   ]
  },
  {
   "cell_type": "code",
   "execution_count": 238,
   "id": "15a8fd57",
   "metadata": {},
   "outputs": [],
   "source": [
    "px_db = px_db[~mask]"
   ]
  },
  {
   "cell_type": "code",
   "execution_count": 239,
   "id": "e5f91dfc",
   "metadata": {},
   "outputs": [
    {
     "data": {
      "text/plain": [
       "array(['FEMALE', 'MALE'], dtype=object)"
      ]
     },
     "execution_count": 239,
     "metadata": {},
     "output_type": "execute_result"
    }
   ],
   "source": [
    "px_db['gender'].unique()"
   ]
  },
  {
   "cell_type": "code",
   "execution_count": 240,
   "id": "26683b5a",
   "metadata": {},
   "outputs": [],
   "source": [
    "positive_age_mode = px_db['age'].where(px_db['age'] > 0).mode().iloc[0]\n",
    "px_db['age'].fillna(positive_age_mode, inplace=True)"
   ]
  },
  {
   "cell_type": "code",
   "execution_count": 241,
   "id": "a895ed67",
   "metadata": {},
   "outputs": [
    {
     "data": {
      "text/plain": [
       "5512482"
      ]
     },
     "execution_count": 241,
     "metadata": {},
     "output_type": "execute_result"
    }
   ],
   "source": [
    "px_db.shape[0]"
   ]
  },
  {
   "cell_type": "code",
   "execution_count": 242,
   "id": "ae856e4a",
   "metadata": {},
   "outputs": [],
   "source": [
    "px_db = px_db.drop_duplicates(subset='pxid')"
   ]
  },
  {
   "cell_type": "code",
   "execution_count": 243,
   "id": "c32ae542",
   "metadata": {},
   "outputs": [
    {
     "data": {
      "text/plain": [
       "5512482"
      ]
     },
     "execution_count": 243,
     "metadata": {},
     "output_type": "execute_result"
    }
   ],
   "source": [
    "px_db.shape[0]"
   ]
  },
  {
   "cell_type": "code",
   "execution_count": 244,
   "id": "a43ab9ce",
   "metadata": {
    "scrolled": true
   },
   "outputs": [
    {
     "data": {
      "text/plain": [
       "Unnamed: 0    False\n",
       "pxid          False\n",
       "age           False\n",
       "gender        False\n",
       "dtype: bool"
      ]
     },
     "execution_count": 244,
     "metadata": {},
     "output_type": "execute_result"
    }
   ],
   "source": [
    "px_db.isnull().any()"
   ]
  },
  {
   "cell_type": "code",
   "execution_count": 245,
   "id": "94c7f341",
   "metadata": {},
   "outputs": [],
   "source": [
    "appoint_db = pd.read_csv(\"appointments.csv\")"
   ]
  },
  {
   "cell_type": "code",
   "execution_count": 246,
   "id": "c8ae5b36",
   "metadata": {},
   "outputs": [],
   "source": [
    "new_pxdb = px_db.merge(appoint_db, left_on='pxid', right_on='pxid')[['pxid', 'age', 'gender']]"
   ]
  },
  {
   "cell_type": "code",
   "execution_count": 247,
   "id": "f5f30ae1",
   "metadata": {},
   "outputs": [
    {
     "data": {
      "text/plain": [
       "320140"
      ]
     },
     "execution_count": 247,
     "metadata": {},
     "output_type": "execute_result"
    }
   ],
   "source": [
    "new_pxdb.shape[0]"
   ]
  },
  {
   "cell_type": "code",
   "execution_count": 248,
   "id": "2e2ab3ac",
   "metadata": {},
   "outputs": [
    {
     "data": {
      "text/html": [
       "<div>\n",
       "<style scoped>\n",
       "    .dataframe tbody tr th:only-of-type {\n",
       "        vertical-align: middle;\n",
       "    }\n",
       "\n",
       "    .dataframe tbody tr th {\n",
       "        vertical-align: top;\n",
       "    }\n",
       "\n",
       "    .dataframe thead th {\n",
       "        text-align: right;\n",
       "    }\n",
       "</style>\n",
       "<table border=\"1\" class=\"dataframe\">\n",
       "  <thead>\n",
       "    <tr style=\"text-align: right;\">\n",
       "      <th></th>\n",
       "      <th>pxid</th>\n",
       "      <th>age</th>\n",
       "      <th>gender</th>\n",
       "    </tr>\n",
       "  </thead>\n",
       "  <tbody>\n",
       "    <tr>\n",
       "      <th>0</th>\n",
       "      <td>519CAC5EFB113B0E451F77E31541A314</td>\n",
       "      <td>36</td>\n",
       "      <td>FEMALE</td>\n",
       "    </tr>\n",
       "    <tr>\n",
       "      <th>1</th>\n",
       "      <td>224DEFC6F387F61F307846B09F945EB2</td>\n",
       "      <td>34</td>\n",
       "      <td>FEMALE</td>\n",
       "    </tr>\n",
       "    <tr>\n",
       "      <th>2</th>\n",
       "      <td>224DEFC6F387F61F307846B09F945EB2</td>\n",
       "      <td>34</td>\n",
       "      <td>FEMALE</td>\n",
       "    </tr>\n",
       "    <tr>\n",
       "      <th>3</th>\n",
       "      <td>224DEFC6F387F61F307846B09F945EB2</td>\n",
       "      <td>34</td>\n",
       "      <td>FEMALE</td>\n",
       "    </tr>\n",
       "    <tr>\n",
       "      <th>4</th>\n",
       "      <td>D02F0CFD3B6617FF0FD923C9787D5522</td>\n",
       "      <td>55</td>\n",
       "      <td>MALE</td>\n",
       "    </tr>\n",
       "    <tr>\n",
       "      <th>...</th>\n",
       "      <td>...</td>\n",
       "      <td>...</td>\n",
       "      <td>...</td>\n",
       "    </tr>\n",
       "    <tr>\n",
       "      <th>320135</th>\n",
       "      <td>FED6D4194DA23CA4607410C55D6DF246</td>\n",
       "      <td>66</td>\n",
       "      <td>MALE</td>\n",
       "    </tr>\n",
       "    <tr>\n",
       "      <th>320136</th>\n",
       "      <td>018132C688D9CFBAE3DDAF01505243F3</td>\n",
       "      <td>82</td>\n",
       "      <td>FEMALE</td>\n",
       "    </tr>\n",
       "    <tr>\n",
       "      <th>320137</th>\n",
       "      <td>018132C688D9CFBAE3DDAF01505243F3</td>\n",
       "      <td>82</td>\n",
       "      <td>FEMALE</td>\n",
       "    </tr>\n",
       "    <tr>\n",
       "      <th>320138</th>\n",
       "      <td>018132C688D9CFBAE3DDAF01505243F3</td>\n",
       "      <td>82</td>\n",
       "      <td>FEMALE</td>\n",
       "    </tr>\n",
       "    <tr>\n",
       "      <th>320139</th>\n",
       "      <td>018132C688D9CFBAE3DDAF01505243F3</td>\n",
       "      <td>82</td>\n",
       "      <td>FEMALE</td>\n",
       "    </tr>\n",
       "  </tbody>\n",
       "</table>\n",
       "<p>320140 rows × 3 columns</p>\n",
       "</div>"
      ],
      "text/plain": [
       "                                    pxid  age  gender\n",
       "0       519CAC5EFB113B0E451F77E31541A314   36  FEMALE\n",
       "1       224DEFC6F387F61F307846B09F945EB2   34  FEMALE\n",
       "2       224DEFC6F387F61F307846B09F945EB2   34  FEMALE\n",
       "3       224DEFC6F387F61F307846B09F945EB2   34  FEMALE\n",
       "4       D02F0CFD3B6617FF0FD923C9787D5522   55    MALE\n",
       "...                                  ...  ...     ...\n",
       "320135  FED6D4194DA23CA4607410C55D6DF246   66    MALE\n",
       "320136  018132C688D9CFBAE3DDAF01505243F3   82  FEMALE\n",
       "320137  018132C688D9CFBAE3DDAF01505243F3   82  FEMALE\n",
       "320138  018132C688D9CFBAE3DDAF01505243F3   82  FEMALE\n",
       "320139  018132C688D9CFBAE3DDAF01505243F3   82  FEMALE\n",
       "\n",
       "[320140 rows x 3 columns]"
      ]
     },
     "execution_count": 248,
     "metadata": {},
     "output_type": "execute_result"
    }
   ],
   "source": [
    "new_pxdb"
   ]
  },
  {
   "cell_type": "code",
   "execution_count": 249,
   "id": "f45560f2",
   "metadata": {},
   "outputs": [
    {
     "data": {
      "text/plain": [
       "True"
      ]
     },
     "execution_count": 249,
     "metadata": {},
     "output_type": "execute_result"
    }
   ],
   "source": [
    "new_pxdb.duplicated().any()"
   ]
  },
  {
   "cell_type": "code",
   "execution_count": 250,
   "id": "2a104437",
   "metadata": {},
   "outputs": [
    {
     "data": {
      "text/plain": [
       "True"
      ]
     },
     "execution_count": 250,
     "metadata": {},
     "output_type": "execute_result"
    }
   ],
   "source": [
    "new_pxdb.duplicated().any()"
   ]
  },
  {
   "cell_type": "code",
   "execution_count": 251,
   "id": "4c6121d1",
   "metadata": {},
   "outputs": [
    {
     "data": {
      "text/plain": [
       "320140"
      ]
     },
     "execution_count": 251,
     "metadata": {},
     "output_type": "execute_result"
    }
   ],
   "source": [
    "new_pxdb.shape[0]"
   ]
  },
  {
   "cell_type": "code",
   "execution_count": 252,
   "id": "eca20e57",
   "metadata": {
    "scrolled": true
   },
   "outputs": [],
   "source": [
    "new_pxdb = new_pxdb.drop_duplicates()"
   ]
  },
  {
   "cell_type": "code",
   "execution_count": 253,
   "id": "2abf8563",
   "metadata": {},
   "outputs": [
    {
     "data": {
      "text/plain": [
       "67194"
      ]
     },
     "execution_count": 253,
     "metadata": {},
     "output_type": "execute_result"
    }
   ],
   "source": [
    "new_pxdb.shape[0]"
   ]
  },
  {
   "cell_type": "code",
   "execution_count": 254,
   "id": "0cb6bc2d",
   "metadata": {
    "scrolled": true
   },
   "outputs": [
    {
     "data": {
      "text/plain": [
       "False"
      ]
     },
     "execution_count": 254,
     "metadata": {},
     "output_type": "execute_result"
    }
   ],
   "source": [
    "new_pxdb.duplicated().any()"
   ]
  },
  {
   "cell_type": "code",
   "execution_count": 255,
   "id": "b5753368",
   "metadata": {},
   "outputs": [
    {
     "name": "stdout",
     "output_type": "stream",
     "text": [
      "267194\n"
     ]
    }
   ],
   "source": [
    "\n",
    "# Get the existing pxid in new_pxdb\n",
    "existing_pxid = new_pxdb['pxid'].unique()\n",
    "\n",
    "# Select 200,000 random rows from px_db that do not have the same pxid as in new_pxdb\n",
    "random_rows_px_db = px_db[~px_db['pxid'].isin(existing_pxid)].sample(n=200000, random_state=42, replace=False)\n",
    "\n",
    "# Concatenate new_pxdb with the randomly selected rows from px_db\n",
    "new_pxdb = pd.concat([new_pxdb, random_rows_px_db], ignore_index=True)\n",
    "\n",
    "# Verify the shape of the updated DataFrame\n",
    "print(new_pxdb.shape[0])"
   ]
  },
  {
   "cell_type": "markdown",
   "id": "61b7cf64-47be-4c12-8ee5-d9533401feb8",
   "metadata": {},
   "source": [
    "# Clinic"
   ]
  },
  {
   "cell_type": "code",
   "execution_count": 30,
   "id": "c29b3d98-0a58-4f26-b57e-698ed3271bca",
   "metadata": {
    "tags": []
   },
   "outputs": [],
   "source": [
    "clinics_db = pd.read_csv(\"clinics.csv\", encoding = \"ISO-8859-1\")"
   ]
  },
  {
   "cell_type": "code",
   "execution_count": 31,
   "id": "64a463b9-4fec-42fe-8939-08e9702ef5fe",
   "metadata": {
    "tags": []
   },
   "outputs": [
    {
     "name": "stdout",
     "output_type": "stream",
     "text": [
      "<class 'pandas.core.frame.DataFrame'>\n",
      "RangeIndex: 53962 entries, 0 to 53961\n",
      "Data columns (total 6 columns):\n",
      " #   Column        Non-Null Count  Dtype \n",
      "---  ------        --------------  ----- \n",
      " 0   clinicid      53962 non-null  object\n",
      " 1   hospitalname  17538 non-null  object\n",
      " 2   IsHospital    53962 non-null  bool  \n",
      " 3   City          53962 non-null  object\n",
      " 4   Province      53962 non-null  object\n",
      " 5   RegionName    53962 non-null  object\n",
      "dtypes: bool(1), object(5)\n",
      "memory usage: 2.1+ MB\n"
     ]
    }
   ],
   "source": [
    "clinics_db.info()"
   ]
  },
  {
   "cell_type": "code",
   "execution_count": 32,
   "id": "83a32faf-df1d-477c-baad-2ca71111da86",
   "metadata": {
    "tags": []
   },
   "outputs": [
    {
     "data": {
      "text/plain": [
       "array([\"St. Luke's Medical Center-Global City\",\n",
       "       'Our Lady of Lourdes Hospital', 'Makati Medical Center', ...,\n",
       "       'Leyte Provincial Hospital',\n",
       "       \"Lopez District Farmer's Hospital, Inc.\", 'Alegre Medical Clinic'],\n",
       "      dtype=object)"
      ]
     },
     "execution_count": 32,
     "metadata": {},
     "output_type": "execute_result"
    }
   ],
   "source": [
    "clinics_db['hospitalname'].unique()"
   ]
  },
  {
   "cell_type": "code",
   "execution_count": 33,
   "id": "c54cfb21-5415-4a9c-8120-0e23898cf1e1",
   "metadata": {
    "tags": []
   },
   "outputs": [
    {
     "data": {
      "text/plain": [
       "array(['Taguig', 'Manila', 'Makati', 'San Juan', 'Burgos', 'Butuan City',\n",
       "       'Basco', 'Quezon City', 'Mandaue City', 'Santa Rosa City',\n",
       "       'San Fernando City', 'Santiago City', 'Batangas City',\n",
       "       'Iloilo City', 'Botolan', 'Las Piñas', 'Balabac', 'Pasig', 'Bilar',\n",
       "       'Malabon', 'Caloocan', 'Muntinlupa', 'Candijay', 'San Nicolas',\n",
       "       'Calape', 'Cebu City', 'Manito', 'Pasay', 'Cabanatuan City',\n",
       "       'Antipolo City', 'Taytay', 'Cainta', 'Mandaluyong', 'Marikina',\n",
       "       'San Leonardo', 'Dasmariñas City', 'Bacoor City', 'Malolos City',\n",
       "       'Parañaque', 'Imus City', 'Silang', 'San Jose del Monte City',\n",
       "       'San Mateo', 'Davao City', 'Kidapawan City', 'Tagbilaran City',\n",
       "       'General Trias', 'Balamban', 'Bacolod City', 'Cagayan de Oro',\n",
       "       'Guagua', 'Lubao', 'Zamboanga City', 'Rizal', 'Santa Cruz',\n",
       "       'Asuncion', 'Tagum City', 'Cardona', 'Morong', 'Tanay', 'Teresa',\n",
       "       'Meycauayan City', 'Santo Domingo', 'San Jose City',\n",
       "       'Trece Martires City', 'Angono', 'Mabalacat City', 'Angeles City',\n",
       "       'Ozamiz City', 'Bocaue', 'Pulilan', 'Baliuag', 'Lucena City',\n",
       "       'Plaridel', 'Bustos', 'Valenzuela', 'Koronadal City',\n",
       "       'Dumaguete City', 'Sibulan', 'Navotas', 'Tanza', 'Cabuyao City',\n",
       "       'Batac City', 'Tacloban City', 'San Pedro City', 'Daet',\n",
       "       'Kalilangan', 'Baguio City', 'Urdaneta City', 'Lapu-Lapu City',\n",
       "       'Alicia', 'Dagupan City', 'Legazpi City', 'Naga City',\n",
       "       'Iligan City', 'Digos City', 'Bayawan City', 'Lipa City',\n",
       "       'Asturias', 'Valladolid', 'Bansud', 'Pila', 'Bay', 'Biñan City',\n",
       "       'La Trinidad', 'Sablayan', 'Dinagat', 'Minglanilla', 'Malita',\n",
       "       'Cordoba', 'Olongapo City', 'Padada', 'Boac', 'Malaybalay City',\n",
       "       'Santa Maria', 'Kawit', 'Bulakan', 'San Pablo City', 'Capas',\n",
       "       'Calamba City', 'Hilongos', 'Bacnotan', 'Miagao', 'Tanauan City',\n",
       "       'Santo Tomas', 'Marawi City', 'Carmona', 'Cavite City', 'Basey',\n",
       "       'Talisay City', 'Alegria', 'Cabiao', 'Dingle', 'Surigao City',\n",
       "       'Consolacion', 'Tagaytay City', 'San Francisco', 'Burdeos',\n",
       "       'Floridablanca', 'Binalonan', 'Tarlac City', 'Porac', 'Roxas',\n",
       "       'Bauko', 'Sagada', 'Alaminos City', 'Daraga', 'Bayombong',\n",
       "       'Balanga City', 'Borongan City', 'Rosario',\n",
       "       'General Mariano Alvarez', 'Laoag City', 'Valencia City',\n",
       "       'Lingayen', 'Agoo', 'Puerto Princesa City', 'General Santos City',\n",
       "       'Panabo City', 'Apalit', 'Marilao', 'Kalibo', 'Lambunao', 'Baler',\n",
       "       'Gattaran', 'Lemery', 'Bauan', 'Paombong', 'Balayan', 'Dimasalang',\n",
       "       'Malay', 'Gingoog City', 'Tuguegarao City', 'Ilagan City',\n",
       "       'Camalaniugan', 'Cabagan', 'Tabuk City', 'Vigan City', 'Bantay',\n",
       "       'Sorsogon City', 'La Carlota City', 'Cauayan City', 'Bangued',\n",
       "       'Governor Generoso', 'Tandag City', 'Mendez', 'Toboso',\n",
       "       'San Marcelino', 'Manaoag', 'Ipil', 'Balaoan', 'Iriga City',\n",
       "       'Tampakan', 'Aritao', 'Subic', 'San Luis', 'Mexico', 'Los Baños',\n",
       "       'Dinalupihan', 'Toledo City', 'Nabua', 'Atok', 'San Carlos City',\n",
       "       'Guiguinto', 'Siniloan', 'Surallah', 'Dapa', 'Pakil', 'Nasugbu',\n",
       "       'Alfonso', 'Noveleta', 'Bambang', 'Obando', 'Dapitan City',\n",
       "       'Calumpit', 'Ormoc City', 'Tacurong City', 'Norzagaray',\n",
       "       'Abra de Ilog', 'Calapan City', 'Binangonan', 'Taal', 'Lala',\n",
       "       'Alcoy', 'Tayabas City', 'Carcar City', 'Tabango', 'Maramag',\n",
       "       'Alubijid', 'Alimodian', 'Tinambac', 'Padre Burgos', 'Candelaria',\n",
       "       'Lucban', 'Sariaya', 'Nueva Valencia', 'Kabankalan City',\n",
       "       'Mamburao', 'Manabo', 'Naic', 'Mangatarem', 'Solano', 'Pandan',\n",
       "       'Roxas City', 'Aborlan', 'Tayug', 'Abulug', 'Sanchez-Mira',\n",
       "       'Boljoon', 'Anahawan', 'Alabat', 'Gloria', 'Cotabato City',\n",
       "       'Polomolok', 'Calanasan', 'Samal City', 'Luna', 'Bangar',\n",
       "       'Tagudin', 'Aringay', 'Cuenca', 'Lambayong', 'Aglipay',\n",
       "       'Santa Catalina', 'Adams', 'Compostela', 'Libjo (Albor)',\n",
       "       'Calasiao', 'Abucay', 'Sultan Kudarat', 'Lian', 'Labason',\n",
       "       'Rodriguez', 'Quezon', 'Del Gallego', 'Buluan', 'Cagdianao',\n",
       "       'Midsayap', 'Cabadbaran City', \"M'lang\", 'Manolo Fortich',\n",
       "       'Pagadian City', 'Tabaco City', 'Ligao City', 'Baybay City',\n",
       "       'Cabugao', 'Panganiban', 'Libon', 'Puerto Galera', 'Margosatubig',\n",
       "       'Lamut', 'Polangui', 'Calbayog City', 'Pateros', 'Solana',\n",
       "       'Balindong', 'Luisiana', 'Dipolog City', 'Passi City', 'Alamada',\n",
       "       'Maragusan', 'Agoncillo', 'Bulan', 'Pastrana', 'Kabasalan',\n",
       "       'Liloy', 'Calayan', 'Magalang', 'Candon City', 'Polillo',\n",
       "       'Calauag', 'Dingras', 'Catarman', 'Buenavista', 'Santa Ana',\n",
       "       'Flora', 'Pagsanjan', 'Llorente', 'Masbate City', 'Batan',\n",
       "       'Liloan', 'Santiago', 'Baras', 'Alcala', 'Science City of Muñoz',\n",
       "       'Bombon', 'Hermosa', 'Pangil', 'Nasipit', 'Naguilian',\n",
       "       'San Ildefonso', 'Victorias City', 'Dagohoy', 'Santa Barbara',\n",
       "       'Malitbog', 'Tanjay City', 'San Pascual', 'Pozzorubio',\n",
       "       'Danao City', 'Guimbal', 'Macabebe', 'Pambujan', 'San Joaquin',\n",
       "       'Ubay', 'Paete', 'New Washington', 'Virac', 'Agdangan', 'Narvacan',\n",
       "       'Isulan', 'San Jose', 'Naval', 'Lugus', 'San Miguel', 'Calaca',\n",
       "       'Santa Teresita', 'Malvar', 'Anini-y', 'Tobias Fornier',\n",
       "       'Prosperidad', 'Hagonoy', 'Naga', 'Arayat', 'Orani', 'Kiblawan',\n",
       "       'Anda', 'Oroquieta City', 'San Fabian', 'Bacarra', 'Dumarao',\n",
       "       'Sogod', 'Libmanan', 'Sampaloc', 'Rosales', 'Villasis', 'Laoac',\n",
       "       'Bogo City', 'Medellin', 'Lopez', 'San Rafael', 'Pamplona',\n",
       "       'Arteche', 'Tiwi', 'Cabarroguis', 'Coron', 'Gonzaga',\n",
       "       'Enrique B. Magalona', 'Kabacan', 'Gumaca', 'Talisay',\n",
       "       'Sagay City', 'Maragondon', 'New Bataan', 'Bugallon', 'Talavera',\n",
       "       'Gapan City', 'Bago City', 'Guimba', 'Leyte', 'Kananga',\n",
       "       'Valencia', 'Makilala', 'Carmen', 'Esperanza', 'Pagbilao',\n",
       "       'Norala', 'Leon', 'Odiongan', 'Silay City', 'Tangub City',\n",
       "       'Camiling', 'Ajuy', 'San Antonio', 'Balagtas', 'Luba', 'Maslog',\n",
       "       'Santa Ignacia', 'Alabel', 'Maco', 'Zumarraga', 'Siquijor',\n",
       "       'Aguilar', 'Matungao', 'Calabanga', 'Bato', 'Pontevedra',\n",
       "       'Burauen', 'Carranglan', 'Zaragoza', 'Santa Rosa', 'Cuartero',\n",
       "       'Aurora', 'Al-Barka', 'Majayjay', 'Zamboanguita', 'Corcuera',\n",
       "       'Caibiran', 'Montevista', 'Bayambang', 'Galimuyod', 'San Quintin',\n",
       "       'Bislig City', 'Medina', 'Clarin', 'Monreal', 'Iba', 'Gabaldon',\n",
       "       'Kiamba', 'Ibaan', 'Oton', 'Tubod', 'Angat', 'Cabusao', 'Monkayo',\n",
       "       'Moncada', 'Kibawe', 'Goa', 'Libungan', 'Laguindingan',\n",
       "       'Mondragon', 'Pavia', 'Banate', 'Buguias', 'Nabunturan',\n",
       "       'Bien Unido', 'Palo', 'Infanta', 'Mawab', 'Nabas', 'Canaman',\n",
       "       'Cadiz City', 'Orion', 'Mabinay', 'Upi', 'Banayoyo', 'Capul',\n",
       "       'Maria', 'Dauis', 'Maasin City', 'Paluan', 'Pigcawayan', 'Bolinao',\n",
       "       'Kasibu', 'Malalag', 'Victoria', 'Bonifacio', 'Jabonga',\n",
       "       'Mati City', 'Concepcion', 'Poro', 'Salcedo', 'Malasiqui',\n",
       "       'Binalbagan', 'Trinidad', 'Bacolor', 'Mariveles', 'Almeria',\n",
       "       'Siaton', 'Calauan', 'Casiguran', 'Paoay', 'Lasam', 'Pinamalayan',\n",
       "       'Nagcarlan', 'Pantukan', 'Pilar', 'Pandi', 'Bais City', 'Jasaan',\n",
       "       'Tiaong', 'Bagabag', 'Carigara', 'Catbalogan City', 'Famy', 'Jolo',\n",
       "       'Bauang', 'Bamban', 'Antequera', 'Jaen', 'Paniqui', 'Don Carlos',\n",
       "       \"Brooke's Point\", 'Pililla', 'Bulusan', 'Oslob', 'Santander',\n",
       "       'Bagac', 'Real', 'Magdalena', 'Licab', 'Gamay', 'Cuyapo',\n",
       "       'Echague', 'Baroy', 'Liliw', 'El Nido', 'Laak', 'Caba', 'Socorro',\n",
       "       'Balingasag', 'Manticao', 'Talisayan', 'Binmaley', 'Guiuan',\n",
       "       'Araceli', 'Indang', 'San Agustin', 'Labangan', 'Bataraza', 'Tago',\n",
       "       'Cavinti', 'Bantayan', 'Manapla', 'Aroroy', 'Sinait', 'Pinili',\n",
       "       'Sibonga', 'Alangalang', 'Mabini', 'Alaminos', 'Magallanes',\n",
       "       'San Clemente', 'Claveria', 'Manay', 'Baganga', 'Palauig',\n",
       "       'Allacapan', 'Banga', 'Sipocot', 'Pikit', 'Alburquerque',\n",
       "       'Libagon', 'Jamindan', 'Mambusao', 'Barobo', 'Asingan', 'Mandaon',\n",
       "       'Abuyog', 'Sultan Dumalondong', 'Banguingui', 'Pinabacdao',\n",
       "       'Madrid', 'Dolores', 'New Corella', 'Bacolod', 'Jose Dalman',\n",
       "       'Initao', 'Molave', 'Pintuyan', 'Sasmuan', 'Camalig', 'Vintar',\n",
       "       'Palompon', 'Daanbantayan', 'Murcia', 'San Pablo', 'Natividad',\n",
       "       'Umingan', 'General Emilio Aguinaldo', 'Amadeo', 'Labo', 'Candoni',\n",
       "       'Kitaotao', 'Lezo', 'Mauban', 'Samal', 'Guihulngan City',\n",
       "       'Cabatuan', 'San Manuel', 'Kapangan', 'Trento', 'Ramon Magsaysay',\n",
       "       'Tublay', 'Baao', 'Castillejos', 'Padre Garcia', 'Cateel', 'Pili',\n",
       "       'Bacacay', 'Lal-lo', 'Lapuyan', 'Pasuquin', 'Panglao', 'Opol',\n",
       "       'Diadi', 'Sara', 'Pitogo', 'Antipas', 'Argao', 'Gerona',\n",
       "       'Roseller Lim', 'Marantao', 'Santa Rita', 'Atimonan', 'Llanera',\n",
       "       'President Roxas', 'Dao', 'Kapatagan', 'Piat', 'Candaba',\n",
       "       'Tabuelan', 'Tupi', 'Aleosan', 'Hamtic', 'Calinog', 'Guinobatan',\n",
       "       'San Felipe', 'Aparri', 'Cuyo', 'Tabogon', 'Tuburan', 'Pototan',\n",
       "       'Malinao', 'Gasan', 'Marihatag', 'Baco', 'Gubat', 'Taysan',\n",
       "       'Mataasnakahoy', 'Bongabon', 'Jalajala', 'Masinloc', 'San Remigio',\n",
       "       'Kitcharao', 'Bula', 'Dilasag', 'General Nakar', 'Tagoloan',\n",
       "       'Dimataling', 'Santa Monica', 'San Isidro', 'Lagonoy', 'Tabina',\n",
       "       'General Luna', 'Tuba', 'Currimao', 'Magsingal', 'Calintaan',\n",
       "       'Mangaldan', 'Bangui', 'Matalom', 'Babatngon', 'Tagkawayan',\n",
       "       'Catanauan', 'Barotac Nuevo', 'Balatan', 'Kalamansig',\n",
       "       'Hinundayan', 'Tigbauan', 'Dumanjug', 'Sabtang', 'San Simon',\n",
       "       'Minalin', 'Estancia', 'Wao', 'Baloi', 'Lupon', 'Banaybanay',\n",
       "       'Tanudan', 'San Jacinto', 'Peñablanca', 'Moalboal', 'Ronda',\n",
       "       'Badoc', 'Tubigon', 'Panay', 'Tubao', 'Limay', 'Ragay', 'Baggao',\n",
       "       'Tulunan', 'San Fernando', 'Imelda', 'Buug', 'Palayan City',\n",
       "       'Masantol', 'Culion', 'Aliaga', 'Lubang', 'San Narciso',\n",
       "       'Isabela City', 'Tumauini', 'La Libertad', 'Sison', 'Sindangan',\n",
       "       'Basista', 'Urbiztondo', 'Maddela', 'Sulop', 'Patnongon',\n",
       "       'Bunawan', 'Sarangani', 'Balangiga', 'Jaro', 'Biliran', 'Bontoc',\n",
       "       'Bongabong', 'Alilem', 'Patnanungan', 'Janiuay', 'Vallehermoso',\n",
       "       'Buguey', 'Kapalong'], dtype=object)"
      ]
     },
     "execution_count": 33,
     "metadata": {},
     "output_type": "execute_result"
    }
   ],
   "source": [
    "clinics_db['City'].unique()"
   ]
  },
  {
   "cell_type": "code",
   "execution_count": 34,
   "id": "d7626e40-95ad-4202-aef2-138ca7585860",
   "metadata": {
    "tags": []
   },
   "outputs": [
    {
     "data": {
      "text/plain": [
       "array(['National Capital Region (NCR)', 'Ilocos Region (I)',\n",
       "       'Caraga (XIII)', 'Cagayan Valley (II)', 'Central Visayas (VII)',\n",
       "       'CALABARZON (IV-A)', 'Western Visayas (VI)', 'Central Luzon (III)',\n",
       "       'MIMAROPA (IV-B)', 'Bicol Region (V)', 'Davao Region (XI)',\n",
       "       'SOCCSKSARGEN (Cotabato Region) (XII)', 'Northern Mindanao (X)',\n",
       "       'Zamboanga Peninsula (IX)', 'Eastern Visayas (VIII)',\n",
       "       'Cordillera Administrative Region (CAR)',\n",
       "       'Bangsamoro Autonomous Region in Muslim Mindanao (BARMM)'],\n",
       "      dtype=object)"
      ]
     },
     "execution_count": 34,
     "metadata": {},
     "output_type": "execute_result"
    }
   ],
   "source": [
    "clinics_db['RegionName'].unique()"
   ]
  },
  {
   "cell_type": "code",
   "execution_count": 35,
   "id": "c182da70-2905-4bc2-a082-f540aa28dc62",
   "metadata": {
    "tags": []
   },
   "outputs": [
    {
     "data": {
      "text/plain": [
       "False"
      ]
     },
     "execution_count": 35,
     "metadata": {},
     "output_type": "execute_result"
    }
   ],
   "source": [
    "clinics_db.duplicated().any()"
   ]
  },
  {
   "cell_type": "code",
   "execution_count": 36,
   "id": "e5e4c17b",
   "metadata": {},
   "outputs": [
    {
     "data": {
      "text/plain": [
       "array(['Manila', 'Ilocos Sur', 'Agusan del Norte', 'Batanes', 'Cebu',\n",
       "       'Laguna', 'La Union', 'Isabela', 'Batangas', 'Iloilo', 'Zambales',\n",
       "       'Palawan', 'Bohol', 'Ilocos Norte', 'Albay', 'Nueva Ecija',\n",
       "       'Rizal', 'Cavite', 'Bulacan', 'Davao del Sur', 'Cotabato',\n",
       "       'Negros Occidental', 'Misamis Oriental', 'Pampanga',\n",
       "       'Zamboanga del Sur', 'Davao del Norte', 'Misamis Occidental',\n",
       "       'Quezon', 'South Cotabato', 'Negros Oriental', 'Leyte',\n",
       "       'Camarines Norte', 'Bukidnon', 'Benguet', 'Pangasinan',\n",
       "       'Camarines Sur', 'Lanao del Norte', 'Oriental Mindoro',\n",
       "       'Occidental Mindoro', 'Dinagat Islands', 'Davao Occidental',\n",
       "       'Marinduque', 'Tarlac', 'Angeles', 'Lanao del Sur', 'Samar',\n",
       "       'Surigao del Norte', 'Agusan del Sur', 'Mountain Province',\n",
       "       'Nueva Vizcaya', 'Bataan', 'Eastern Samar', 'Aklan', 'Aurora',\n",
       "       'Cagayan', 'Masbate', 'Kalinga', 'Sorsogon', 'Abra',\n",
       "       'Davao Oriental', 'Surigao del Sur', 'Zamboanga Sibugay',\n",
       "       'Zamboanga del Norte', 'Sultan Kudarat', 'Guimaras', 'Antique',\n",
       "       'Capiz', 'Southern Leyte', 'Maguindanao', 'Apayao', 'Quirino',\n",
       "       'Compostela Valley', 'Catanduanes', 'Ifugao', 'Northern Samar',\n",
       "       'Biliran', 'Sulu', 'Romblon', 'Sarangani', 'Siquijor', 'Basilan',\n",
       "       'Taguig', 'Camiguin'], dtype=object)"
      ]
     },
     "execution_count": 36,
     "metadata": {},
     "output_type": "execute_result"
    }
   ],
   "source": [
    "clinics_db['Province'].unique()"
   ]
  },
  {
   "cell_type": "code",
   "execution_count": 37,
   "id": "fcc7c11d-9e6c-4ad6-8851-2b0eb77f5ef2",
   "metadata": {
    "tags": []
   },
   "outputs": [
    {
     "data": {
      "text/plain": [
       "clinicid        False\n",
       "hospitalname     True\n",
       "IsHospital      False\n",
       "City            False\n",
       "Province        False\n",
       "RegionName      False\n",
       "dtype: bool"
      ]
     },
     "execution_count": 37,
     "metadata": {},
     "output_type": "execute_result"
    }
   ],
   "source": [
    "clinics_db.isnull().any()"
   ]
  },
  {
   "cell_type": "code",
   "execution_count": 38,
   "id": "b3dba5ad",
   "metadata": {},
   "outputs": [
    {
     "data": {
      "text/plain": [
       "36424"
      ]
     },
     "execution_count": 38,
     "metadata": {},
     "output_type": "execute_result"
    }
   ],
   "source": [
    "(clinics_db['hospitalname'].isnull()).sum().sum()"
   ]
  },
  {
   "cell_type": "code",
   "execution_count": 39,
   "id": "88536b0f",
   "metadata": {},
   "outputs": [],
   "source": [
    "# change N/A values to 'Unknown'\n",
    "clinics_db['hospitalname'].fillna('Unknown', inplace=True)"
   ]
  },
  {
   "cell_type": "code",
   "execution_count": 40,
   "id": "dfcbb4df",
   "metadata": {},
   "outputs": [
    {
     "data": {
      "text/plain": [
       "clinicid        False\n",
       "hospitalname    False\n",
       "IsHospital      False\n",
       "City            False\n",
       "Province        False\n",
       "RegionName      False\n",
       "dtype: bool"
      ]
     },
     "execution_count": 40,
     "metadata": {},
     "output_type": "execute_result"
    }
   ],
   "source": [
    "clinics_db.isnull().any()"
   ]
  },
  {
   "cell_type": "code",
   "execution_count": 41,
   "id": "d8784ecf",
   "metadata": {},
   "outputs": [
    {
     "data": {
      "text/plain": [
       "53962"
      ]
     },
     "execution_count": 41,
     "metadata": {},
     "output_type": "execute_result"
    }
   ],
   "source": [
    "clinics_db.shape[0]"
   ]
  },
  {
   "cell_type": "code",
   "execution_count": 42,
   "id": "4aaa1582",
   "metadata": {},
   "outputs": [],
   "source": [
    "clinics_db = clinics_db.drop_duplicates(subset='clinicid')"
   ]
  },
  {
   "cell_type": "code",
   "execution_count": 43,
   "id": "d8720c0c",
   "metadata": {},
   "outputs": [
    {
     "data": {
      "text/plain": [
       "53962"
      ]
     },
     "execution_count": 43,
     "metadata": {},
     "output_type": "execute_result"
    }
   ],
   "source": [
    "clinics_db.shape[0]"
   ]
  },
  {
   "cell_type": "markdown",
   "id": "c49c2c30",
   "metadata": {},
   "source": [
    "After examining the data, it seems that no interpolation technique can be made since it specifies a certain hospital. We can't do dropping of values as well since 36424 rows will be dropped, affecting the data largely. Thus, putting a placeholder, like \"Unknown\" is the best choice for this dataframe."
   ]
  },
  {
   "cell_type": "markdown",
   "id": "20c4562d-f730-4f71-9888-01ee6a91fb51",
   "metadata": {},
   "source": [
    "# Appointment"
   ]
  },
  {
   "cell_type": "code",
   "execution_count": 108,
   "id": "238f26cb-3dff-47ef-8d17-9a7766f2d33d",
   "metadata": {
    "tags": []
   },
   "outputs": [
    {
     "name": "stdout",
     "output_type": "stream",
     "text": [
      "<class 'pandas.core.frame.DataFrame'>\n",
      "RangeIndex: 9752932 entries, 0 to 9752931\n",
      "Data columns (total 11 columns):\n",
      " #   Column      Dtype \n",
      "---  ------      ----- \n",
      " 0   pxid        object\n",
      " 1   clinicid    object\n",
      " 2   doctorid    object\n",
      " 3   apptid      object\n",
      " 4   status      object\n",
      " 5   TimeQueued  object\n",
      " 6   QueueDate   object\n",
      " 7   StartTime   object\n",
      " 8   EndTime     object\n",
      " 9   type        object\n",
      " 10  Virtual     object\n",
      "dtypes: object(11)\n",
      "memory usage: 818.5+ MB\n"
     ]
    }
   ],
   "source": [
    "appoint_db.info()"
   ]
  },
  {
   "cell_type": "code",
   "execution_count": 45,
   "id": "4bec0d53-6800-4d39-bbe2-8e77f30bae5f",
   "metadata": {
    "tags": []
   },
   "outputs": [
    {
     "data": {
      "text/html": [
       "<div>\n",
       "<style scoped>\n",
       "    .dataframe tbody tr th:only-of-type {\n",
       "        vertical-align: middle;\n",
       "    }\n",
       "\n",
       "    .dataframe tbody tr th {\n",
       "        vertical-align: top;\n",
       "    }\n",
       "\n",
       "    .dataframe thead th {\n",
       "        text-align: right;\n",
       "    }\n",
       "</style>\n",
       "<table border=\"1\" class=\"dataframe\">\n",
       "  <thead>\n",
       "    <tr style=\"text-align: right;\">\n",
       "      <th></th>\n",
       "      <th>pxid</th>\n",
       "      <th>clinicid</th>\n",
       "      <th>doctorid</th>\n",
       "      <th>apptid</th>\n",
       "      <th>status</th>\n",
       "      <th>TimeQueued</th>\n",
       "      <th>QueueDate</th>\n",
       "      <th>StartTime</th>\n",
       "      <th>EndTime</th>\n",
       "      <th>type</th>\n",
       "      <th>Virtual</th>\n",
       "    </tr>\n",
       "  </thead>\n",
       "  <tbody>\n",
       "    <tr>\n",
       "      <th>0</th>\n",
       "      <td>EF196B348A49FB32DABC9834DC4FAAD9</td>\n",
       "      <td>ADF7EE2DCF142B0E11888E72B43FCB75</td>\n",
       "      <td>BB04AF0F7ECAEE4AAE62035497DA1387</td>\n",
       "      <td>C1CC0949B93D00A559F7A0BD38361E80</td>\n",
       "      <td>Complete</td>\n",
       "      <td>2018-04-11 01:59:58</td>\n",
       "      <td>2018-04-10 16:00:00</td>\n",
       "      <td>NaN</td>\n",
       "      <td>NaN</td>\n",
       "      <td>Consultation</td>\n",
       "      <td>NaN</td>\n",
       "    </tr>\n",
       "    <tr>\n",
       "      <th>1</th>\n",
       "      <td>EAE3C87D0B33351272F2E9B9B1B56217</td>\n",
       "      <td>1E0F65EB20ACBFB27EE05DDC000B50EC</td>\n",
       "      <td>82AA4B0AF34C2313A562076992E50AA3</td>\n",
       "      <td>6585A31C60A1886FBA1433C50012B504</td>\n",
       "      <td>Queued</td>\n",
       "      <td>2018-04-10 10:34:16</td>\n",
       "      <td>2018-04-08 16:00:00</td>\n",
       "      <td>2018-04-09 10:33:00</td>\n",
       "      <td>2018-04-12 05:29:57</td>\n",
       "      <td>Inpatient</td>\n",
       "      <td>NaN</td>\n",
       "    </tr>\n",
       "    <tr>\n",
       "      <th>2</th>\n",
       "      <td>7C5C93809D626CC702D08F33985B2B58</td>\n",
       "      <td>1E0F65EB20ACBFB27EE05DDC000B50EC</td>\n",
       "      <td>82AA4B0AF34C2313A562076992E50AA3</td>\n",
       "      <td>7250DCFF615E6580295C7E6ED4322371</td>\n",
       "      <td>Queued</td>\n",
       "      <td>2018-04-03 15:26:19</td>\n",
       "      <td>2018-03-30 16:00:00</td>\n",
       "      <td>2018-03-31 15:25:00</td>\n",
       "      <td>2018-04-05 15:51:47</td>\n",
       "      <td>Inpatient</td>\n",
       "      <td>NaN</td>\n",
       "    </tr>\n",
       "    <tr>\n",
       "      <th>3</th>\n",
       "      <td>C300C2B9E0E5D4C46E8093BCDBFA05CA</td>\n",
       "      <td>98C39996BF1543E974747A2549B3107C</td>\n",
       "      <td>AD61AB143223EFBC24C7D2583BE69251</td>\n",
       "      <td>F5BBDCC08E39332F0AC27BB95CF1396A</td>\n",
       "      <td>Queued</td>\n",
       "      <td>2015-11-24 08:01:13.920000000</td>\n",
       "      <td>NaN</td>\n",
       "      <td>NaN</td>\n",
       "      <td>NaN</td>\n",
       "      <td>Consultation</td>\n",
       "      <td>NaN</td>\n",
       "    </tr>\n",
       "    <tr>\n",
       "      <th>4</th>\n",
       "      <td>B3DBE7F9E4DC33CBC5660E0A923CF8E8</td>\n",
       "      <td>77EE3BC58CE560B86C2B59363281E914</td>\n",
       "      <td>AD61AB143223EFBC24C7D2583BE69251</td>\n",
       "      <td>55783FB42A02DABC3B2ED239B924DC87</td>\n",
       "      <td>Queued</td>\n",
       "      <td>2015-11-24 08:01:00.420000000</td>\n",
       "      <td>NaN</td>\n",
       "      <td>NaN</td>\n",
       "      <td>NaN</td>\n",
       "      <td>Consultation</td>\n",
       "      <td>NaN</td>\n",
       "    </tr>\n",
       "  </tbody>\n",
       "</table>\n",
       "</div>"
      ],
      "text/plain": [
       "                               pxid                          clinicid  \\\n",
       "0  EF196B348A49FB32DABC9834DC4FAAD9  ADF7EE2DCF142B0E11888E72B43FCB75   \n",
       "1  EAE3C87D0B33351272F2E9B9B1B56217  1E0F65EB20ACBFB27EE05DDC000B50EC   \n",
       "2  7C5C93809D626CC702D08F33985B2B58  1E0F65EB20ACBFB27EE05DDC000B50EC   \n",
       "3  C300C2B9E0E5D4C46E8093BCDBFA05CA  98C39996BF1543E974747A2549B3107C   \n",
       "4  B3DBE7F9E4DC33CBC5660E0A923CF8E8  77EE3BC58CE560B86C2B59363281E914   \n",
       "\n",
       "                           doctorid                            apptid  \\\n",
       "0  BB04AF0F7ECAEE4AAE62035497DA1387  C1CC0949B93D00A559F7A0BD38361E80   \n",
       "1  82AA4B0AF34C2313A562076992E50AA3  6585A31C60A1886FBA1433C50012B504   \n",
       "2  82AA4B0AF34C2313A562076992E50AA3  7250DCFF615E6580295C7E6ED4322371   \n",
       "3  AD61AB143223EFBC24C7D2583BE69251  F5BBDCC08E39332F0AC27BB95CF1396A   \n",
       "4  AD61AB143223EFBC24C7D2583BE69251  55783FB42A02DABC3B2ED239B924DC87   \n",
       "\n",
       "     status                     TimeQueued            QueueDate  \\\n",
       "0  Complete            2018-04-11 01:59:58  2018-04-10 16:00:00   \n",
       "1    Queued            2018-04-10 10:34:16  2018-04-08 16:00:00   \n",
       "2    Queued            2018-04-03 15:26:19  2018-03-30 16:00:00   \n",
       "3    Queued  2015-11-24 08:01:13.920000000                  NaN   \n",
       "4    Queued  2015-11-24 08:01:00.420000000                  NaN   \n",
       "\n",
       "             StartTime              EndTime          type Virtual  \n",
       "0                  NaN                  NaN  Consultation     NaN  \n",
       "1  2018-04-09 10:33:00  2018-04-12 05:29:57     Inpatient     NaN  \n",
       "2  2018-03-31 15:25:00  2018-04-05 15:51:47     Inpatient     NaN  \n",
       "3                  NaN                  NaN  Consultation     NaN  \n",
       "4                  NaN                  NaN  Consultation     NaN  "
      ]
     },
     "execution_count": 45,
     "metadata": {},
     "output_type": "execute_result"
    }
   ],
   "source": [
    "appoint_db.head()"
   ]
  },
  {
   "cell_type": "code",
   "execution_count": 46,
   "id": "a1b7c564-a335-483c-a8ef-c6c9da79cf6f",
   "metadata": {
    "tags": []
   },
   "outputs": [
    {
     "data": {
      "text/plain": [
       "array(['Complete', 'Queued', 'NoShow', 'Serving', 'Cancel', 'Skip',\n",
       "       'Completed', 'Admitted'], dtype=object)"
      ]
     },
     "execution_count": 46,
     "metadata": {},
     "output_type": "execute_result"
    }
   ],
   "source": [
    "appoint_db.status.unique()"
   ]
  },
  {
   "cell_type": "code",
   "execution_count": 47,
   "id": "caf717ba-1a7b-422d-b757-0a12c07f960a",
   "metadata": {
    "tags": []
   },
   "outputs": [
    {
     "data": {
      "text/plain": [
       "status\n",
       "Complete     6473675\n",
       "Queued       2523855\n",
       "Serving       284774\n",
       "NoShow        230048\n",
       "Cancel        213270\n",
       "Skip           27298\n",
       "Completed         10\n",
       "Admitted           2\n",
       "Name: count, dtype: int64"
      ]
     },
     "execution_count": 47,
     "metadata": {},
     "output_type": "execute_result"
    }
   ],
   "source": [
    "appoint_db['status'].value_counts()"
   ]
  },
  {
   "cell_type": "code",
   "execution_count": 48,
   "id": "e102363d-2ef5-416b-85aa-a76696f0f78c",
   "metadata": {
    "tags": []
   },
   "outputs": [
    {
     "data": {
      "text/plain": [
       "type\n",
       "Consultation    9640181\n",
       "Inpatient        112751\n",
       "Name: count, dtype: int64"
      ]
     },
     "execution_count": 48,
     "metadata": {},
     "output_type": "execute_result"
    }
   ],
   "source": [
    "appoint_db['type'].value_counts()"
   ]
  },
  {
   "cell_type": "code",
   "execution_count": 49,
   "id": "9c7c6776-d9e7-4422-9f76-31112c8e2b79",
   "metadata": {
    "tags": []
   },
   "outputs": [
    {
     "data": {
      "text/plain": [
       "Virtual\n",
       "False    6276648\n",
       "True     1523691\n",
       "Name: count, dtype: int64"
      ]
     },
     "execution_count": 49,
     "metadata": {},
     "output_type": "execute_result"
    }
   ],
   "source": [
    "appoint_db['Virtual'].value_counts()"
   ]
  },
  {
   "cell_type": "code",
   "execution_count": 50,
   "id": "c5b2bb74-4a4e-4380-b9b9-471cce06b9a4",
   "metadata": {
    "tags": []
   },
   "outputs": [
    {
     "data": {
      "text/plain": [
       "pxid          False\n",
       "clinicid      False\n",
       "doctorid      False\n",
       "apptid        False\n",
       "status        False\n",
       "TimeQueued    False\n",
       "QueueDate      True\n",
       "StartTime      True\n",
       "EndTime        True\n",
       "type          False\n",
       "Virtual        True\n",
       "dtype: bool"
      ]
     },
     "execution_count": 50,
     "metadata": {},
     "output_type": "execute_result"
    }
   ],
   "source": [
    "appoint_db.isnull().any()"
   ]
  },
  {
   "cell_type": "code",
   "execution_count": 51,
   "id": "ba17bb05",
   "metadata": {},
   "outputs": [
    {
     "data": {
      "text/plain": [
       "False"
      ]
     },
     "execution_count": 51,
     "metadata": {},
     "output_type": "execute_result"
    }
   ],
   "source": [
    "appoint_db.duplicated().any()"
   ]
  },
  {
   "cell_type": "code",
   "execution_count": 52,
   "id": "3417cda5-296b-467b-b592-396005f9144d",
   "metadata": {
    "tags": []
   },
   "outputs": [],
   "source": [
    "# n = 100000\n",
    "# appoint_db = appoint_db.sample(n, random_state=25)\n",
    "# appoint_db.head()"
   ]
  },
  {
   "cell_type": "code",
   "execution_count": 53,
   "id": "6479a915",
   "metadata": {},
   "outputs": [],
   "source": [
    "appoint_db = appoint_db.merge(px_db, left_on='pxid', right_on='pxid')[['pxid', 'clinicid', 'doctorid', 'apptid', 'status', 'TimeQueued', 'QueueDate', 'StartTime', 'EndTime', 'type', 'Virtual']]\n"
   ]
  },
  {
   "cell_type": "code",
   "execution_count": 54,
   "id": "10815c73",
   "metadata": {
    "scrolled": true
   },
   "outputs": [
    {
     "data": {
      "text/html": [
       "<div>\n",
       "<style scoped>\n",
       "    .dataframe tbody tr th:only-of-type {\n",
       "        vertical-align: middle;\n",
       "    }\n",
       "\n",
       "    .dataframe tbody tr th {\n",
       "        vertical-align: top;\n",
       "    }\n",
       "\n",
       "    .dataframe thead th {\n",
       "        text-align: right;\n",
       "    }\n",
       "</style>\n",
       "<table border=\"1\" class=\"dataframe\">\n",
       "  <thead>\n",
       "    <tr style=\"text-align: right;\">\n",
       "      <th></th>\n",
       "      <th>pxid</th>\n",
       "      <th>clinicid</th>\n",
       "      <th>doctorid</th>\n",
       "      <th>apptid</th>\n",
       "      <th>status</th>\n",
       "      <th>TimeQueued</th>\n",
       "      <th>QueueDate</th>\n",
       "      <th>StartTime</th>\n",
       "      <th>EndTime</th>\n",
       "      <th>type</th>\n",
       "      <th>Virtual</th>\n",
       "    </tr>\n",
       "  </thead>\n",
       "  <tbody>\n",
       "    <tr>\n",
       "      <th>0</th>\n",
       "      <td>FE4A5D5A20EC492D2FC691F126A568AB</td>\n",
       "      <td>3B8D83483189887A2F1A39D690463A8F</td>\n",
       "      <td>ACB3A881C7CE9ABCAE0CE8C99C86A906</td>\n",
       "      <td>04BC9218E072BEEFEBEE9C97B78A35C9</td>\n",
       "      <td>Queued</td>\n",
       "      <td>2020-06-22 05:11:38.247000000</td>\n",
       "      <td>2020-07-02 16:00:00</td>\n",
       "      <td>2020-07-02 17:00:38.073000000</td>\n",
       "      <td>2020-07-02 17:15:38.073000000</td>\n",
       "      <td>Consultation</td>\n",
       "      <td>NaN</td>\n",
       "    </tr>\n",
       "    <tr>\n",
       "      <th>1</th>\n",
       "      <td>FE4A5D5A20EC492D2FC691F126A568AB</td>\n",
       "      <td>BAE3529F0210CC5A603AC708BB5E7797</td>\n",
       "      <td>ACB3A881C7CE9ABCAE0CE8C99C86A906</td>\n",
       "      <td>F3BAF3D43E9C6DE6D41850604F4A3A71</td>\n",
       "      <td>Serving</td>\n",
       "      <td>2020-07-24 06:30:36.910000000</td>\n",
       "      <td>2020-07-24 16:00:00</td>\n",
       "      <td>2020-07-25 02:00:36.877000000</td>\n",
       "      <td>2020-07-25 02:15:36.877000000</td>\n",
       "      <td>Consultation</td>\n",
       "      <td>NaN</td>\n",
       "    </tr>\n",
       "    <tr>\n",
       "      <th>2</th>\n",
       "      <td>E6BC8E80685AA4A239617F196F12A0C3</td>\n",
       "      <td>3B8D83483189887A2F1A39D690463A8F</td>\n",
       "      <td>ACB3A881C7CE9ABCAE0CE8C99C86A906</td>\n",
       "      <td>F2335AAFB7EE079C7E7306591057C0C9</td>\n",
       "      <td>Queued</td>\n",
       "      <td>2020-06-26 04:51:16.403000000</td>\n",
       "      <td>2020-07-12 16:00:00</td>\n",
       "      <td>2020-07-12 17:00:15.833000000</td>\n",
       "      <td>2020-07-12 17:15:15.833000000</td>\n",
       "      <td>Consultation</td>\n",
       "      <td>NaN</td>\n",
       "    </tr>\n",
       "    <tr>\n",
       "      <th>3</th>\n",
       "      <td>E6BC8E80685AA4A239617F196F12A0C3</td>\n",
       "      <td>3B8D83483189887A2F1A39D690463A8F</td>\n",
       "      <td>ACB3A881C7CE9ABCAE0CE8C99C86A906</td>\n",
       "      <td>DA4023B5A8C3F1BD540EA82552F21134</td>\n",
       "      <td>Queued</td>\n",
       "      <td>2020-07-13 06:07:13.537000000</td>\n",
       "      <td>2020-07-28 16:00:00</td>\n",
       "      <td>2020-07-29 05:00:13.133000000</td>\n",
       "      <td>2020-07-29 05:15:13.133000000</td>\n",
       "      <td>Consultation</td>\n",
       "      <td>NaN</td>\n",
       "    </tr>\n",
       "    <tr>\n",
       "      <th>4</th>\n",
       "      <td>E6BC8E80685AA4A239617F196F12A0C3</td>\n",
       "      <td>BAE3529F0210CC5A603AC708BB5E7797</td>\n",
       "      <td>ACB3A881C7CE9ABCAE0CE8C99C86A906</td>\n",
       "      <td>87C3AD392CEF821752AB5191F67D46A7</td>\n",
       "      <td>Serving</td>\n",
       "      <td>2020-07-31 02:13:15.870000000</td>\n",
       "      <td>2020-07-31 16:00:00</td>\n",
       "      <td>2020-08-01 02:30:56.457000000</td>\n",
       "      <td>2020-08-01 02:45:56.460000000</td>\n",
       "      <td>Consultation</td>\n",
       "      <td>NaN</td>\n",
       "    </tr>\n",
       "  </tbody>\n",
       "</table>\n",
       "</div>"
      ],
      "text/plain": [
       "                               pxid                          clinicid  \\\n",
       "0  FE4A5D5A20EC492D2FC691F126A568AB  3B8D83483189887A2F1A39D690463A8F   \n",
       "1  FE4A5D5A20EC492D2FC691F126A568AB  BAE3529F0210CC5A603AC708BB5E7797   \n",
       "2  E6BC8E80685AA4A239617F196F12A0C3  3B8D83483189887A2F1A39D690463A8F   \n",
       "3  E6BC8E80685AA4A239617F196F12A0C3  3B8D83483189887A2F1A39D690463A8F   \n",
       "4  E6BC8E80685AA4A239617F196F12A0C3  BAE3529F0210CC5A603AC708BB5E7797   \n",
       "\n",
       "                           doctorid                            apptid  \\\n",
       "0  ACB3A881C7CE9ABCAE0CE8C99C86A906  04BC9218E072BEEFEBEE9C97B78A35C9   \n",
       "1  ACB3A881C7CE9ABCAE0CE8C99C86A906  F3BAF3D43E9C6DE6D41850604F4A3A71   \n",
       "2  ACB3A881C7CE9ABCAE0CE8C99C86A906  F2335AAFB7EE079C7E7306591057C0C9   \n",
       "3  ACB3A881C7CE9ABCAE0CE8C99C86A906  DA4023B5A8C3F1BD540EA82552F21134   \n",
       "4  ACB3A881C7CE9ABCAE0CE8C99C86A906  87C3AD392CEF821752AB5191F67D46A7   \n",
       "\n",
       "    status                     TimeQueued            QueueDate  \\\n",
       "0   Queued  2020-06-22 05:11:38.247000000  2020-07-02 16:00:00   \n",
       "1  Serving  2020-07-24 06:30:36.910000000  2020-07-24 16:00:00   \n",
       "2   Queued  2020-06-26 04:51:16.403000000  2020-07-12 16:00:00   \n",
       "3   Queued  2020-07-13 06:07:13.537000000  2020-07-28 16:00:00   \n",
       "4  Serving  2020-07-31 02:13:15.870000000  2020-07-31 16:00:00   \n",
       "\n",
       "                       StartTime                        EndTime          type  \\\n",
       "0  2020-07-02 17:00:38.073000000  2020-07-02 17:15:38.073000000  Consultation   \n",
       "1  2020-07-25 02:00:36.877000000  2020-07-25 02:15:36.877000000  Consultation   \n",
       "2  2020-07-12 17:00:15.833000000  2020-07-12 17:15:15.833000000  Consultation   \n",
       "3  2020-07-29 05:00:13.133000000  2020-07-29 05:15:13.133000000  Consultation   \n",
       "4  2020-08-01 02:30:56.457000000  2020-08-01 02:45:56.460000000  Consultation   \n",
       "\n",
       "  Virtual  \n",
       "0     NaN  \n",
       "1     NaN  \n",
       "2     NaN  \n",
       "3     NaN  \n",
       "4     NaN  "
      ]
     },
     "execution_count": 54,
     "metadata": {},
     "output_type": "execute_result"
    }
   ],
   "source": [
    "appoint_db.head()"
   ]
  },
  {
   "cell_type": "code",
   "execution_count": 55,
   "id": "55d4050e",
   "metadata": {},
   "outputs": [
    {
     "data": {
      "text/plain": [
       "320140"
      ]
     },
     "execution_count": 55,
     "metadata": {},
     "output_type": "execute_result"
    }
   ],
   "source": [
    "appoint_db.shape[0]"
   ]
  },
  {
   "cell_type": "code",
   "execution_count": 56,
   "id": "2b512ec4",
   "metadata": {},
   "outputs": [],
   "source": [
    "appoint_db=appoint_db.drop_duplicates(subset='apptid')"
   ]
  },
  {
   "cell_type": "code",
   "execution_count": 57,
   "id": "c55ed181",
   "metadata": {},
   "outputs": [
    {
     "data": {
      "text/plain": [
       "320140"
      ]
     },
     "execution_count": 57,
     "metadata": {},
     "output_type": "execute_result"
    }
   ],
   "source": [
    "appoint_db.shape[0]"
   ]
  },
  {
   "cell_type": "markdown",
   "id": "3381335f",
   "metadata": {},
   "source": [
    "Appointments seem to have valid data."
   ]
  },
  {
   "cell_type": "markdown",
   "id": "36b36721-489e-4a15-8c96-da04231d9e27",
   "metadata": {},
   "source": [
    "# Doctors"
   ]
  },
  {
   "cell_type": "code",
   "execution_count": 58,
   "id": "76bd7c6a-da31-4102-927f-e69553171809",
   "metadata": {
    "tags": []
   },
   "outputs": [],
   "source": [
    "doctors_db = pd.read_csv(\"doctors.csv\", encoding = \"ISO-8859-1\")"
   ]
  },
  {
   "cell_type": "code",
   "execution_count": 59,
   "id": "9a9972e3-06ca-411f-927c-c66e97f8e323",
   "metadata": {
    "tags": []
   },
   "outputs": [
    {
     "name": "stdout",
     "output_type": "stream",
     "text": [
      "<class 'pandas.core.frame.DataFrame'>\n",
      "RangeIndex: 60024 entries, 0 to 60023\n",
      "Data columns (total 3 columns):\n",
      " #   Column         Non-Null Count  Dtype  \n",
      "---  ------         --------------  -----  \n",
      " 0   doctorid       60024 non-null  object \n",
      " 1   mainspecialty  27055 non-null  object \n",
      " 2   age            20028 non-null  float64\n",
      "dtypes: float64(1), object(2)\n",
      "memory usage: 1.4+ MB\n"
     ]
    }
   ],
   "source": [
    "doctors_db.info()"
   ]
  },
  {
   "cell_type": "code",
   "execution_count": 60,
   "id": "698e5f0e-9db7-4906-9fe6-3bec73090ac0",
   "metadata": {
    "tags": []
   },
   "outputs": [
    {
     "data": {
      "text/plain": [
       "mainspecialty\n",
       "Internal Medicine                           3812\n",
       "General Medicine                            2317\n",
       "Pediatrics                                  1709\n",
       "Family Medicine                              894\n",
       "General Physician                            881\n",
       "                                            ... \n",
       "General Physician (Pediatrics and Adult)       1\n",
       "Marc                                           1\n",
       "Orthopaedics (Bone and Joint Surgery)          1\n",
       "Generalists                                    1\n",
       "Allergist                                      1\n",
       "Name: count, Length: 3973, dtype: int64"
      ]
     },
     "execution_count": 60,
     "metadata": {},
     "output_type": "execute_result"
    }
   ],
   "source": [
    "doctors_db['mainspecialty'].value_counts()"
   ]
  },
  {
   "cell_type": "code",
   "execution_count": 61,
   "id": "2829619f-2b7b-4709-b405-35bd5e0b7039",
   "metadata": {
    "tags": []
   },
   "outputs": [
    {
     "data": {
      "text/plain": [
       "array(['General Medicine', 'Family Medicine', 'Vascular Medicine', ...,\n",
       "       'Bone alignment therapy', 'Healot Biomekaniks', 'Allergist'],\n",
       "      dtype=object)"
      ]
     },
     "execution_count": 61,
     "metadata": {},
     "output_type": "execute_result"
    }
   ],
   "source": [
    "doctors_db['mainspecialty'].unique()\n"
   ]
  },
  {
   "cell_type": "code",
   "execution_count": 62,
   "id": "52b372fe",
   "metadata": {},
   "outputs": [],
   "source": [
    "# WIP, also idk how to drop the stuff thats in the list so if yall know how pls lmk ee\n",
    "doctors_db = doctors_db[~doctors_db[\"mainspecialty\"].isin([\"Test\", \"Endocrinology (test)\", \"Testing\", \"test\", \"abc\", \"bbbb\", \"abbb\",\n",
    " \"isiwiwiw\", \"super saiyan\", \"Db\", \"Ll\", \"Main\", \"m\", \"as\", \"ggg\", \"SolSee\",  \"ya\", \"1\", \"MainS\", \"1231\", \"123\", \"MS\",  \"xxx\", \"asd\", \"F?s????e?ape?t??\",\n",
    "   \"MainSpecialty\", \"kirurgji\", \"zxczcxcxzcxz\", \"ABCD\", \"b\", \"L\", \"RN/A\", \"123123\", \"AAAAAAAAAAA\", \"A\", \"AAA\", \"Omomi\", \"afsf\", \"Hjj\",  \"aoeu\", \"ooooo\", \n",
    "   \"'><img src=x onerror=prompt(1)>\", \"s\",\"a\", \"gaga\", \"man\", \"M\", \"Things\", \"aaaaaaaaaaa\", \"Com\", \"nope\", \"Rrr\", \"IDK\", \"B\",\n",
    "   \"Aaa\", \"Yy\", \"lkjsadlfkj\", \"kdsjflkfdsjg\", \"Yg\", \"Me :)\", \"Breeding Uroplatus\", \"Absenos\", \"qweqwe\", \"zzz\", \"nnnnnn\", \"sdf\",\n",
    "   \"Special\",\"n\",\"12\", \"AGREE\", \"Dhjdu\", \"Me\", \"Md\", \"Help\", \"P\", \"43\", \"fdgf\", \"ertryty\", \"sdaf\", \"sdfsda\",\n",
    "   \"Est qui minim et au\", \"Hull Engineering\", \"Ghhhhj\", \"Computer Science And Technology\", \"Gsu\", \"fhhhf\",\n",
    "   \"Ttt\", \"Ship handling\", \"acctg\", \"Gh\", \"Specialty 1\",  \"Specialty\", \"Ok\", \"Human Resources\", \"Web Development\",\n",
    "   \"ABC\", \"ertertertert ertert\", \"Degree\", \"patient\", \"Test account\", \".\", \"main specialty\", \"Web Developer\",\n",
    "   \"F\", \"Welder pipe filter\", \"Patienr\", \"Sorry wrong sign up\", \"sdd\", \"Helping mother to gave birth by normal delivery\",\n",
    "   \"Hshshs\", \"w\", \"Hahaha\", \"Test Only\", \"Babag\", \"computer science\", \"accounting\", \"Test Specilty\", \"kik\", \"Sdj\",\n",
    "   \"Bdjsp\", \"finane\", \"Being Me\", \"3\", \"tester\", \"Major in accountancy\", \"any\", \"CS\", \"I\", \"Bshshshs\",\n",
    "    \"FN\", \"sccs\", \"moon light\", \"No\", \"User\", \"asfasfsaf\", \"awf\", \"asdf\", \"Shejsjj\", \"Elecrical\", \"dd\", \"bba\", \"N\", \"x\",\"Internet\",\n",
    "    \"HACKING\",\"Worker\",\"Her\", \"f\", \"Lalala\", \"Hh\", \"core\", \"Fpsedm\", \"Sales\", \"cc\", \"Sample\", \"Sen\", \"Level 1 Hospital\",\n",
    "    \"Ghetto\", \"maka\", \"Sick\", \"Qui culpa in quo ea\", \"Bab\", \"bussiness\", \"sasa\", \"yes\", \"BEEd\", \"Bsb\", \"Hhh\", \"Restaurants\",\n",
    "    \"Bvv\", \"X\", \"000\", \"Kakakak\", \"Fabricator\", \"English\", \"Ddsdaa\", \"222\", \"Ids\", \"tests\", \"Consult\", \"I need Medicine\",\n",
    "    \"Shy caustic  \", \"English Language Studies\", \"dwadawd\", \"da\", \"wada\", \"fawawf\", \"Housewife\", \"hba1c\", \"H\", \"bjj\",\n",
    "    \"hjikjjbh\", \"Calvin Smith\", \"Pineapple Processing\", \"What\", \"Shaman\", \"hhhbb\", \"banking\", \"Design\", \"broken colarbone\",\n",
    "    \"S\", \"Hahahahah\",\"Hsha\",\"Hsha\", \"asdas\", \"trial\", \"sir\", \"asdasd\", \"jj\", \"ef\", \"a/a\", \"ad\", \"adasd\", \"cfvhgbjnk\", \"sample\",\n",
    "    \"sh\", \"Snsjsj\", \"das\", \"bhb\", \"im not a doctor\", \"Q\", \"--\", \"vv\", \"Bsbs\", \"Nil\",\"Ndhdbehbsjshs\", \"Seafarer\", \"to\", \"On\",\n",
    "    \"Bbbb\", \"hah\", \"ghbb\", \"need a demtology\", \"cxxxc\", \"Mother\", \"Resting\", \"2\", \"medcert\", \"Aa\", \"c\", \"J\", \"IMMKMLKSMDLKMS\",\n",
    "    \"aaa\", \"Gygghh\", \"Hshhs\", \"Xisis\", \"Not A Doctor\", \"guycvujb\", \"hhh\", \"qqq\", \"dfghdfjh\", \"to motivate\", \"W\", \"Asksbdkdnd\",\n",
    "    \"Shshaha\", \"k\", \"nejdhdjdjdh\", \"For check up\", \"Check up\", \"Wrong Entry\", \"Partner Visa\", \"fdd\", \"All\", \"jsjsjsja\", \"LLala\",\n",
    "    \"Bbb\", \"Jajan\", \"Snsnd\", \"",
    "\", \"FOLLOW UP\", \"hdh\", \"enen\", \"js\", \"wqeqwe\"\n",
    "   ])]\n",
    "\n",
    "doctors_db = doctors_db.replace(to_replace=[\"docmark_coli@yahoo.com\",\"Leading You To True Health\",\"SURGUYYY\",\"Doctor\",\"logistics\", \"In\", \"main\",\"3D\", \n",
    "\"event coordinator\", \"a/a\", \"ad\", \"SPECIALTY\", \"non\", \"Loves Kids\", \"Bed Making\",\"ONLINE KONSULTA\",\"DR.RUSSEL VILLANUEVA\",\n",
    "\"FAMED\", \"Your Health Is Our Priority\", \"-\", \"na\", \"Patient\", \"Nothing\", \" \", \"Na\", \"RALPh Roque\", \"RN\", \"Jennifer Apurillo Baldillo\",\n",
    "\"appointments\", \"Marc\", \"N/a\", \"Trisha Reyes\", \"Not Sure\", \"OSH\", \"Dr. Anna Mitzi Matela\", \"Vnc\",\"Dra. beverly\",\n",
    "\"Valerie Ann  Valdez\", \"Gonzalez\", \"NONE\", \"Wala\", \"MBA\", \"Agnes Atas\", \"Too many to mention\", \"None \", \"Oliver Delgado Castro\",\n",
    "\"N/A \", \"Valdez\", \"Faye Garciano\", \"Need Consultant Of Doctor Before Vaccine\", \"N.A\", \"n.a\",\"0\", \"nan\", \"VA\", \"none\", \"PGI\",\n",
    "\"La\", \"Second opinion\", \"Luisa marie s cruz\", \"ERN\", \"Herrera\", \"-\", \"MeFocal cert\", \"Nothings \", \"Orjto\", \"Mr.\", \"Makati med\",\n",
    "\"mr\", \"doc\", \"Doc\", \"Cruz\", \". \", \"Allen Marquez\", \"131375\", \"Azarraga\", \"Skip\", \"??\", \"515828\", \"no\", \"Nonde\", \"Fermont Base\", \n",
    "\"Juan Rafael\", \"Benoza\", \"Yu\", \"jana\", \"Joshua Bacolod\", \"unknown\"\n",
    "], value=\"Unknown\")\n",
    "\n",
    "unique_specialty = doctors_db['mainspecialty'].unique()\n"
   ]
  },
  {
   "cell_type": "code",
   "execution_count": 63,
   "id": "9b801215-ca20-4800-9127-ca472a969795",
   "metadata": {
    "tags": []
   },
   "outputs": [
    {
     "data": {
      "text/plain": [
       "array([  41.,   43.,   26.,   34.,   50.,   62.,   38.,   57.,   44.,\n",
       "         59.,   39.,   49.,   55.,   37.,   nan,   40.,   48.,   51.,\n",
       "         46.,   45.,   54.,   61.,   60.,   31.,   65.,   36.,   72.,\n",
       "         64.,   35.,   47.,   33.,   68.,   42.,   73.,   53.,   58.,\n",
       "         71.,   52.,   56.,   67.,   63.,   66.,   81.,   69.,  160.,\n",
       "         70., 1048.,   32.,   91.,   75.,   30.,   78.,   76.,   27.,\n",
       "         29.,   74.,    8.,    7.,   28.,  124.,   80.,  113.,   24.,\n",
       "         25.,   92.,   77.,  104.,   23.,   83.,    4.,   86.,   88.,\n",
       "         21.,   22.,   84.,   79.,  944.,   17.,  132.,   85.,  938.])"
      ]
     },
     "execution_count": 63,
     "metadata": {},
     "output_type": "execute_result"
    }
   ],
   "source": [
    "doctors_db['age'].unique()"
   ]
  },
  {
   "cell_type": "code",
   "execution_count": 64,
   "id": "e9934a0c-555c-484c-ab82-0cc8ab8eaadd",
   "metadata": {
    "tags": []
   },
   "outputs": [
    {
     "data": {
      "text/plain": [
       "age\n",
       "34.0     1203\n",
       "35.0     1076\n",
       "33.0      972\n",
       "37.0      969\n",
       "36.0      950\n",
       "         ... \n",
       "4.0         1\n",
       "83.0        1\n",
       "124.0       1\n",
       "92.0        1\n",
       "938.0       1\n",
       "Name: count, Length: 80, dtype: int64"
      ]
     },
     "execution_count": 64,
     "metadata": {},
     "output_type": "execute_result"
    }
   ],
   "source": [
    "doctors_db['age'].value_counts()"
   ]
  },
  {
   "cell_type": "code",
   "execution_count": 65,
   "id": "b01235fc",
   "metadata": {},
   "outputs": [
    {
     "data": {
      "text/plain": [
       "doctorid         False\n",
       "mainspecialty     True\n",
       "age               True\n",
       "dtype: bool"
      ]
     },
     "execution_count": 65,
     "metadata": {},
     "output_type": "execute_result"
    }
   ],
   "source": [
    "doctors_db.isnull().any()"
   ]
  },
  {
   "cell_type": "code",
   "execution_count": 66,
   "id": "e9423761",
   "metadata": {
    "scrolled": true
   },
   "outputs": [
    {
     "data": {
      "text/plain": [
       "32969"
      ]
     },
     "execution_count": 66,
     "metadata": {},
     "output_type": "execute_result"
    }
   ],
   "source": [
    "doctors_db['mainspecialty'].isnull().sum().sum()"
   ]
  },
  {
   "cell_type": "code",
   "execution_count": 67,
   "id": "7b7f38cb",
   "metadata": {},
   "outputs": [],
   "source": [
    "doctors_db['age'] = pd.to_numeric(doctors_db['age'], errors='coerce').astype('Int64')"
   ]
  },
  {
   "cell_type": "code",
   "execution_count": 68,
   "id": "008327e8",
   "metadata": {},
   "outputs": [],
   "source": [
    "#replace outliers with mode\n",
    "doctors_db['age'] = doctors_db['age'].mask(doctors_db['age'] > 100, doctors_db['age'].mode())"
   ]
  },
  {
   "cell_type": "code",
   "execution_count": 69,
   "id": "bd1636b5",
   "metadata": {},
   "outputs": [
    {
     "data": {
      "text/plain": [
       "<IntegerArray>\n",
       "[  41,   43,   26,   34,   50,   62,   38,   57,   44,   59,   39,   49,   55,\n",
       "   37, <NA>,   40,   48,   51,   46,   45,   54,   61,   60,   31,   65,   36,\n",
       "   72,   64,   35,   47,   33,   68,   42,   73,   53,   58,   71,   52,   56,\n",
       "   67,   63,   66,   81,   69,   70,   32,   91,   75,   30,   78,   76,   27,\n",
       "   29,   74,    8,    7,   28,   80,   24,   25,   92,   77,   23,   83,    4,\n",
       "   86,   88,   21,   22,   84,   79,   17,   85]\n",
       "Length: 73, dtype: Int64"
      ]
     },
     "execution_count": 69,
     "metadata": {},
     "output_type": "execute_result"
    }
   ],
   "source": [
    "doctors_db['age'].unique()"
   ]
  },
  {
   "cell_type": "code",
   "execution_count": 70,
   "id": "66dbf5ce",
   "metadata": {},
   "outputs": [],
   "source": [
    "# change N/A values to the mode of the dataframe\n",
    "doctors_db['age'].fillna(value=doctors_db['age'].mode().iloc[0], inplace=True)"
   ]
  },
  {
   "cell_type": "code",
   "execution_count": 71,
   "id": "4ba35154",
   "metadata": {},
   "outputs": [
    {
     "data": {
      "text/plain": [
       "0"
      ]
     },
     "execution_count": 71,
     "metadata": {},
     "output_type": "execute_result"
    }
   ],
   "source": [
    "doctors_db['age'].isnull().sum().sum()"
   ]
  },
  {
   "cell_type": "code",
   "execution_count": 72,
   "id": "849ba39d",
   "metadata": {},
   "outputs": [
    {
     "data": {
      "text/plain": [
       "doctorid         False\n",
       "mainspecialty     True\n",
       "age              False\n",
       "dtype: bool"
      ]
     },
     "execution_count": 72,
     "metadata": {},
     "output_type": "execute_result"
    }
   ],
   "source": [
    "doctors_db.isnull().any()"
   ]
  },
  {
   "cell_type": "code",
   "execution_count": 73,
   "id": "0c76ebf4",
   "metadata": {},
   "outputs": [],
   "source": [
    "#replace null values with Unknown string\n",
    "doctors_db['mainspecialty'].fillna('Unknown', inplace=True)"
   ]
  },
  {
   "cell_type": "code",
   "execution_count": 74,
   "id": "6ada0607",
   "metadata": {},
   "outputs": [
    {
     "data": {
      "text/plain": [
       "0"
      ]
     },
     "execution_count": 74,
     "metadata": {},
     "output_type": "execute_result"
    }
   ],
   "source": [
    "doctors_db['mainspecialty'].isnull().sum().sum()"
   ]
  },
  {
   "cell_type": "code",
   "execution_count": 75,
   "id": "9ad53d9a",
   "metadata": {},
   "outputs": [
    {
     "data": {
      "text/plain": [
       "59602"
      ]
     },
     "execution_count": 75,
     "metadata": {},
     "output_type": "execute_result"
    }
   ],
   "source": [
    "doctors_db.shape[0]"
   ]
  },
  {
   "cell_type": "code",
   "execution_count": 76,
   "id": "59e691ed",
   "metadata": {},
   "outputs": [],
   "source": [
    "doctors_db = doctors_db.drop_duplicates(subset='doctorid')"
   ]
  },
  {
   "cell_type": "code",
   "execution_count": 77,
   "id": "98870df5",
   "metadata": {},
   "outputs": [
    {
     "data": {
      "text/plain": [
       "59602"
      ]
     },
     "execution_count": 77,
     "metadata": {},
     "output_type": "execute_result"
    }
   ],
   "source": [
    "doctors_db.shape[0]"
   ]
  },
  {
   "cell_type": "markdown",
   "id": "bb61a92f-1727-495a-968a-13d975b9730c",
   "metadata": {},
   "source": [
    "# Exporting the CSV"
   ]
  },
  {
   "cell_type": "code",
   "execution_count": 78,
   "id": "5010ccac",
   "metadata": {
    "tags": []
   },
   "outputs": [],
   "source": [
    "doctors_db.to_csv('doctors_modified.csv')"
   ]
  },
  {
   "cell_type": "code",
   "execution_count": 79,
   "id": "3f67a367-41af-4c64-9600-452c613a790a",
   "metadata": {
    "tags": []
   },
   "outputs": [],
   "source": [
    "px_db.to_csv('px_modified.csv')"
   ]
  },
  {
   "cell_type": "code",
   "execution_count": 80,
   "id": "6160835f-c09c-4dc3-875e-593ab1f9fbb8",
   "metadata": {
    "tags": []
   },
   "outputs": [],
   "source": [
    "clinics_db.to_csv('clinics_modified.csv')"
   ]
  },
  {
   "cell_type": "code",
   "execution_count": 81,
   "id": "cd379df2-ad14-41ca-87dd-7a7925ded419",
   "metadata": {
    "tags": []
   },
   "outputs": [],
   "source": [
    "appoint_db.to_csv('appointments_modifed.csv')"
   ]
  }
 ],
 "metadata": {
  "kernelspec": {
   "display_name": "Python 3 (ipykernel)",
   "language": "python",
   "name": "python3"
  },
  "language_info": {
   "codemirror_mode": {
    "name": "ipython",
    "version": 3
   },
   "file_extension": ".py",
   "mimetype": "text/x-python",
   "name": "python",
   "nbconvert_exporter": "python",
   "pygments_lexer": "ipython3",
   "version": "3.11.5"
  }
 },
 "nbformat": 4,
 "nbformat_minor": 5
}
