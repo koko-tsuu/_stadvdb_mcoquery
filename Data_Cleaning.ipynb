{
 "cells": [
  {
   "cell_type": "code",
<<<<<<< HEAD
   "execution_count": 9,
=======
   "execution_count": 2,
>>>>>>> 8b8ca7c9c18414acaeb5f9db1572bccf7548a142
   "id": "3fdc0dc5-8bbb-4ebb-a56d-6335f4074839",
   "metadata": {
    "tags": []
   },
   "outputs": [],
   "source": [
    "import pandas as pd\n",
    "import numpy as np"
   ]
  },
  {
   "cell_type": "markdown",
   "id": "1f6f58e3-ae34-4ff4-b676-a5d4274a6617",
   "metadata": {},
   "source": [
    "# PX"
   ]
  },
  {
   "cell_type": "code",
<<<<<<< HEAD
   "execution_count": 10,
=======
   "execution_count": 3,
>>>>>>> 8b8ca7c9c18414acaeb5f9db1572bccf7548a142
   "id": "e51cedeb-5053-4747-85ab-edaf2d753dd4",
   "metadata": {
    "tags": []
   },
   "outputs": [
    {
     "name": "stderr",
     "output_type": "stream",
     "text": [
<<<<<<< HEAD
      "C:\\Users\\jeova\\AppData\\Local\\Temp\\ipykernel_33616\\1507163651.py:1: DtypeWarning: Columns (1) have mixed types. Specify dtype option on import or set low_memory=False.\n",
=======
      "C:\\Users\\Corazon\\AppData\\Local\\Temp\\ipykernel_13572\\1507163651.py:1: DtypeWarning: Columns (1) have mixed types. Specify dtype option on import or set low_memory=False.\n",
>>>>>>> 8b8ca7c9c18414acaeb5f9db1572bccf7548a142
      "  px_db = pd.read_csv(\"px.csv\")\n"
     ]
    }
   ],
   "source": [
    "px_db = pd.read_csv(\"px.csv\")"
   ]
  },
  {
   "cell_type": "code",
<<<<<<< HEAD
   "execution_count": 11,
=======
   "execution_count": 4,
>>>>>>> 8b8ca7c9c18414acaeb5f9db1572bccf7548a142
   "id": "0b43ccb7-8851-47e8-8cff-8165cc372747",
   "metadata": {
    "tags": []
   },
   "outputs": [
    {
     "name": "stdout",
     "output_type": "stream",
     "text": [
      "<class 'pandas.core.frame.DataFrame'>\n",
      "RangeIndex: 6507813 entries, 0 to 6507812\n",
      "Data columns (total 3 columns):\n",
      " #   Column  Dtype \n",
      "---  ------  ----- \n",
      " 0   pxid    object\n",
      " 1   age     object\n",
      " 2   gender  object\n",
      "dtypes: object(3)\n",
      "memory usage: 149.0+ MB\n"
     ]
    }
   ],
   "source": [
    "px_db.info()"
   ]
  },
  {
   "cell_type": "code",
<<<<<<< HEAD
   "execution_count": 12,
=======
   "execution_count": 5,
>>>>>>> 8b8ca7c9c18414acaeb5f9db1572bccf7548a142
   "id": "1326121b-2a40-4333-981e-3c532e1f2242",
   "metadata": {
    "tags": []
   },
   "outputs": [
    {
     "data": {
      "text/plain": [
       "pxid      False\n",
       "age        True\n",
       "gender    False\n",
       "dtype: bool"
      ]
     },
<<<<<<< HEAD
     "execution_count": 12,
=======
     "execution_count": 5,
>>>>>>> 8b8ca7c9c18414acaeb5f9db1572bccf7548a142
     "metadata": {},
     "output_type": "execute_result"
    }
   ],
   "source": [
    "px_db.isnull().any()"
   ]
  },
  {
   "cell_type": "code",
<<<<<<< HEAD
   "execution_count": 13,
=======
   "execution_count": 6,
>>>>>>> 8b8ca7c9c18414acaeb5f9db1572bccf7548a142
   "id": "503e46a4-cb5d-4e87-8d57-0c244cfbdb72",
   "metadata": {
    "tags": []
   },
   "outputs": [
    {
     "data": {
      "text/plain": [
       "gender\n",
       "FEMALE    3642569\n",
       "MALE      2865243\n",
       "gender          1\n",
       "Name: count, dtype: int64"
      ]
     },
<<<<<<< HEAD
     "execution_count": 13,
=======
     "execution_count": 6,
>>>>>>> 8b8ca7c9c18414acaeb5f9db1572bccf7548a142
     "metadata": {},
     "output_type": "execute_result"
    }
   ],
   "source": [
    "px_db['gender'].value_counts()"
   ]
  },
  {
   "cell_type": "code",
<<<<<<< HEAD
   "execution_count": 14,
=======
   "execution_count": 7,
>>>>>>> 8b8ca7c9c18414acaeb5f9db1572bccf7548a142
   "id": "9ef7ad04-145d-4c6e-ac5c-f5caa8e200a9",
   "metadata": {
    "tags": []
   },
   "outputs": [
    {
     "data": {
      "text/plain": [
       "array(['FEMALE', 'MALE', 'gender'], dtype=object)"
      ]
     },
<<<<<<< HEAD
     "execution_count": 14,
=======
     "execution_count": 7,
>>>>>>> 8b8ca7c9c18414acaeb5f9db1572bccf7548a142
     "metadata": {},
     "output_type": "execute_result"
    }
   ],
   "source": [
    "px_db['gender'].unique()"
   ]
  },
  {
   "cell_type": "code",
<<<<<<< HEAD
   "execution_count": 15,
=======
   "execution_count": 8,
>>>>>>> 8b8ca7c9c18414acaeb5f9db1572bccf7548a142
   "id": "91c18759-77c7-4cf6-aa83-ff7beb94d1c6",
   "metadata": {
    "tags": []
   },
   "outputs": [
    {
     "data": {
      "text/plain": [
       "age\n",
       "54.0    168715\n",
       "29.0    137917\n",
       "28.0    133735\n",
       "32.0    133021\n",
       "31.0    132988\n",
       "         ...  \n",
       "-954         1\n",
       "-5           1\n",
       "-947         1\n",
       "-57          1\n",
       "-996         1\n",
       "Name: count, Length: 522, dtype: int64"
      ]
     },
<<<<<<< HEAD
     "execution_count": 15,
=======
     "execution_count": 8,
>>>>>>> 8b8ca7c9c18414acaeb5f9db1572bccf7548a142
     "metadata": {},
     "output_type": "execute_result"
    }
   ],
   "source": [
    "px_db['age'].value_counts()"
   ]
  },
  {
   "cell_type": "code",
<<<<<<< HEAD
   "execution_count": 16,
=======
   "execution_count": 9,
>>>>>>> 8b8ca7c9c18414acaeb5f9db1572bccf7548a142
   "id": "54156532-6589-464d-bf36-5cb4ea5f1338",
   "metadata": {
    "scrolled": true,
    "tags": []
   },
   "outputs": [
    {
     "data": {
      "text/plain": [
       "array([nan, 8.0, 2.0, 54.0, 67.0, 89.0, 31.0, 59.0, 14.0, 34.0, 29.0,\n",
       "       60.0, 32.0, 33.0, 1.0, 27.0, 65.0, 64.0, 5.0, 62.0, 40.0, 50.0,\n",
       "       6.0, 83.0, 69.0, 37.0, 22.0, 42.0, 78.0, 55.0, 48.0, 81.0, 66.0,\n",
       "       58.0, 82.0, 44.0, 43.0, 30.0, 79.0, 38.0, 74.0, 26.0, 70.0, 36.0,\n",
       "       9.0, 93.0, 12.0, 23.0, 21.0, 72.0, 4.0, 63.0, 80.0, 61.0, 16.0,\n",
       "       20.0, 18.0, 11.0, 46.0, 45.0, 49.0, 71.0, 35.0, 25.0, 28.0, 53.0,\n",
       "       57.0, 41.0, 52.0, 86.0, 3.0, 24.0, 47.0, 90.0, 10.0, 87.0, 77.0,\n",
       "       51.0, 73.0, 76.0, 13.0, 56.0, 75.0, 39.0, 15.0, 7.0, 17.0, 68.0,\n",
       "       19.0, 0.0, 105.0, 84.0, 88.0, 92.0, 101.0, 95.0, 96.0, 98.0, 124.0,\n",
       "       91.0, 85.0, 99.0, -182.0, 94.0, 97.0, -24.0, 113.0, 100.0, -962.0,\n",
       "       -9.0, 106.0, -20.0, 115.0, 123.0, 104.0, 102.0, 122.0, -13.0,\n",
       "       103.0, -964.0, -960.0, -75.0, -897.0, -968.0, -35.0, -57.0, -947.0,\n",
       "       -5.0, -954.0, 107.0, -932.0, -974.0, -16.0, -18.0, -944.0, -6.0,\n",
       "       -4.0, -926.0, -939.0, -936.0, -49.0, -3.0, -953.0, -972.0, -85.0,\n",
       "       -970.0, -7.0, -12.0, -1.0, -929.0, -178.0, -921.0, 117.0, 176.0,\n",
       "       -19.0, 108.0, 189.0, 184.0, -43.0, -23.0, -39.0, 143.0, 109.0,\n",
       "       -63.0, -967.0, 174.0, 167.0, -22.0, -51.0, 162.0, 148.0, 153.0,\n",
       "       -928.0, 181.0, 112.0, 151.0, -935.0, -2.0, -937.0, 110.0, 224.0,\n",
       "       135.0, -21.0, -975.0, 149.0, -25.0, 150.0, 170.0, -10.0, -176.0,\n",
       "       -976.0, -893.0, -940.0, -966.0, -14.0, -53.0, -887.0, -958.0,\n",
       "       -899.0, -946.0, -8.0, 173.0, 188.0, 183.0, 157.0, 111.0, -925.0,\n",
       "       120.0, 141.0, -77.0, -82.0, 191.0, 171.0, 180.0, -919.0, 178.0,\n",
       "       -30.0, -181.0, '76', '24', '56', '41', '52', '26', '43', '70',\n",
       "       '77', '51', '57', '32', '74', '23', '39', '25', '37', '69', '29',\n",
       "       '59', '63', '85', '45', '28', '4', '87', '65', '38', '7', '40',\n",
       "       '31', '35', '97', '36', '72', '11', '34', '61', '48', '75', '30',\n",
       "       '79', '49', '98', '53', '42', '91', '82', '71', '58', '27', '88',\n",
       "       '62', '60', '90', '44', '54', '55', '68', '46', '5', '67', '64',\n",
       "       '92', '33', '86', '50', '94', '20', '73', '15', '66', '47', '14',\n",
       "       '6', '102', '21', '78', '89', '103', '83', '95', '22', '81', '1',\n",
       "       '99', '19', '80', '17', '93', '2', '13', '12', '84', '9', '16',\n",
       "       '18', '10', '3', '96', '101', '105', '100', '8', '187', '106', '0',\n",
       "       '119', '-2', '-73', '124', '115', '-3', '104', '110', '112', '167',\n",
       "       '107', '-21', '191', '-23', '163', '-946', '113', '-939', '109',\n",
       "       '171', '192', '108', '141', '-22', '-966', '-25', 'age', '-182',\n",
       "       '-24', '-962', '-9', '-20', '123', '122', '-13', '-964', '-960',\n",
       "       '-75', '-897', '-968', '-35', '-57', '-947', '-5', '-954', '-932',\n",
       "       '-974', 187.0, 119.0, -73.0, 163.0, 192.0, 118.0, -70.0, -930.0,\n",
       "       -37.0, -952.0, -973.0, -956.0, -15.0, -927.0, -945.0, -36.0, -54.0,\n",
       "       -959.0, -2931.0, 114.0, -31.0, 166.0, -61.0, 155.0, -33.0, -949.0,\n",
       "       -971.0, 121.0, 154.0, -943.0, -920.0, 175.0, 169.0, -118.0, 179.0,\n",
       "       -942.0, -58.0, -11.0, 126.0, -56.0, -66.0, -17.0, -955.0, 206.0,\n",
       "       156.0, 168.0, 144.0, -97.0, 195.0, -27.0, 161.0, 145.0, 125.0,\n",
       "       -72.0, -29.0, 139.0, -55.0, -80.0, -79.0, -913.0, -83.0, -894.0,\n",
       "       -81.0, -40.0, -951.0, -965.0, 165.0, -71.0, 136.0, 172.0, -948.0,\n",
       "       -45.0, 159.0, -950.0, -891.0, -180.0, 116.0, 186.0, -74.0, -76.0,\n",
       "       -84.0, -908.0, 147.0, 201.0, 129.0, -892.0, -183.0, -933.0, -969.0,\n",
       "       -889.0, -26.0, -60.0, -931.0, -890.0, -898.0, -177.0, -961.0,\n",
       "       236.0, 271.0, -28.0, 160.0, -934.0, -963.0, -957.0, -50.0, -888.0,\n",
       "       -67.0, -916.0, -86.0, -42.0, -918.0, -941.0, -895.0, -185.0, -924,\n",
       "       132, -923, -198, -88, -64, -184, -6195, 146, 152, 196, -93, -179,\n",
       "       -938, -47, 142, -917, -69, -922, -46, -549, -251, -1030, -625,\n",
       "       -1152, -59, -1173, -32, -5894, 164, -5960, -5175, -793, -7975,\n",
       "       -5965, -5968, -996], dtype=object)"
      ]
     },
<<<<<<< HEAD
     "execution_count": 16,
=======
     "execution_count": 9,
>>>>>>> 8b8ca7c9c18414acaeb5f9db1572bccf7548a142
     "metadata": {},
     "output_type": "execute_result"
    }
   ],
   "source": [
    "px_db['age'].unique()"
   ]
  },
  {
   "cell_type": "code",
<<<<<<< HEAD
   "execution_count": 17,
=======
   "execution_count": 10,
>>>>>>> 8b8ca7c9c18414acaeb5f9db1572bccf7548a142
   "id": "280fb8c2",
   "metadata": {},
   "outputs": [
    {
     "data": {
      "text/plain": [
       "True"
      ]
     },
<<<<<<< HEAD
     "execution_count": 17,
=======
     "execution_count": 10,
>>>>>>> 8b8ca7c9c18414acaeb5f9db1572bccf7548a142
     "metadata": {},
     "output_type": "execute_result"
    }
   ],
   "source": [
    "# check for duplicates\n",
    "px_db.duplicated().any()"
   ]
  },
  {
   "cell_type": "code",
<<<<<<< HEAD
   "execution_count": 18,
=======
   "execution_count": 11,
>>>>>>> 8b8ca7c9c18414acaeb5f9db1572bccf7548a142
   "id": "da43f153",
   "metadata": {},
   "outputs": [],
   "source": [
    "# drop the said duplicates\n",
    "px_db = px_db.drop_duplicates()"
   ]
  },
  {
   "cell_type": "code",
<<<<<<< HEAD
   "execution_count": 19,
=======
   "execution_count": 12,
>>>>>>> 8b8ca7c9c18414acaeb5f9db1572bccf7548a142
   "id": "f937c8f1",
   "metadata": {},
   "outputs": [
    {
     "data": {
      "text/plain": [
       "False"
      ]
     },
<<<<<<< HEAD
     "execution_count": 19,
=======
     "execution_count": 12,
>>>>>>> 8b8ca7c9c18414acaeb5f9db1572bccf7548a142
     "metadata": {},
     "output_type": "execute_result"
    }
   ],
   "source": [
    "px_db.duplicated().any()"
   ]
  },
  {
   "cell_type": "code",
<<<<<<< HEAD
   "execution_count": 20,
=======
   "execution_count": 13,
>>>>>>> 8b8ca7c9c18414acaeb5f9db1572bccf7548a142
   "id": "181629b4",
   "metadata": {},
   "outputs": [],
   "source": [
    "# convert all strings to int\n",
    "px_db['age'] = pd.to_numeric(px_db['age'], errors='coerce').astype('Int64')"
   ]
  },
  {
   "cell_type": "code",
<<<<<<< HEAD
   "execution_count": 21,
=======
   "execution_count": 14,
>>>>>>> 8b8ca7c9c18414acaeb5f9db1572bccf7548a142
   "id": "1572b0df",
   "metadata": {},
   "outputs": [],
   "source": [
    "# change N/A values to the mode of the dataframe\n",
    "px_db['age'].fillna(px_db['age'].where(px_db['age'] > 0).mode().iloc[0], inplace=True)"
   ]
  },
  {
   "cell_type": "code",
<<<<<<< HEAD
   "execution_count": 22,
=======
   "execution_count": 15,
>>>>>>> 8b8ca7c9c18414acaeb5f9db1572bccf7548a142
   "id": "82ccfdff",
   "metadata": {},
   "outputs": [
    {
     "data": {
      "text/plain": [
       "<IntegerArray>\n",
       "[   54,     8,     2,    67,    89,    31,    59,    14,    34,    29,\n",
       " ...\n",
       "   -32, -5894,   164, -5960, -5175,  -793, -7975, -5965, -5968,  -996]\n",
       "Length: 368, dtype: Int64"
      ]
     },
<<<<<<< HEAD
     "execution_count": 22,
=======
     "execution_count": 15,
>>>>>>> 8b8ca7c9c18414acaeb5f9db1572bccf7548a142
     "metadata": {},
     "output_type": "execute_result"
    }
   ],
   "source": [
    "px_db['age'].unique()"
   ]
  },
  {
   "cell_type": "code",
<<<<<<< HEAD
   "execution_count": 23,
=======
   "execution_count": 16,
>>>>>>> 8b8ca7c9c18414acaeb5f9db1572bccf7548a142
   "id": "b41500b0",
   "metadata": {},
   "outputs": [
    {
     "data": {
      "text/plain": [
       "1031"
      ]
     },
<<<<<<< HEAD
     "execution_count": 23,
=======
     "execution_count": 16,
>>>>>>> 8b8ca7c9c18414acaeb5f9db1572bccf7548a142
     "metadata": {},
     "output_type": "execute_result"
    }
   ],
   "source": [
    "# check for the number of negative values\n",
    "(px_db['age'] < 0).sum().sum()"
   ]
  },
  {
   "cell_type": "code",
<<<<<<< HEAD
   "execution_count": 24,
=======
   "execution_count": 17,
>>>>>>> 8b8ca7c9c18414acaeb5f9db1572bccf7548a142
   "id": "bc97701e",
   "metadata": {},
   "outputs": [
    {
     "data": {
      "text/plain": [
       "False"
      ]
     },
<<<<<<< HEAD
     "execution_count": 24,
=======
     "execution_count": 17,
>>>>>>> 8b8ca7c9c18414acaeb5f9db1572bccf7548a142
     "metadata": {},
     "output_type": "execute_result"
    }
   ],
   "source": [
    "px_db['age'].isnull().any()"
   ]
  },
  {
   "cell_type": "code",
<<<<<<< HEAD
   "execution_count": 25,
=======
   "execution_count": 18,
>>>>>>> 8b8ca7c9c18414acaeb5f9db1572bccf7548a142
   "id": "2a8f83b7",
   "metadata": {},
   "outputs": [],
   "source": [
    "# change negative values to the mode of df['age']\n",
    "px_db['age'] = px_db['age'].mask(px_db['age'] < 0, px_db['age'].mode())"
   ]
  },
  {
   "cell_type": "code",
<<<<<<< HEAD
   "execution_count": 26,
=======
   "execution_count": 19,
>>>>>>> 8b8ca7c9c18414acaeb5f9db1572bccf7548a142
   "id": "cc59d098",
   "metadata": {},
   "outputs": [
    {
     "data": {
      "text/plain": [
       "<IntegerArray>\n",
       "[ 54,   8,   2,  67,  89,  31,  59,  14,  34,  29,\n",
       " ...\n",
       " 129, 236, 271, 160, 132, 146, 152, 196, 142, 164]\n",
       "Length: 187, dtype: Int64"
      ]
     },
<<<<<<< HEAD
     "execution_count": 26,
=======
     "execution_count": 19,
>>>>>>> 8b8ca7c9c18414acaeb5f9db1572bccf7548a142
     "metadata": {},
     "output_type": "execute_result"
    }
   ],
   "source": [
    "# seeing that there are age more than 100\n",
    "px_db['age'].unique()"
   ]
  },
  {
   "cell_type": "code",
<<<<<<< HEAD
   "execution_count": 27,
=======
   "execution_count": 20,
>>>>>>> 8b8ca7c9c18414acaeb5f9db1572bccf7548a142
   "id": "51288291",
   "metadata": {},
   "outputs": [],
   "source": [
    "# replace outliers with mode\n",
    "px_db['age'] = px_db['age'].mask(px_db['age'] > 100, px_db['age'].mode())"
   ]
  },
  {
   "cell_type": "code",
<<<<<<< HEAD
   "execution_count": 28,
=======
   "execution_count": 21,
>>>>>>> 8b8ca7c9c18414acaeb5f9db1572bccf7548a142
   "id": "e5813e3d",
   "metadata": {},
   "outputs": [
    {
     "data": {
      "text/plain": [
       "age\n",
       "54     143157\n",
       "29     129926\n",
       "28     126216\n",
       "31     125353\n",
       "32     125042\n",
       "        ...  \n",
       "96       2489\n",
       "97       1987\n",
       "98       1425\n",
       "99       1121\n",
       "100       875\n",
       "Name: count, Length: 101, dtype: Int64"
      ]
     },
<<<<<<< HEAD
     "execution_count": 28,
=======
     "execution_count": 21,
>>>>>>> 8b8ca7c9c18414acaeb5f9db1572bccf7548a142
     "metadata": {},
     "output_type": "execute_result"
    }
   ],
   "source": [
    "px_db['age'].value_counts()"
   ]
  },
  {
   "cell_type": "code",
<<<<<<< HEAD
   "execution_count": 29,
=======
   "execution_count": 22,
>>>>>>> 8b8ca7c9c18414acaeb5f9db1572bccf7548a142
   "id": "c48bbfc7",
   "metadata": {},
   "outputs": [],
   "source": [
    "# drop row that has 'gender' as gender in df\n",
    "mask = px_db['gender'] == 'gender'"
   ]
  },
  {
   "cell_type": "code",
<<<<<<< HEAD
   "execution_count": 30,
=======
   "execution_count": 23,
>>>>>>> 8b8ca7c9c18414acaeb5f9db1572bccf7548a142
   "id": "15a8fd57",
   "metadata": {},
   "outputs": [],
   "source": [
    "px_db = px_db[~mask]"
   ]
  },
  {
   "cell_type": "code",
<<<<<<< HEAD
   "execution_count": 31,
=======
   "execution_count": 24,
>>>>>>> 8b8ca7c9c18414acaeb5f9db1572bccf7548a142
   "id": "e5f91dfc",
   "metadata": {},
   "outputs": [
    {
     "data": {
      "text/plain": [
       "array(['FEMALE', 'MALE'], dtype=object)"
      ]
     },
<<<<<<< HEAD
     "execution_count": 31,
=======
     "execution_count": 24,
>>>>>>> 8b8ca7c9c18414acaeb5f9db1572bccf7548a142
     "metadata": {},
     "output_type": "execute_result"
    }
   ],
   "source": [
    "px_db['gender'].unique()"
   ]
  },
  {
   "cell_type": "markdown",
   "id": "61b7cf64-47be-4c12-8ee5-d9533401feb8",
   "metadata": {},
   "source": [
    "# Clinic"
   ]
  },
  {
   "cell_type": "code",
<<<<<<< HEAD
   "execution_count": 32,
=======
   "execution_count": 25,
>>>>>>> 8b8ca7c9c18414acaeb5f9db1572bccf7548a142
   "id": "c29b3d98-0a58-4f26-b57e-698ed3271bca",
   "metadata": {
    "tags": []
   },
   "outputs": [],
   "source": [
    "clinics_db = pd.read_csv(\"clinics.csv\", encoding = \"ISO-8859-1\")"
   ]
  },
  {
   "cell_type": "code",
<<<<<<< HEAD
   "execution_count": 33,
=======
   "execution_count": 26,
>>>>>>> 8b8ca7c9c18414acaeb5f9db1572bccf7548a142
   "id": "64a463b9-4fec-42fe-8939-08e9702ef5fe",
   "metadata": {
    "tags": []
   },
   "outputs": [
    {
     "name": "stdout",
     "output_type": "stream",
     "text": [
      "<class 'pandas.core.frame.DataFrame'>\n",
      "RangeIndex: 53962 entries, 0 to 53961\n",
      "Data columns (total 6 columns):\n",
      " #   Column        Non-Null Count  Dtype \n",
      "---  ------        --------------  ----- \n",
      " 0   clinicid      53962 non-null  object\n",
      " 1   hospitalname  17538 non-null  object\n",
      " 2   IsHospital    53962 non-null  bool  \n",
      " 3   City          53962 non-null  object\n",
      " 4   Province      53962 non-null  object\n",
      " 5   RegionName    53962 non-null  object\n",
      "dtypes: bool(1), object(5)\n",
      "memory usage: 2.1+ MB\n"
     ]
    }
   ],
   "source": [
    "clinics_db.info()"
   ]
  },
  {
   "cell_type": "code",
<<<<<<< HEAD
   "execution_count": 34,
=======
   "execution_count": 27,
   "id": "8f40c9c7",
   "metadata": {},
   "outputs": [
    {
     "data": {
      "text/plain": [
       "False"
      ]
     },
     "execution_count": 27,
     "metadata": {},
     "output_type": "execute_result"
    }
   ],
   "source": [
    "# check for duplicates\n",
    "clinics_db.duplicated().any()"
   ]
  },
  {
   "cell_type": "code",
   "execution_count": 28,
>>>>>>> 8b8ca7c9c18414acaeb5f9db1572bccf7548a142
   "id": "83a32faf-df1d-477c-baad-2ca71111da86",
   "metadata": {
    "tags": []
   },
   "outputs": [
    {
     "data": {
      "text/plain": [
       "array([\"St. Luke's Medical Center-Global City\",\n",
       "       'Our Lady of Lourdes Hospital', 'Makati Medical Center', ...,\n",
       "       'Leyte Provincial Hospital',\n",
       "       \"Lopez District Farmer's Hospital, Inc.\", 'Alegre Medical Clinic'],\n",
       "      dtype=object)"
      ]
     },
<<<<<<< HEAD
     "execution_count": 34,
=======
     "execution_count": 28,
>>>>>>> 8b8ca7c9c18414acaeb5f9db1572bccf7548a142
     "metadata": {},
     "output_type": "execute_result"
    }
   ],
   "source": [
    "clinics_db['hospitalname'].unique()"
   ]
  },
  {
   "cell_type": "code",
<<<<<<< HEAD
   "execution_count": 35,
=======
   "execution_count": 29,
>>>>>>> 8b8ca7c9c18414acaeb5f9db1572bccf7548a142
   "id": "c54cfb21-5415-4a9c-8120-0e23898cf1e1",
   "metadata": {
    "tags": []
   },
   "outputs": [
    {
     "data": {
      "text/plain": [
       "array(['Taguig', 'Manila', 'Makati', 'San Juan', 'Burgos', 'Butuan City',\n",
       "       'Basco', 'Quezon City', 'Mandaue City', 'Santa Rosa City',\n",
       "       'San Fernando City', 'Santiago City', 'Batangas City',\n",
       "       'Iloilo City', 'Botolan', 'Las Piñas', 'Balabac', 'Pasig', 'Bilar',\n",
       "       'Malabon', 'Caloocan', 'Muntinlupa', 'Candijay', 'San Nicolas',\n",
       "       'Calape', 'Cebu City', 'Manito', 'Pasay', 'Cabanatuan City',\n",
       "       'Antipolo City', 'Taytay', 'Cainta', 'Mandaluyong', 'Marikina',\n",
       "       'San Leonardo', 'Dasmariñas City', 'Bacoor City', 'Malolos City',\n",
       "       'Parañaque', 'Imus City', 'Silang', 'San Jose del Monte City',\n",
       "       'San Mateo', 'Davao City', 'Kidapawan City', 'Tagbilaran City',\n",
       "       'General Trias', 'Balamban', 'Bacolod City', 'Cagayan de Oro',\n",
       "       'Guagua', 'Lubao', 'Zamboanga City', 'Rizal', 'Santa Cruz',\n",
       "       'Asuncion', 'Tagum City', 'Cardona', 'Morong', 'Tanay', 'Teresa',\n",
       "       'Meycauayan City', 'Santo Domingo', 'San Jose City',\n",
       "       'Trece Martires City', 'Angono', 'Mabalacat City', 'Angeles City',\n",
       "       'Ozamiz City', 'Bocaue', 'Pulilan', 'Baliuag', 'Lucena City',\n",
       "       'Plaridel', 'Bustos', 'Valenzuela', 'Koronadal City',\n",
       "       'Dumaguete City', 'Sibulan', 'Navotas', 'Tanza', 'Cabuyao City',\n",
       "       'Batac City', 'Tacloban City', 'San Pedro City', 'Daet',\n",
       "       'Kalilangan', 'Baguio City', 'Urdaneta City', 'Lapu-Lapu City',\n",
       "       'Alicia', 'Dagupan City', 'Legazpi City', 'Naga City',\n",
       "       'Iligan City', 'Digos City', 'Bayawan City', 'Lipa City',\n",
       "       'Asturias', 'Valladolid', 'Bansud', 'Pila', 'Bay', 'Biñan City',\n",
       "       'La Trinidad', 'Sablayan', 'Dinagat', 'Minglanilla', 'Malita',\n",
       "       'Cordoba', 'Olongapo City', 'Padada', 'Boac', 'Malaybalay City',\n",
       "       'Santa Maria', 'Kawit', 'Bulakan', 'San Pablo City', 'Capas',\n",
       "       'Calamba City', 'Hilongos', 'Bacnotan', 'Miagao', 'Tanauan City',\n",
       "       'Santo Tomas', 'Marawi City', 'Carmona', 'Cavite City', 'Basey',\n",
       "       'Talisay City', 'Alegria', 'Cabiao', 'Dingle', 'Surigao City',\n",
       "       'Consolacion', 'Tagaytay City', 'San Francisco', 'Burdeos',\n",
       "       'Floridablanca', 'Binalonan', 'Tarlac City', 'Porac', 'Roxas',\n",
       "       'Bauko', 'Sagada', 'Alaminos City', 'Daraga', 'Bayombong',\n",
       "       'Balanga City', 'Borongan City', 'Rosario',\n",
       "       'General Mariano Alvarez', 'Laoag City', 'Valencia City',\n",
       "       'Lingayen', 'Agoo', 'Puerto Princesa City', 'General Santos City',\n",
       "       'Panabo City', 'Apalit', 'Marilao', 'Kalibo', 'Lambunao', 'Baler',\n",
       "       'Gattaran', 'Lemery', 'Bauan', 'Paombong', 'Balayan', 'Dimasalang',\n",
       "       'Malay', 'Gingoog City', 'Tuguegarao City', 'Ilagan City',\n",
       "       'Camalaniugan', 'Cabagan', 'Tabuk City', 'Vigan City', 'Bantay',\n",
       "       'Sorsogon City', 'La Carlota City', 'Cauayan City', 'Bangued',\n",
       "       'Governor Generoso', 'Tandag City', 'Mendez', 'Toboso',\n",
       "       'San Marcelino', 'Manaoag', 'Ipil', 'Balaoan', 'Iriga City',\n",
       "       'Tampakan', 'Aritao', 'Subic', 'San Luis', 'Mexico', 'Los Baños',\n",
       "       'Dinalupihan', 'Toledo City', 'Nabua', 'Atok', 'San Carlos City',\n",
       "       'Guiguinto', 'Siniloan', 'Surallah', 'Dapa', 'Pakil', 'Nasugbu',\n",
       "       'Alfonso', 'Noveleta', 'Bambang', 'Obando', 'Dapitan City',\n",
       "       'Calumpit', 'Ormoc City', 'Tacurong City', 'Norzagaray',\n",
       "       'Abra de Ilog', 'Calapan City', 'Binangonan', 'Taal', 'Lala',\n",
       "       'Alcoy', 'Tayabas City', 'Carcar City', 'Tabango', 'Maramag',\n",
       "       'Alubijid', 'Alimodian', 'Tinambac', 'Padre Burgos', 'Candelaria',\n",
       "       'Lucban', 'Sariaya', 'Nueva Valencia', 'Kabankalan City',\n",
       "       'Mamburao', 'Manabo', 'Naic', 'Mangatarem', 'Solano', 'Pandan',\n",
       "       'Roxas City', 'Aborlan', 'Tayug', 'Abulug', 'Sanchez-Mira',\n",
       "       'Boljoon', 'Anahawan', 'Alabat', 'Gloria', 'Cotabato City',\n",
       "       'Polomolok', 'Calanasan', 'Samal City', 'Luna', 'Bangar',\n",
       "       'Tagudin', 'Aringay', 'Cuenca', 'Lambayong', 'Aglipay',\n",
       "       'Santa Catalina', 'Adams', 'Compostela', 'Libjo (Albor)',\n",
       "       'Calasiao', 'Abucay', 'Sultan Kudarat', 'Lian', 'Labason',\n",
       "       'Rodriguez', 'Quezon', 'Del Gallego', 'Buluan', 'Cagdianao',\n",
       "       'Midsayap', 'Cabadbaran City', \"M'lang\", 'Manolo Fortich',\n",
       "       'Pagadian City', 'Tabaco City', 'Ligao City', 'Baybay City',\n",
       "       'Cabugao', 'Panganiban', 'Libon', 'Puerto Galera', 'Margosatubig',\n",
       "       'Lamut', 'Polangui', 'Calbayog City', 'Pateros', 'Solana',\n",
       "       'Balindong', 'Luisiana', 'Dipolog City', 'Passi City', 'Alamada',\n",
       "       'Maragusan', 'Agoncillo', 'Bulan', 'Pastrana', 'Kabasalan',\n",
       "       'Liloy', 'Calayan', 'Magalang', 'Candon City', 'Polillo',\n",
       "       'Calauag', 'Dingras', 'Catarman', 'Buenavista', 'Santa Ana',\n",
       "       'Flora', 'Pagsanjan', 'Llorente', 'Masbate City', 'Batan',\n",
       "       'Liloan', 'Santiago', 'Baras', 'Alcala', 'Science City of Muñoz',\n",
       "       'Bombon', 'Hermosa', 'Pangil', 'Nasipit', 'Naguilian',\n",
       "       'San Ildefonso', 'Victorias City', 'Dagohoy', 'Santa Barbara',\n",
       "       'Malitbog', 'Tanjay City', 'San Pascual', 'Pozzorubio',\n",
       "       'Danao City', 'Guimbal', 'Macabebe', 'Pambujan', 'San Joaquin',\n",
       "       'Ubay', 'Paete', 'New Washington', 'Virac', 'Agdangan', 'Narvacan',\n",
       "       'Isulan', 'San Jose', 'Naval', 'Lugus', 'San Miguel', 'Calaca',\n",
       "       'Santa Teresita', 'Malvar', 'Anini-y', 'Tobias Fornier',\n",
       "       'Prosperidad', 'Hagonoy', 'Naga', 'Arayat', 'Orani', 'Kiblawan',\n",
       "       'Anda', 'Oroquieta City', 'San Fabian', 'Bacarra', 'Dumarao',\n",
       "       'Sogod', 'Libmanan', 'Sampaloc', 'Rosales', 'Villasis', 'Laoac',\n",
       "       'Bogo City', 'Medellin', 'Lopez', 'San Rafael', 'Pamplona',\n",
       "       'Arteche', 'Tiwi', 'Cabarroguis', 'Coron', 'Gonzaga',\n",
       "       'Enrique B. Magalona', 'Kabacan', 'Gumaca', 'Talisay',\n",
       "       'Sagay City', 'Maragondon', 'New Bataan', 'Bugallon', 'Talavera',\n",
       "       'Gapan City', 'Bago City', 'Guimba', 'Leyte', 'Kananga',\n",
       "       'Valencia', 'Makilala', 'Carmen', 'Esperanza', 'Pagbilao',\n",
       "       'Norala', 'Leon', 'Odiongan', 'Silay City', 'Tangub City',\n",
       "       'Camiling', 'Ajuy', 'San Antonio', 'Balagtas', 'Luba', 'Maslog',\n",
       "       'Santa Ignacia', 'Alabel', 'Maco', 'Zumarraga', 'Siquijor',\n",
       "       'Aguilar', 'Matungao', 'Calabanga', 'Bato', 'Pontevedra',\n",
       "       'Burauen', 'Carranglan', 'Zaragoza', 'Santa Rosa', 'Cuartero',\n",
       "       'Aurora', 'Al-Barka', 'Majayjay', 'Zamboanguita', 'Corcuera',\n",
       "       'Caibiran', 'Montevista', 'Bayambang', 'Galimuyod', 'San Quintin',\n",
       "       'Bislig City', 'Medina', 'Clarin', 'Monreal', 'Iba', 'Gabaldon',\n",
       "       'Kiamba', 'Ibaan', 'Oton', 'Tubod', 'Angat', 'Cabusao', 'Monkayo',\n",
       "       'Moncada', 'Kibawe', 'Goa', 'Libungan', 'Laguindingan',\n",
       "       'Mondragon', 'Pavia', 'Banate', 'Buguias', 'Nabunturan',\n",
       "       'Bien Unido', 'Palo', 'Infanta', 'Mawab', 'Nabas', 'Canaman',\n",
       "       'Cadiz City', 'Orion', 'Mabinay', 'Upi', 'Banayoyo', 'Capul',\n",
       "       'Maria', 'Dauis', 'Maasin City', 'Paluan', 'Pigcawayan', 'Bolinao',\n",
       "       'Kasibu', 'Malalag', 'Victoria', 'Bonifacio', 'Jabonga',\n",
       "       'Mati City', 'Concepcion', 'Poro', 'Salcedo', 'Malasiqui',\n",
       "       'Binalbagan', 'Trinidad', 'Bacolor', 'Mariveles', 'Almeria',\n",
       "       'Siaton', 'Calauan', 'Casiguran', 'Paoay', 'Lasam', 'Pinamalayan',\n",
       "       'Nagcarlan', 'Pantukan', 'Pilar', 'Pandi', 'Bais City', 'Jasaan',\n",
       "       'Tiaong', 'Bagabag', 'Carigara', 'Catbalogan City', 'Famy', 'Jolo',\n",
       "       'Bauang', 'Bamban', 'Antequera', 'Jaen', 'Paniqui', 'Don Carlos',\n",
       "       \"Brooke's Point\", 'Pililla', 'Bulusan', 'Oslob', 'Santander',\n",
       "       'Bagac', 'Real', 'Magdalena', 'Licab', 'Gamay', 'Cuyapo',\n",
       "       'Echague', 'Baroy', 'Liliw', 'El Nido', 'Laak', 'Caba', 'Socorro',\n",
       "       'Balingasag', 'Manticao', 'Talisayan', 'Binmaley', 'Guiuan',\n",
       "       'Araceli', 'Indang', 'San Agustin', 'Labangan', 'Bataraza', 'Tago',\n",
       "       'Cavinti', 'Bantayan', 'Manapla', 'Aroroy', 'Sinait', 'Pinili',\n",
       "       'Sibonga', 'Alangalang', 'Mabini', 'Alaminos', 'Magallanes',\n",
       "       'San Clemente', 'Claveria', 'Manay', 'Baganga', 'Palauig',\n",
       "       'Allacapan', 'Banga', 'Sipocot', 'Pikit', 'Alburquerque',\n",
       "       'Libagon', 'Jamindan', 'Mambusao', 'Barobo', 'Asingan', 'Mandaon',\n",
       "       'Abuyog', 'Sultan Dumalondong', 'Banguingui', 'Pinabacdao',\n",
       "       'Madrid', 'Dolores', 'New Corella', 'Bacolod', 'Jose Dalman',\n",
       "       'Initao', 'Molave', 'Pintuyan', 'Sasmuan', 'Camalig', 'Vintar',\n",
       "       'Palompon', 'Daanbantayan', 'Murcia', 'San Pablo', 'Natividad',\n",
       "       'Umingan', 'General Emilio Aguinaldo', 'Amadeo', 'Labo', 'Candoni',\n",
       "       'Kitaotao', 'Lezo', 'Mauban', 'Samal', 'Guihulngan City',\n",
       "       'Cabatuan', 'San Manuel', 'Kapangan', 'Trento', 'Ramon Magsaysay',\n",
       "       'Tublay', 'Baao', 'Castillejos', 'Padre Garcia', 'Cateel', 'Pili',\n",
       "       'Bacacay', 'Lal-lo', 'Lapuyan', 'Pasuquin', 'Panglao', 'Opol',\n",
       "       'Diadi', 'Sara', 'Pitogo', 'Antipas', 'Argao', 'Gerona',\n",
       "       'Roseller Lim', 'Marantao', 'Santa Rita', 'Atimonan', 'Llanera',\n",
       "       'President Roxas', 'Dao', 'Kapatagan', 'Piat', 'Candaba',\n",
       "       'Tabuelan', 'Tupi', 'Aleosan', 'Hamtic', 'Calinog', 'Guinobatan',\n",
       "       'San Felipe', 'Aparri', 'Cuyo', 'Tabogon', 'Tuburan', 'Pototan',\n",
       "       'Malinao', 'Gasan', 'Marihatag', 'Baco', 'Gubat', 'Taysan',\n",
       "       'Mataasnakahoy', 'Bongabon', 'Jalajala', 'Masinloc', 'San Remigio',\n",
       "       'Kitcharao', 'Bula', 'Dilasag', 'General Nakar', 'Tagoloan',\n",
       "       'Dimataling', 'Santa Monica', 'San Isidro', 'Lagonoy', 'Tabina',\n",
       "       'General Luna', 'Tuba', 'Currimao', 'Magsingal', 'Calintaan',\n",
       "       'Mangaldan', 'Bangui', 'Matalom', 'Babatngon', 'Tagkawayan',\n",
       "       'Catanauan', 'Barotac Nuevo', 'Balatan', 'Kalamansig',\n",
       "       'Hinundayan', 'Tigbauan', 'Dumanjug', 'Sabtang', 'San Simon',\n",
       "       'Minalin', 'Estancia', 'Wao', 'Baloi', 'Lupon', 'Banaybanay',\n",
       "       'Tanudan', 'San Jacinto', 'Peñablanca', 'Moalboal', 'Ronda',\n",
       "       'Badoc', 'Tubigon', 'Panay', 'Tubao', 'Limay', 'Ragay', 'Baggao',\n",
       "       'Tulunan', 'San Fernando', 'Imelda', 'Buug', 'Palayan City',\n",
       "       'Masantol', 'Culion', 'Aliaga', 'Lubang', 'San Narciso',\n",
       "       'Isabela City', 'Tumauini', 'La Libertad', 'Sison', 'Sindangan',\n",
       "       'Basista', 'Urbiztondo', 'Maddela', 'Sulop', 'Patnongon',\n",
       "       'Bunawan', 'Sarangani', 'Balangiga', 'Jaro', 'Biliran', 'Bontoc',\n",
       "       'Bongabong', 'Alilem', 'Patnanungan', 'Janiuay', 'Vallehermoso',\n",
       "       'Buguey', 'Kapalong'], dtype=object)"
      ]
     },
<<<<<<< HEAD
     "execution_count": 35,
=======
     "execution_count": 29,
>>>>>>> 8b8ca7c9c18414acaeb5f9db1572bccf7548a142
     "metadata": {},
     "output_type": "execute_result"
    }
   ],
   "source": [
    "clinics_db['City'].unique()"
   ]
  },
  {
   "cell_type": "code",
<<<<<<< HEAD
   "execution_count": 36,
=======
   "execution_count": 30,
>>>>>>> 8b8ca7c9c18414acaeb5f9db1572bccf7548a142
   "id": "d7626e40-95ad-4202-aef2-138ca7585860",
   "metadata": {
    "tags": []
   },
   "outputs": [
    {
     "data": {
      "text/plain": [
       "array(['National Capital Region (NCR)', 'Ilocos Region (I)',\n",
       "       'Caraga (XIII)', 'Cagayan Valley (II)', 'Central Visayas (VII)',\n",
       "       'CALABARZON (IV-A)', 'Western Visayas (VI)', 'Central Luzon (III)',\n",
       "       'MIMAROPA (IV-B)', 'Bicol Region (V)', 'Davao Region (XI)',\n",
       "       'SOCCSKSARGEN (Cotabato Region) (XII)', 'Northern Mindanao (X)',\n",
       "       'Zamboanga Peninsula (IX)', 'Eastern Visayas (VIII)',\n",
       "       'Cordillera Administrative Region (CAR)',\n",
       "       'Bangsamoro Autonomous Region in Muslim Mindanao (BARMM)'],\n",
       "      dtype=object)"
      ]
     },
<<<<<<< HEAD
     "execution_count": 36,
=======
     "execution_count": 30,
>>>>>>> 8b8ca7c9c18414acaeb5f9db1572bccf7548a142
     "metadata": {},
     "output_type": "execute_result"
    }
   ],
   "source": [
    "clinics_db['RegionName'].unique()"
   ]
  },
  {
   "cell_type": "code",
<<<<<<< HEAD
   "execution_count": 37,
=======
   "execution_count": 31,
>>>>>>> 8b8ca7c9c18414acaeb5f9db1572bccf7548a142
   "id": "c182da70-2905-4bc2-a082-f540aa28dc62",
   "metadata": {
    "tags": []
   },
   "outputs": [
    {
     "data": {
      "text/plain": [
       "False"
      ]
     },
<<<<<<< HEAD
     "execution_count": 37,
=======
     "execution_count": 31,
>>>>>>> 8b8ca7c9c18414acaeb5f9db1572bccf7548a142
     "metadata": {},
     "output_type": "execute_result"
    }
   ],
   "source": [
    "clinics_db.duplicated().any()"
   ]
  },
  {
   "cell_type": "code",
<<<<<<< HEAD
   "execution_count": 38,
=======
   "execution_count": 32,
>>>>>>> 8b8ca7c9c18414acaeb5f9db1572bccf7548a142
   "id": "e5e4c17b",
   "metadata": {},
   "outputs": [
    {
     "data": {
      "text/plain": [
       "array(['Manila', 'Ilocos Sur', 'Agusan del Norte', 'Batanes', 'Cebu',\n",
       "       'Laguna', 'La Union', 'Isabela', 'Batangas', 'Iloilo', 'Zambales',\n",
       "       'Palawan', 'Bohol', 'Ilocos Norte', 'Albay', 'Nueva Ecija',\n",
       "       'Rizal', 'Cavite', 'Bulacan', 'Davao del Sur', 'Cotabato',\n",
       "       'Negros Occidental', 'Misamis Oriental', 'Pampanga',\n",
       "       'Zamboanga del Sur', 'Davao del Norte', 'Misamis Occidental',\n",
       "       'Quezon', 'South Cotabato', 'Negros Oriental', 'Leyte',\n",
       "       'Camarines Norte', 'Bukidnon', 'Benguet', 'Pangasinan',\n",
       "       'Camarines Sur', 'Lanao del Norte', 'Oriental Mindoro',\n",
       "       'Occidental Mindoro', 'Dinagat Islands', 'Davao Occidental',\n",
       "       'Marinduque', 'Tarlac', 'Angeles', 'Lanao del Sur', 'Samar',\n",
       "       'Surigao del Norte', 'Agusan del Sur', 'Mountain Province',\n",
       "       'Nueva Vizcaya', 'Bataan', 'Eastern Samar', 'Aklan', 'Aurora',\n",
       "       'Cagayan', 'Masbate', 'Kalinga', 'Sorsogon', 'Abra',\n",
       "       'Davao Oriental', 'Surigao del Sur', 'Zamboanga Sibugay',\n",
       "       'Zamboanga del Norte', 'Sultan Kudarat', 'Guimaras', 'Antique',\n",
       "       'Capiz', 'Southern Leyte', 'Maguindanao', 'Apayao', 'Quirino',\n",
       "       'Compostela Valley', 'Catanduanes', 'Ifugao', 'Northern Samar',\n",
       "       'Biliran', 'Sulu', 'Romblon', 'Sarangani', 'Siquijor', 'Basilan',\n",
       "       'Taguig', 'Camiguin'], dtype=object)"
      ]
     },
<<<<<<< HEAD
     "execution_count": 38,
=======
     "execution_count": 32,
>>>>>>> 8b8ca7c9c18414acaeb5f9db1572bccf7548a142
     "metadata": {},
     "output_type": "execute_result"
    }
   ],
   "source": [
    "clinics_db['Province'].unique()"
   ]
  },
  {
   "cell_type": "code",
<<<<<<< HEAD
   "execution_count": 39,
=======
   "execution_count": 33,
>>>>>>> 8b8ca7c9c18414acaeb5f9db1572bccf7548a142
   "id": "fcc7c11d-9e6c-4ad6-8851-2b0eb77f5ef2",
   "metadata": {
    "tags": []
   },
   "outputs": [
    {
     "data": {
      "text/plain": [
       "clinicid        False\n",
       "hospitalname     True\n",
       "IsHospital      False\n",
       "City            False\n",
       "Province        False\n",
       "RegionName      False\n",
       "dtype: bool"
      ]
     },
<<<<<<< HEAD
     "execution_count": 39,
=======
     "execution_count": 33,
>>>>>>> 8b8ca7c9c18414acaeb5f9db1572bccf7548a142
     "metadata": {},
     "output_type": "execute_result"
    }
   ],
   "source": [
    "clinics_db.isnull().any()"
   ]
  },
  {
   "cell_type": "code",
<<<<<<< HEAD
   "execution_count": 40,
=======
   "execution_count": 34,
>>>>>>> 8b8ca7c9c18414acaeb5f9db1572bccf7548a142
   "id": "b3dba5ad",
   "metadata": {},
   "outputs": [
    {
     "data": {
      "text/plain": [
       "36424"
      ]
     },
<<<<<<< HEAD
     "execution_count": 40,
=======
     "execution_count": 34,
>>>>>>> 8b8ca7c9c18414acaeb5f9db1572bccf7548a142
     "metadata": {},
     "output_type": "execute_result"
    }
   ],
   "source": [
    "(clinics_db['hospitalname'].isnull()).sum().sum()"
   ]
  },
  {
   "cell_type": "code",
<<<<<<< HEAD
   "execution_count": 41,
=======
   "execution_count": 35,
>>>>>>> 8b8ca7c9c18414acaeb5f9db1572bccf7548a142
   "id": "88536b0f",
   "metadata": {},
   "outputs": [],
   "source": [
    "# change N/A values to 'Unknown'\n",
    "clinics_db['hospitalname'].fillna('Unknown', inplace=True)"
   ]
  },
  {
   "cell_type": "code",
<<<<<<< HEAD
   "execution_count": 42,
=======
   "execution_count": 36,
>>>>>>> 8b8ca7c9c18414acaeb5f9db1572bccf7548a142
   "id": "dfcbb4df",
   "metadata": {},
   "outputs": [
    {
     "data": {
      "text/plain": [
       "clinicid        False\n",
       "hospitalname    False\n",
       "IsHospital      False\n",
       "City            False\n",
       "Province        False\n",
       "RegionName      False\n",
       "dtype: bool"
      ]
     },
<<<<<<< HEAD
     "execution_count": 42,
=======
     "execution_count": 36,
>>>>>>> 8b8ca7c9c18414acaeb5f9db1572bccf7548a142
     "metadata": {},
     "output_type": "execute_result"
    }
   ],
   "source": [
    "clinics_db.isnull().any()"
   ]
  },
  {
   "cell_type": "markdown",
   "id": "c49c2c30",
   "metadata": {},
   "source": [
    "After examining the data, it seems that no interpolation technique can be made since it specifies a certain hospital. We can't do dropping of values as well since 36424 rows will be dropped, affecting the data largely. Thus, putting a placeholder, like \"Unknown\" is the best choice for this dataframe."
   ]
  },
  {
   "cell_type": "markdown",
   "id": "20c4562d-f730-4f71-9888-01ee6a91fb51",
   "metadata": {},
   "source": [
    "# Appointment"
   ]
  },
  {
   "cell_type": "code",
<<<<<<< HEAD
   "execution_count": 43,
=======
   "execution_count": 37,
>>>>>>> 8b8ca7c9c18414acaeb5f9db1572bccf7548a142
   "id": "59491862-2fb1-4102-a6b4-9254f85a3f80",
   "metadata": {
    "tags": []
   },
   "outputs": [],
   "source": [
    "appoint_db = pd.read_csv(\"appointments.csv\")"
   ]
  },
  {
   "cell_type": "code",
<<<<<<< HEAD
   "execution_count": 44,
=======
   "execution_count": 90,
>>>>>>> 8b8ca7c9c18414acaeb5f9db1572bccf7548a142
   "id": "238f26cb-3dff-47ef-8d17-9a7766f2d33d",
   "metadata": {
    "tags": []
   },
   "outputs": [
    {
     "name": "stdout",
     "output_type": "stream",
     "text": [
      "<class 'pandas.core.frame.DataFrame'>\n",
      "RangeIndex: 9752932 entries, 0 to 9752931\n",
      "Data columns (total 11 columns):\n",
      " #   Column      Dtype \n",
      "---  ------      ----- \n",
      " 0   pxid        object\n",
      " 1   clinicid    object\n",
      " 2   doctorid    object\n",
      " 3   apptid      object\n",
      " 4   status      object\n",
      " 5   TimeQueued  object\n",
      " 6   QueueDate   object\n",
      " 7   StartTime   object\n",
      " 8   EndTime     object\n",
      " 9   type        object\n",
      " 10  Virtual     object\n",
      "dtypes: object(11)\n",
      "memory usage: 818.5+ MB\n"
     ]
    }
   ],
   "source": [
    "appoint_db.info()"
   ]
  },
  {
   "cell_type": "code",
<<<<<<< HEAD
   "execution_count": 45,
=======
   "execution_count": 39,
>>>>>>> 8b8ca7c9c18414acaeb5f9db1572bccf7548a142
   "id": "4bec0d53-6800-4d39-bbe2-8e77f30bae5f",
   "metadata": {
    "tags": []
   },
   "outputs": [
    {
     "data": {
      "text/html": [
       "<div>\n",
       "<style scoped>\n",
       "    .dataframe tbody tr th:only-of-type {\n",
       "        vertical-align: middle;\n",
       "    }\n",
       "\n",
       "    .dataframe tbody tr th {\n",
       "        vertical-align: top;\n",
       "    }\n",
       "\n",
       "    .dataframe thead th {\n",
       "        text-align: right;\n",
       "    }\n",
       "</style>\n",
       "<table border=\"1\" class=\"dataframe\">\n",
       "  <thead>\n",
       "    <tr style=\"text-align: right;\">\n",
       "      <th></th>\n",
       "      <th>pxid</th>\n",
       "      <th>clinicid</th>\n",
       "      <th>doctorid</th>\n",
       "      <th>apptid</th>\n",
       "      <th>status</th>\n",
       "      <th>TimeQueued</th>\n",
       "      <th>QueueDate</th>\n",
       "      <th>StartTime</th>\n",
       "      <th>EndTime</th>\n",
       "      <th>type</th>\n",
       "      <th>Virtual</th>\n",
       "    </tr>\n",
       "  </thead>\n",
       "  <tbody>\n",
       "    <tr>\n",
       "      <th>0</th>\n",
       "      <td>EF196B348A49FB32DABC9834DC4FAAD9</td>\n",
       "      <td>ADF7EE2DCF142B0E11888E72B43FCB75</td>\n",
       "      <td>BB04AF0F7ECAEE4AAE62035497DA1387</td>\n",
       "      <td>C1CC0949B93D00A559F7A0BD38361E80</td>\n",
       "      <td>Complete</td>\n",
       "      <td>2018-04-11 01:59:58</td>\n",
       "      <td>2018-04-10 16:00:00</td>\n",
       "      <td>NaN</td>\n",
       "      <td>NaN</td>\n",
       "      <td>Consultation</td>\n",
       "      <td>NaN</td>\n",
       "    </tr>\n",
       "    <tr>\n",
       "      <th>1</th>\n",
       "      <td>EAE3C87D0B33351272F2E9B9B1B56217</td>\n",
       "      <td>1E0F65EB20ACBFB27EE05DDC000B50EC</td>\n",
       "      <td>82AA4B0AF34C2313A562076992E50AA3</td>\n",
       "      <td>6585A31C60A1886FBA1433C50012B504</td>\n",
       "      <td>Queued</td>\n",
       "      <td>2018-04-10 10:34:16</td>\n",
       "      <td>2018-04-08 16:00:00</td>\n",
       "      <td>2018-04-09 10:33:00</td>\n",
       "      <td>2018-04-12 05:29:57</td>\n",
       "      <td>Inpatient</td>\n",
       "      <td>NaN</td>\n",
       "    </tr>\n",
       "    <tr>\n",
       "      <th>2</th>\n",
       "      <td>7C5C93809D626CC702D08F33985B2B58</td>\n",
       "      <td>1E0F65EB20ACBFB27EE05DDC000B50EC</td>\n",
       "      <td>82AA4B0AF34C2313A562076992E50AA3</td>\n",
       "      <td>7250DCFF615E6580295C7E6ED4322371</td>\n",
       "      <td>Queued</td>\n",
       "      <td>2018-04-03 15:26:19</td>\n",
       "      <td>2018-03-30 16:00:00</td>\n",
       "      <td>2018-03-31 15:25:00</td>\n",
       "      <td>2018-04-05 15:51:47</td>\n",
       "      <td>Inpatient</td>\n",
       "      <td>NaN</td>\n",
       "    </tr>\n",
       "    <tr>\n",
       "      <th>3</th>\n",
       "      <td>C300C2B9E0E5D4C46E8093BCDBFA05CA</td>\n",
       "      <td>98C39996BF1543E974747A2549B3107C</td>\n",
       "      <td>AD61AB143223EFBC24C7D2583BE69251</td>\n",
       "      <td>F5BBDCC08E39332F0AC27BB95CF1396A</td>\n",
       "      <td>Queued</td>\n",
       "      <td>2015-11-24 08:01:13.920000000</td>\n",
       "      <td>NaN</td>\n",
       "      <td>NaN</td>\n",
       "      <td>NaN</td>\n",
       "      <td>Consultation</td>\n",
       "      <td>NaN</td>\n",
       "    </tr>\n",
       "    <tr>\n",
       "      <th>4</th>\n",
       "      <td>B3DBE7F9E4DC33CBC5660E0A923CF8E8</td>\n",
       "      <td>77EE3BC58CE560B86C2B59363281E914</td>\n",
       "      <td>AD61AB143223EFBC24C7D2583BE69251</td>\n",
       "      <td>55783FB42A02DABC3B2ED239B924DC87</td>\n",
       "      <td>Queued</td>\n",
       "      <td>2015-11-24 08:01:00.420000000</td>\n",
       "      <td>NaN</td>\n",
       "      <td>NaN</td>\n",
       "      <td>NaN</td>\n",
       "      <td>Consultation</td>\n",
       "      <td>NaN</td>\n",
       "    </tr>\n",
       "  </tbody>\n",
       "</table>\n",
       "</div>"
      ],
      "text/plain": [
       "                               pxid                          clinicid  \\\n",
       "0  EF196B348A49FB32DABC9834DC4FAAD9  ADF7EE2DCF142B0E11888E72B43FCB75   \n",
       "1  EAE3C87D0B33351272F2E9B9B1B56217  1E0F65EB20ACBFB27EE05DDC000B50EC   \n",
       "2  7C5C93809D626CC702D08F33985B2B58  1E0F65EB20ACBFB27EE05DDC000B50EC   \n",
       "3  C300C2B9E0E5D4C46E8093BCDBFA05CA  98C39996BF1543E974747A2549B3107C   \n",
       "4  B3DBE7F9E4DC33CBC5660E0A923CF8E8  77EE3BC58CE560B86C2B59363281E914   \n",
       "\n",
       "                           doctorid                            apptid  \\\n",
       "0  BB04AF0F7ECAEE4AAE62035497DA1387  C1CC0949B93D00A559F7A0BD38361E80   \n",
       "1  82AA4B0AF34C2313A562076992E50AA3  6585A31C60A1886FBA1433C50012B504   \n",
       "2  82AA4B0AF34C2313A562076992E50AA3  7250DCFF615E6580295C7E6ED4322371   \n",
       "3  AD61AB143223EFBC24C7D2583BE69251  F5BBDCC08E39332F0AC27BB95CF1396A   \n",
       "4  AD61AB143223EFBC24C7D2583BE69251  55783FB42A02DABC3B2ED239B924DC87   \n",
       "\n",
       "     status                     TimeQueued            QueueDate  \\\n",
       "0  Complete            2018-04-11 01:59:58  2018-04-10 16:00:00   \n",
       "1    Queued            2018-04-10 10:34:16  2018-04-08 16:00:00   \n",
       "2    Queued            2018-04-03 15:26:19  2018-03-30 16:00:00   \n",
       "3    Queued  2015-11-24 08:01:13.920000000                  NaN   \n",
       "4    Queued  2015-11-24 08:01:00.420000000                  NaN   \n",
       "\n",
       "             StartTime              EndTime          type Virtual  \n",
       "0                  NaN                  NaN  Consultation     NaN  \n",
       "1  2018-04-09 10:33:00  2018-04-12 05:29:57     Inpatient     NaN  \n",
       "2  2018-03-31 15:25:00  2018-04-05 15:51:47     Inpatient     NaN  \n",
       "3                  NaN                  NaN  Consultation     NaN  \n",
       "4                  NaN                  NaN  Consultation     NaN  "
      ]
     },
<<<<<<< HEAD
     "execution_count": 45,
=======
     "execution_count": 39,
>>>>>>> 8b8ca7c9c18414acaeb5f9db1572bccf7548a142
     "metadata": {},
     "output_type": "execute_result"
    }
   ],
   "source": [
    "appoint_db.head()"
   ]
  },
  {
   "cell_type": "code",
<<<<<<< HEAD
   "execution_count": 46,
=======
   "execution_count": 40,
>>>>>>> 8b8ca7c9c18414acaeb5f9db1572bccf7548a142
   "id": "a1b7c564-a335-483c-a8ef-c6c9da79cf6f",
   "metadata": {
    "tags": []
   },
   "outputs": [
    {
     "data": {
      "text/plain": [
       "array(['Complete', 'Queued', 'NoShow', 'Serving', 'Cancel', 'Skip',\n",
       "       'Completed', 'Admitted'], dtype=object)"
      ]
     },
<<<<<<< HEAD
     "execution_count": 46,
=======
     "execution_count": 40,
>>>>>>> 8b8ca7c9c18414acaeb5f9db1572bccf7548a142
     "metadata": {},
     "output_type": "execute_result"
    }
   ],
   "source": [
    "appoint_db.status.unique()"
   ]
  },
  {
   "cell_type": "code",
<<<<<<< HEAD
   "execution_count": 47,
=======
   "execution_count": 89,
>>>>>>> 8b8ca7c9c18414acaeb5f9db1572bccf7548a142
   "id": "caf717ba-1a7b-422d-b757-0a12c07f960a",
   "metadata": {
    "tags": []
   },
   "outputs": [
    {
     "data": {
      "text/plain": [
       "status\n",
       "Complete    6473685\n",
       "Queued      2523855\n",
       "Serving      284774\n",
       "NoShow       230048\n",
       "Cancel       213270\n",
       "Skip          27298\n",
       "Admitted          2\n",
       "Name: count, dtype: int64"
      ]
     },
<<<<<<< HEAD
     "execution_count": 47,
=======
     "execution_count": 89,
>>>>>>> 8b8ca7c9c18414acaeb5f9db1572bccf7548a142
     "metadata": {},
     "output_type": "execute_result"
    }
   ],
   "source": [
    "appoint_db['status'].value_counts()"
   ]
  },
  {
   "cell_type": "code",
<<<<<<< HEAD
   "execution_count": 48,
=======
   "execution_count": 88,
   "id": "a2265ff8",
   "metadata": {},
   "outputs": [],
   "source": [
    "# replace completed with complete\n",
    "appoint_db['status'] = appoint_db['status'].replace({'Completed': 'Complete'})"
   ]
  },
  {
   "cell_type": "code",
   "execution_count": 63,
>>>>>>> 8b8ca7c9c18414acaeb5f9db1572bccf7548a142
   "id": "e102363d-2ef5-416b-85aa-a76696f0f78c",
   "metadata": {
    "tags": []
   },
   "outputs": [
    {
     "data": {
      "text/plain": [
       "type\n",
       "Consultation    9640181\n",
       "Inpatient        112751\n",
       "Name: count, dtype: int64"
      ]
     },
<<<<<<< HEAD
     "execution_count": 48,
=======
     "execution_count": 63,
>>>>>>> 8b8ca7c9c18414acaeb5f9db1572bccf7548a142
     "metadata": {},
     "output_type": "execute_result"
    }
   ],
   "source": [
    "appoint_db['type'].value_counts()"
   ]
  },
  {
   "cell_type": "code",
<<<<<<< HEAD
   "execution_count": 49,
=======
   "execution_count": 64,
>>>>>>> 8b8ca7c9c18414acaeb5f9db1572bccf7548a142
   "id": "9c7c6776-d9e7-4422-9f76-31112c8e2b79",
   "metadata": {
    "tags": []
   },
   "outputs": [
    {
     "data": {
      "text/plain": [
       "Virtual\n",
       "False    6276648\n",
       "True     1523691\n",
       "Name: count, dtype: int64"
      ]
     },
<<<<<<< HEAD
     "execution_count": 49,
=======
     "execution_count": 64,
>>>>>>> 8b8ca7c9c18414acaeb5f9db1572bccf7548a142
     "metadata": {},
     "output_type": "execute_result"
    }
   ],
   "source": [
    "appoint_db['Virtual'].value_counts()"
   ]
  },
  {
   "cell_type": "code",
<<<<<<< HEAD
   "execution_count": 50,
=======
   "execution_count": 65,
>>>>>>> 8b8ca7c9c18414acaeb5f9db1572bccf7548a142
   "id": "c5b2bb74-4a4e-4380-b9b9-471cce06b9a4",
   "metadata": {
    "tags": []
   },
   "outputs": [
    {
     "data": {
      "text/plain": [
       "pxid          False\n",
       "clinicid      False\n",
       "doctorid      False\n",
       "apptid        False\n",
       "status        False\n",
       "TimeQueued    False\n",
       "QueueDate      True\n",
       "StartTime      True\n",
       "EndTime        True\n",
       "type          False\n",
       "Virtual        True\n",
       "dtype: bool"
      ]
     },
<<<<<<< HEAD
     "execution_count": 50,
=======
     "execution_count": 65,
>>>>>>> 8b8ca7c9c18414acaeb5f9db1572bccf7548a142
     "metadata": {},
     "output_type": "execute_result"
    }
   ],
   "source": [
    "appoint_db.isnull().any()"
   ]
  },
  {
   "cell_type": "code",
<<<<<<< HEAD
   "execution_count": 51,
=======
   "execution_count": 66,
>>>>>>> 8b8ca7c9c18414acaeb5f9db1572bccf7548a142
   "id": "ba17bb05",
   "metadata": {},
   "outputs": [
    {
     "data": {
      "text/plain": [
       "False"
      ]
     },
<<<<<<< HEAD
     "execution_count": 51,
=======
     "execution_count": 66,
>>>>>>> 8b8ca7c9c18414acaeb5f9db1572bccf7548a142
     "metadata": {},
     "output_type": "execute_result"
    }
   ],
   "source": [
    "appoint_db.duplicated().any()"
   ]
  },
  {
   "cell_type": "markdown",
   "id": "3381335f",
   "metadata": {},
   "source": [
    "Appointments seem to have valid data."
   ]
  },
  {
   "cell_type": "markdown",
   "id": "36b36721-489e-4a15-8c96-da04231d9e27",
   "metadata": {},
   "source": [
    "# Doctors"
   ]
  },
  {
   "cell_type": "code",
<<<<<<< HEAD
   "execution_count": 52,
=======
   "execution_count": 67,
>>>>>>> 8b8ca7c9c18414acaeb5f9db1572bccf7548a142
   "id": "76bd7c6a-da31-4102-927f-e69553171809",
   "metadata": {
    "tags": []
   },
   "outputs": [],
   "source": [
    "doctors_db = pd.read_csv(\"doctors.csv\", encoding = \"ISO-8859-1\")"
   ]
  },
  {
   "cell_type": "code",
<<<<<<< HEAD
   "execution_count": 53,
=======
   "execution_count": 68,
>>>>>>> 8b8ca7c9c18414acaeb5f9db1572bccf7548a142
   "id": "9a9972e3-06ca-411f-927c-c66e97f8e323",
   "metadata": {
    "tags": []
   },
   "outputs": [
    {
     "name": "stdout",
     "output_type": "stream",
     "text": [
      "<class 'pandas.core.frame.DataFrame'>\n",
      "RangeIndex: 60024 entries, 0 to 60023\n",
      "Data columns (total 3 columns):\n",
      " #   Column         Non-Null Count  Dtype  \n",
      "---  ------         --------------  -----  \n",
      " 0   doctorid       60024 non-null  object \n",
      " 1   mainspecialty  27055 non-null  object \n",
      " 2   age            20028 non-null  float64\n",
      "dtypes: float64(1), object(2)\n",
      "memory usage: 1.4+ MB\n"
     ]
    }
   ],
   "source": [
    "doctors_db.info()"
   ]
  },
  {
   "cell_type": "code",
<<<<<<< HEAD
   "execution_count": 54,
=======
   "execution_count": 69,
>>>>>>> 8b8ca7c9c18414acaeb5f9db1572bccf7548a142
   "id": "698e5f0e-9db7-4906-9fe6-3bec73090ac0",
   "metadata": {
    "tags": []
   },
   "outputs": [
    {
     "data": {
      "text/plain": [
       "mainspecialty\n",
       "Internal Medicine                           3812\n",
       "General Medicine                            2317\n",
       "Pediatrics                                  1709\n",
       "Family Medicine                              894\n",
       "General Physician                            881\n",
       "                                            ... \n",
       "General Physician (Pediatrics and Adult)       1\n",
       "Marc                                           1\n",
       "Orthopaedics (Bone and Joint Surgery)          1\n",
       "Generalists                                    1\n",
       "Allergist                                      1\n",
       "Name: count, Length: 3973, dtype: int64"
      ]
     },
<<<<<<< HEAD
     "execution_count": 54,
=======
     "execution_count": 69,
>>>>>>> 8b8ca7c9c18414acaeb5f9db1572bccf7548a142
     "metadata": {},
     "output_type": "execute_result"
    }
   ],
   "source": [
    "doctors_db['mainspecialty'].value_counts()"
   ]
  },
  {
   "cell_type": "code",
<<<<<<< HEAD
   "execution_count": 78,
=======
   "execution_count": 70,
>>>>>>> 8b8ca7c9c18414acaeb5f9db1572bccf7548a142
   "id": "2829619f-2b7b-4709-b405-35bd5e0b7039",
   "metadata": {
    "tags": []
   },
   "outputs": [
    {
     "data": {
      "text/plain": [
       "array(['General Medicine', 'Family Medicine', 'Vascular Medicine', ...,\n",
       "       'Bone alignment therapy', 'Healot Biomekaniks', 'Allergist'],\n",
       "      dtype=object)"
      ]
     },
<<<<<<< HEAD
     "execution_count": 78,
=======
     "execution_count": 70,
>>>>>>> 8b8ca7c9c18414acaeb5f9db1572bccf7548a142
     "metadata": {},
     "output_type": "execute_result"
    }
   ],
   "source": [
    "doctors_db['mainspecialty'].unique()\n"
   ]
  },
  {
   "cell_type": "code",
<<<<<<< HEAD
   "execution_count": 80,
   "id": "52b372fe",
   "metadata": {},
   "outputs": [
    {
     "data": {
      "text/plain": [
       "array(['General Medicine', 'Family Medicine', 'Vascular Medicine', ...,\n",
       "       'Bone alignment therapy', 'Healot Biomekaniks', 'Allergist'],\n",
       "      dtype=object)"
      ]
     },
     "execution_count": 80,
     "metadata": {},
     "output_type": "execute_result"
    }
   ],
   "source": [
    "# WIP, also idk how to drop the stuff thats in the list so if yall know how pls lmk ee\n",
    "doctors_db = doctors_db[~doctors_db[\"mainspecialty\"].isin([\"Test\", \"Endocrinology (test)\", \"Testing\", \"test\", \"abc\", \"bbbb\", \"abbb\",\n",
    " \"isiwiwiw\", \"super saiyan\", \"Db\", \"Ll\", \"Main\", \"m\", \"as\", \"ggg\", \"SolSee\",  \"ya\", \"1\", \"MainS\", \"1231\", \"123\", \"MS\",  \"xxx\", \"asd\", \"F?s????e?ape?t??\",\n",
    "   \"MainSpecialty\", \"kirurgji\", \"zxczcxcxzcxz\", \"ABCD\", \"b\", \"L\", \"RN/A\", \"123123\", \"AAAAAAAAAAA\", \"A\", \"AAA\", \"Omomi\", \"afsf\", \"Hjj\",  \"aoeu\", \"ooooo\", \n",
    "   \"'><img src=x onerror=prompt(1)>\", \"s\",\"a\", \"Im\", \"gaga\", \"man\", \"M\", \"Things\", \"aaaaaaaaaaa\", \"Com\", \"nope\", \"Rrr\", \"IDK\", \"B\",\n",
    "   \"Aaa\", \"Yy\", \"lkjsadlfkj\", \"kdsjflkfdsjg\", \"Yg\", \"Me :)\", \"Breeding Uroplatus\", \"Absenos\", \"qweqwe\", \"zzz\", \"nnnnnn\", \"sdf\",\n",
    "   \"Special\",\"n\",\"12\", \"AGREE\", \"Dhjdu\", \"Me\", \"Md\", \"Help\", \"P\", \"43\", \"fdgf\", \"ertryty\", \"sdaf\", \"sdfsda\",\n",
    "   \"Est qui minim et au\", \"Hull Engineering\", \"Ghhhhj\", \"Computer Science And Technology\", \"Gsu\", \"fhhhf\",\n",
    "   \"Ttt\", \"Ship handling\", \"acctg\", \"Gh\", \"Specialty 1\",  \"Specialty\", \"Ok\", \"Human Resources\", \"Web Development\",\n",
    "   \"ABC\", \"ertertertert ertert\", \"Degree\", \"patient\", \"Test account\", \".\", \"main specialty\", \"Web Developer\",\n",
    "   \"F\", \"Welder pipe filter\", \"Patienr\", \"Sorry wrong sign up\", \"sdd\", \"Helping mother to gave birth by normal delivery\",\n",
    "   \"Hshshs\", \"w\", \"Hahaha\", \"Test Only\", \"Babag\", \"computer science\", \"accounting\", \"Test Specilty\", \"kik\", \"Sdj\",\n",
    "   \"Bdjsp\", \"finane\", \"Being Me\", \"3\", \"tester\", \"Major in accountancy\", \"any\", \"CS\", \"I\", \"Bshshshs\",\n",
    "    \"FN\", \"sccs\", \"moon light\", \"No\", \"User\", \"asfasfsaf\", \"awf\", \"asdf\", \"Shejsjj\", \"Elecrical\", \"dd\", \"bba\", \"N\", \"x\",\"Internet\",\n",
    "    \"HACKING\",\"Worker\",\"Her\", \"f\", \"Lalala\", \"Hh\", \"core\", \"Fpsedm\", \"Sales\", \"cc\", \"Sample\", \"Sen\", \"Level 1 Hospital\",\n",
    "    \"Ghetto\", \"maka\", \"Sick\", \"Qui culpa in quo ea\", \"Bab\", \"bussiness\", \"sasa\", \"yes\", \"BEEd\", \"Bsb\", \"Hhh\", \"Restaurants\",\n",
    "    \"Bvv\", \"X\", \"000\", \"Kakakak\", \"Fabricator\", \"English\", \"Ddsdaa\", \"222\", \"Ids\", \"tests\", \"Consult\", \"I need Medicine\",\n",
    "    \"Shy caustic  \", \"English Language Studies\", \"dwadawd\", \"da\", \"wada\", \"fawawf\", \"Housewife\", \"hba1c\", \"H\", \"bjj\",\n",
    "    \"hjikjjbh\", \"Calvin Smith\", \"Pineapple Processing\", \"What\", \"Shaman\", \"hhhbb\", \"banking\", \"Design\", \"broken colarbone\",\n",
    "    \"S\", \"Hahahahah\",\"Hsha\",\"Hsha\", \"asdas\", \"trial\", \"sir\", \"asdasd\"\n",
    "   ])]\n",
    "\n",
    "doctors_db.replace(to_replace=[\"docmark_coli@yahoo.com\",\"Leading You To True Health\",\"SURGUYYY\",\"Doctor\",\"logistics\", \"In\", \"main\",\"3D\", \n",
    "\"event coordinator\", \"a/a\", \"ad\", \"SPECIALTY\", \"non\", \"Loves Kids\", \"Bed Making\",\"ONLINE KONSULTA\",\"DR.RUSSEL VILLANUEVA\",\n",
    "\"FAMED\", \"Your Health Is Our Priority\", \"-\", \"na\", \"Patient\", \"Nothing\", \" \", \"Na\", \"RALPh Roque\", \"RN\", \"Jennifer Apurillo Baldillo\",\n",
    "\"appointments\", \"Marc\", \"N/a\", \"Trisha Reyes\", \"Not Sure\", \"OSH\", \"Dr. Anna Mitzi Matela\", \"Vnc\",\"Dra. beverly\",\n",
    "\"Valerie Ann  Valdez\", \"Gonzalez\", \"NONE\", \"Wala\", \"MBA\", \"Agnes Atas\", \"Too many to mention\", \"None \", \"Oliver Delgado Castro\",\n",
    "\"N/A \", \"Valdez\", \"Faye Garciano\", \"Need Consultant Of Doctor Before Vaccine\", \"N.A\", \"n.a\",\"0\"\n",
    "], value=\"unknown\")\n",
    "\n",
    "doctors_db['mainspecialty'].unique()\n"
   ]
  },
  {
   "cell_type": "code",
   "execution_count": 81,
=======
   "execution_count": 71,
>>>>>>> 8b8ca7c9c18414acaeb5f9db1572bccf7548a142
   "id": "9b801215-ca20-4800-9127-ca472a969795",
   "metadata": {
    "tags": []
   },
   "outputs": [
    {
     "data": {
      "text/plain": [
       "<IntegerArray>\n",
       "[41, 43, 26, 34, 50, 62, 38, 57, 44, 59, 39, 49, 55, 37, 40, 48, 51, 46, 45,\n",
       " 54, 61, 60, 31, 65, 36, 72, 64, 35, 47, 33, 68, 42, 73, 53, 58, 71, 52, 56,\n",
       " 67, 63, 66, 81, 69, 70, 32, 91, 75, 30, 78, 76, 27, 29, 74,  8,  7, 28, 80,\n",
       " 24, 25, 92, 77, 23, 83,  4, 86, 88, 21, 22, 84, 79, 17, 85]\n",
       "Length: 72, dtype: Int64"
      ]
     },
<<<<<<< HEAD
     "execution_count": 81,
=======
     "execution_count": 71,
>>>>>>> 8b8ca7c9c18414acaeb5f9db1572bccf7548a142
     "metadata": {},
     "output_type": "execute_result"
    }
   ],
   "source": [
    "doctors_db['age'].unique()"
   ]
  },
  {
   "cell_type": "code",
<<<<<<< HEAD
   "execution_count": 57,
=======
   "execution_count": 72,
>>>>>>> 8b8ca7c9c18414acaeb5f9db1572bccf7548a142
   "id": "e9934a0c-555c-484c-ab82-0cc8ab8eaadd",
   "metadata": {
    "tags": []
   },
   "outputs": [
    {
     "data": {
      "text/plain": [
       "age\n",
       "34.0     1215\n",
       "35.0     1082\n",
       "33.0      973\n",
       "37.0      971\n",
       "36.0      953\n",
       "         ... \n",
       "91.0        1\n",
       "124.0       1\n",
       "123.0       1\n",
       "92.0        1\n",
       "938.0       1\n",
       "Name: count, Length: 81, dtype: int64"
      ]
     },
<<<<<<< HEAD
     "execution_count": 57,
=======
     "execution_count": 72,
>>>>>>> 8b8ca7c9c18414acaeb5f9db1572bccf7548a142
     "metadata": {},
     "output_type": "execute_result"
    }
   ],
   "source": [
    "doctors_db['age'].value_counts()"
   ]
  },
  {
   "cell_type": "code",
<<<<<<< HEAD
   "execution_count": 58,
=======
   "execution_count": 73,
>>>>>>> 8b8ca7c9c18414acaeb5f9db1572bccf7548a142
   "id": "b01235fc",
   "metadata": {},
   "outputs": [
    {
     "data": {
      "text/plain": [
       "doctorid         False\n",
       "mainspecialty     True\n",
       "age               True\n",
       "dtype: bool"
      ]
     },
<<<<<<< HEAD
     "execution_count": 58,
=======
     "execution_count": 73,
>>>>>>> 8b8ca7c9c18414acaeb5f9db1572bccf7548a142
     "metadata": {},
     "output_type": "execute_result"
    }
   ],
   "source": [
    "doctors_db.isnull().any()"
   ]
  },
  {
   "cell_type": "code",
<<<<<<< HEAD
   "execution_count": 59,
=======
   "execution_count": 74,
>>>>>>> 8b8ca7c9c18414acaeb5f9db1572bccf7548a142
   "id": "e9423761",
   "metadata": {
    "scrolled": true
   },
   "outputs": [
    {
     "data": {
      "text/plain": [
       "32969"
      ]
     },
<<<<<<< HEAD
     "execution_count": 59,
=======
     "execution_count": 74,
>>>>>>> 8b8ca7c9c18414acaeb5f9db1572bccf7548a142
     "metadata": {},
     "output_type": "execute_result"
    }
   ],
   "source": [
    "doctors_db['mainspecialty'].isnull().sum().sum()"
   ]
  },
  {
   "cell_type": "code",
<<<<<<< HEAD
   "execution_count": 60,
=======
   "execution_count": 75,
>>>>>>> 8b8ca7c9c18414acaeb5f9db1572bccf7548a142
   "id": "7b7f38cb",
   "metadata": {},
   "outputs": [],
   "source": [
    "doctors_db['age'] = pd.to_numeric(doctors_db['age'], errors='coerce').astype('Int64')"
   ]
  },
  {
   "cell_type": "code",
<<<<<<< HEAD
   "execution_count": 61,
=======
   "execution_count": 76,
>>>>>>> 8b8ca7c9c18414acaeb5f9db1572bccf7548a142
   "id": "008327e8",
   "metadata": {},
   "outputs": [],
   "source": [
    "#replace outliers with mode\n",
    "doctors_db['age'] = doctors_db['age'].mask(doctors_db['age'] > 100, doctors_db['age'].mode())"
   ]
  },
  {
   "cell_type": "code",
<<<<<<< HEAD
   "execution_count": 62,
=======
   "execution_count": 77,
>>>>>>> 8b8ca7c9c18414acaeb5f9db1572bccf7548a142
   "id": "bd1636b5",
   "metadata": {},
   "outputs": [
    {
     "data": {
      "text/plain": [
       "<IntegerArray>\n",
       "[  41,   43,   26,   34,   50,   62,   38,   57,   44,   59,   39,   49,   55,\n",
       "   37, <NA>,   40,   48,   51,   46,   45,   54,   61,   60,   31,   65,   36,\n",
       "   72,   64,   35,   47,   33,   68,   42,   73,   53,   58,   71,   52,   56,\n",
       "   67,   63,   66,   81,   69,   70,   32,   91,   75,   30,   78,   76,   27,\n",
       "   29,   74,    8,    7,   28,   80,   24,   25,   92,   77,   23,   83,    4,\n",
       "   86,   88,   21,   22,   84,   79,   17,   85]\n",
       "Length: 73, dtype: Int64"
      ]
     },
<<<<<<< HEAD
     "execution_count": 62,
=======
     "execution_count": 77,
>>>>>>> 8b8ca7c9c18414acaeb5f9db1572bccf7548a142
     "metadata": {},
     "output_type": "execute_result"
    }
   ],
   "source": [
    "doctors_db['age'].unique()"
   ]
  },
  {
   "cell_type": "code",
<<<<<<< HEAD
   "execution_count": 63,
=======
   "execution_count": 78,
>>>>>>> 8b8ca7c9c18414acaeb5f9db1572bccf7548a142
   "id": "66dbf5ce",
   "metadata": {},
   "outputs": [],
   "source": [
    "# change N/A values to the mode of the dataframe\n",
    "doctors_db['age'].fillna(value=doctors_db['age'].mode().iloc[0], inplace=True)"
   ]
  },
  {
   "cell_type": "code",
<<<<<<< HEAD
   "execution_count": 64,
=======
   "execution_count": 79,
>>>>>>> 8b8ca7c9c18414acaeb5f9db1572bccf7548a142
   "id": "4ba35154",
   "metadata": {},
   "outputs": [
    {
     "data": {
      "text/plain": [
       "0"
      ]
     },
<<<<<<< HEAD
     "execution_count": 64,
=======
     "execution_count": 79,
>>>>>>> 8b8ca7c9c18414acaeb5f9db1572bccf7548a142
     "metadata": {},
     "output_type": "execute_result"
    }
   ],
   "source": [
    "doctors_db['age'].isnull().sum().sum()"
   ]
  },
  {
   "cell_type": "code",
<<<<<<< HEAD
   "execution_count": 65,
=======
   "execution_count": 80,
>>>>>>> 8b8ca7c9c18414acaeb5f9db1572bccf7548a142
   "id": "849ba39d",
   "metadata": {},
   "outputs": [
    {
     "data": {
      "text/plain": [
       "doctorid         False\n",
       "mainspecialty     True\n",
       "age              False\n",
       "dtype: bool"
      ]
     },
<<<<<<< HEAD
     "execution_count": 65,
=======
     "execution_count": 80,
>>>>>>> 8b8ca7c9c18414acaeb5f9db1572bccf7548a142
     "metadata": {},
     "output_type": "execute_result"
    }
   ],
   "source": [
    "doctors_db.isnull().any()"
   ]
  },
  {
   "cell_type": "code",
<<<<<<< HEAD
   "execution_count": 66,
=======
   "execution_count": 81,
>>>>>>> 8b8ca7c9c18414acaeb5f9db1572bccf7548a142
   "id": "0c76ebf4",
   "metadata": {},
   "outputs": [],
   "source": [
    "#replace null values with Unknown string\n",
    "doctors_db['mainspecialty'].fillna('Unknown', inplace=True)"
   ]
  },
  {
   "cell_type": "code",
<<<<<<< HEAD
   "execution_count": 67,
=======
   "execution_count": 82,
>>>>>>> 8b8ca7c9c18414acaeb5f9db1572bccf7548a142
   "id": "6ada0607",
   "metadata": {},
   "outputs": [
    {
     "data": {
      "text/plain": [
       "0"
      ]
     },
<<<<<<< HEAD
     "execution_count": 67,
=======
     "execution_count": 82,
>>>>>>> 8b8ca7c9c18414acaeb5f9db1572bccf7548a142
     "metadata": {},
     "output_type": "execute_result"
    }
   ],
   "source": [
    "doctors_db['mainspecialty'].isnull().sum().sum()"
   ]
  },
  {
   "cell_type": "code",
   "execution_count": null,
   "id": "5010ccac",
   "metadata": {},
   "outputs": [],
   "source": []
  }
 ],
 "metadata": {
  "kernelspec": {
   "display_name": "Python 3 (ipykernel)",
   "language": "python",
   "name": "python3"
  },
  "language_info": {
   "codemirror_mode": {
    "name": "ipython",
    "version": 3
   },
   "file_extension": ".py",
   "mimetype": "text/x-python",
   "name": "python",
   "nbconvert_exporter": "python",
   "pygments_lexer": "ipython3",
   "version": "3.11.4"
  }
 },
 "nbformat": 4,
 "nbformat_minor": 5
}
