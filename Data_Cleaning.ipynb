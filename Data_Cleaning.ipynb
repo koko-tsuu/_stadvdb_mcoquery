{
 "cells": [
  {
   "cell_type": "code",
   "execution_count": 257,
   "id": "3fdc0dc5-8bbb-4ebb-a56d-6335f4074839",
   "metadata": {
    "tags": []
   },
   "outputs": [],
   "source": [
    "import pandas as pd\n",
    "import numpy as np"
   ]
  },
  {
   "cell_type": "markdown",
   "id": "1f6f58e3-ae34-4ff4-b676-a5d4274a6617",
   "metadata": {},
   "source": [
    "# PX"
   ]
  },
  {
   "cell_type": "code",
   "execution_count": 258,
   "id": "e51cedeb-5053-4747-85ab-edaf2d753dd4",
   "metadata": {
    "tags": []
   },
   "outputs": [],
   "source": [
    "px_db = pd.read_csv(\"px.csv\")"
   ]
  },
  {
   "cell_type": "code",
   "execution_count": 259,
   "id": "0b43ccb7-8851-47e8-8cff-8165cc372747",
   "metadata": {
    "tags": []
   },
   "outputs": [
    {
     "name": "stdout",
     "output_type": "stream",
     "text": [
      "<class 'pandas.core.frame.DataFrame'>\n",
      "RangeIndex: 5512482 entries, 0 to 5512481\n",
      "Data columns (total 4 columns):\n",
      " #   Column      Dtype \n",
      "---  ------      ----- \n",
      " 0   Unnamed: 0  int64 \n",
      " 1   pxid        object\n",
      " 2   age         int64 \n",
      " 3   gender      object\n",
      "dtypes: int64(2), object(2)\n",
      "memory usage: 168.2+ MB\n"
     ]
    }
   ],
   "source": [
    "px_db.info()"
   ]
  },
  {
   "cell_type": "code",
   "execution_count": 260,
   "id": "1326121b-2a40-4333-981e-3c532e1f2242",
   "metadata": {
    "tags": []
   },
   "outputs": [
    {
     "data": {
      "text/plain": [
       "Unnamed: 0    False\n",
       "pxid          False\n",
       "age           False\n",
       "gender        False\n",
       "dtype: bool"
      ]
     },
     "execution_count": 260,
     "metadata": {},
     "output_type": "execute_result"
    }
   ],
   "source": [
    "px_db.isnull().any()"
   ]
  },
  {
   "cell_type": "code",
   "execution_count": 261,
   "id": "503e46a4-cb5d-4e87-8d57-0c244cfbdb72",
   "metadata": {
    "tags": []
   },
   "outputs": [
    {
     "data": {
      "text/plain": [
       "gender\n",
       "FEMALE    3095509\n",
       "MALE      2416973\n",
       "Name: count, dtype: int64"
      ]
     },
     "execution_count": 261,
     "metadata": {},
     "output_type": "execute_result"
    }
   ],
   "source": [
    "px_db['gender'].value_counts()"
   ]
  },
  {
   "cell_type": "code",
   "execution_count": 262,
   "id": "9ef7ad04-145d-4c6e-ac5c-f5caa8e200a9",
   "metadata": {
    "tags": []
   },
   "outputs": [
    {
     "data": {
      "text/plain": [
       "array(['FEMALE', 'MALE'], dtype=object)"
      ]
     },
     "execution_count": 262,
     "metadata": {},
     "output_type": "execute_result"
    }
   ],
   "source": [
    "px_db['gender'].unique()"
   ]
  },
  {
   "cell_type": "code",
   "execution_count": 263,
   "id": "91c18759-77c7-4cf6-aa83-ff7beb94d1c6",
   "metadata": {
    "tags": []
   },
   "outputs": [
    {
     "data": {
      "text/plain": [
       "age\n",
       "54     150375\n",
       "29     125362\n",
       "28     121702\n",
       "31     120597\n",
       "32     120355\n",
       "        ...  \n",
       "96       2365\n",
       "97       1870\n",
       "98       1339\n",
       "99       1072\n",
       "100       826\n",
       "Name: count, Length: 101, dtype: int64"
      ]
     },
     "execution_count": 263,
     "metadata": {},
     "output_type": "execute_result"
    }
   ],
   "source": [
    "px_db['age'].value_counts()"
   ]
  },
  {
   "cell_type": "code",
   "execution_count": 264,
   "id": "54156532-6589-464d-bf36-5cb4ea5f1338",
   "metadata": {
    "scrolled": true,
    "tags": []
   },
   "outputs": [
    {
     "data": {
      "text/plain": [
       "array([ 54,   8,   2,  67,  89,  31,  59,  14,  34,  29,  60,  32,  33,\n",
       "         1,  27,  65,  64,   5,  62,  40,  50,   6,  83,  69,  37,  22,\n",
       "        42,  78,  55,  48,  81,  66,  58,  82,  44,  43,  30,  79,  38,\n",
       "        74,  26,  70,  36,   9,  93,  12,  23,  21,  72,   4,  63,  80,\n",
       "        61,  16,  20,  18,  11,  46,  45,  49,  71,  35,  25,  28,  53,\n",
       "        57,  41,  52,  86,   3,  24,  47,  90,  10,  87,  77,  51,  73,\n",
       "        76,  13,  56,  75,  39,  15,   7,  17,  68,  19,   0,  84,  88,\n",
       "        92,  95,  96,  98,  91,  85,  99,  94,  97, 100], dtype=int64)"
      ]
     },
     "execution_count": 264,
     "metadata": {},
     "output_type": "execute_result"
    }
   ],
   "source": [
    "px_db['age'].unique()"
   ]
  },
  {
   "cell_type": "code",
   "execution_count": 265,
   "id": "280fb8c2",
   "metadata": {},
   "outputs": [
    {
     "data": {
      "text/plain": [
       "False"
      ]
     },
     "execution_count": 265,
     "metadata": {},
     "output_type": "execute_result"
    }
   ],
   "source": [
    "# check for duplicates\n",
    "px_db.duplicated().any()"
   ]
  },
  {
   "cell_type": "code",
   "execution_count": 266,
   "id": "da43f153",
   "metadata": {},
   "outputs": [],
   "source": [
    "# drop the said duplicates\n",
    "px_db = px_db.drop_duplicates()"
   ]
  },
  {
   "cell_type": "code",
   "execution_count": 267,
   "id": "f937c8f1",
   "metadata": {},
   "outputs": [
    {
     "data": {
      "text/plain": [
       "False"
      ]
     },
     "execution_count": 267,
     "metadata": {},
     "output_type": "execute_result"
    }
   ],
   "source": [
    "px_db.duplicated().any()"
   ]
  },
  {
   "cell_type": "code",
   "execution_count": 268,
   "id": "181629b4",
   "metadata": {},
   "outputs": [],
   "source": [
    "# convert all strings to int\n",
    "px_db['age'] = pd.to_numeric(px_db['age'], errors='coerce').astype('Int64')"
   ]
  },
  {
   "cell_type": "code",
   "execution_count": 269,
   "id": "1572b0df",
   "metadata": {},
   "outputs": [],
   "source": [
    "# change N/A values to the mode of the dataframe\n",
    "px_db['age'].fillna(px_db['age'].where(px_db['age'] > 0).mode().iloc[0], inplace=True)"
   ]
  },
  {
   "cell_type": "code",
   "execution_count": 270,
   "id": "82ccfdff",
   "metadata": {},
   "outputs": [
    {
     "data": {
      "text/plain": [
       "<IntegerArray>\n",
       "[ 54,   8,   2,  67,  89,  31,  59,  14,  34,  29,\n",
       " ...\n",
       "  92,  95,  96,  98,  91,  85,  99,  94,  97, 100]\n",
       "Length: 101, dtype: Int64"
      ]
     },
     "execution_count": 270,
     "metadata": {},
     "output_type": "execute_result"
    }
   ],
   "source": [
    "px_db['age'].unique()"
   ]
  },
  {
   "cell_type": "code",
   "execution_count": 271,
   "id": "b41500b0",
   "metadata": {},
   "outputs": [
    {
     "data": {
      "text/plain": [
       "0"
      ]
     },
     "execution_count": 271,
     "metadata": {},
     "output_type": "execute_result"
    }
   ],
   "source": [
    "# check for the number of negative values\n",
    "(px_db['age'] < 0).sum().sum()"
   ]
  },
  {
   "cell_type": "code",
   "execution_count": 272,
   "id": "bc97701e",
   "metadata": {},
   "outputs": [
    {
     "data": {
      "text/plain": [
       "False"
      ]
     },
     "execution_count": 272,
     "metadata": {},
     "output_type": "execute_result"
    }
   ],
   "source": [
    "px_db['age'].isnull().any()"
   ]
  },
  {
   "cell_type": "code",
   "execution_count": 273,
   "id": "2a8f83b7",
   "metadata": {},
   "outputs": [],
   "source": [
    "# change negative values to the mode of df['age']\n",
    "px_db['age'] = px_db['age'].mask(px_db['age'] < 0, px_db['age'].mode())"
   ]
  },
  {
   "cell_type": "code",
   "execution_count": 274,
   "id": "cc59d098",
   "metadata": {},
   "outputs": [
    {
     "data": {
      "text/plain": [
       "<IntegerArray>\n",
       "[ 54,   8,   2,  67,  89,  31,  59,  14,  34,  29,\n",
       " ...\n",
       "  92,  95,  96,  98,  91,  85,  99,  94,  97, 100]\n",
       "Length: 101, dtype: Int64"
      ]
     },
     "execution_count": 274,
     "metadata": {},
     "output_type": "execute_result"
    }
   ],
   "source": [
    "# seeing that there are age more than 100\n",
    "px_db['age'].unique()"
   ]
  },
  {
   "cell_type": "code",
   "execution_count": 275,
   "id": "51288291",
   "metadata": {},
   "outputs": [],
   "source": [
    "# replace outliers with mode\n",
    "px_db['age'] = px_db['age'].mask(px_db['age'] > 100, px_db['age'].mode())"
   ]
  },
  {
   "cell_type": "code",
   "execution_count": 276,
   "id": "e5813e3d",
   "metadata": {},
   "outputs": [
    {
     "data": {
      "text/plain": [
       "age\n",
       "54     150375\n",
       "29     125362\n",
       "28     121702\n",
       "31     120597\n",
       "32     120355\n",
       "        ...  \n",
       "96       2365\n",
       "97       1870\n",
       "98       1339\n",
       "99       1072\n",
       "100       826\n",
       "Name: count, Length: 101, dtype: Int64"
      ]
     },
     "execution_count": 276,
     "metadata": {},
     "output_type": "execute_result"
    }
   ],
   "source": [
    "px_db['age'].value_counts()"
   ]
  },
  {
   "cell_type": "code",
   "execution_count": 277,
   "id": "c48bbfc7",
   "metadata": {},
   "outputs": [],
   "source": [
    "# drop row that has 'gender' as gender in df\n",
    "mask = px_db['gender'] == 'gender'"
   ]
  },
  {
   "cell_type": "code",
   "execution_count": 278,
   "id": "15a8fd57",
   "metadata": {},
   "outputs": [],
   "source": [
    "px_db = px_db[~mask]"
   ]
  },
  {
   "cell_type": "code",
   "execution_count": 279,
   "id": "e5f91dfc",
   "metadata": {},
   "outputs": [
    {
     "data": {
      "text/plain": [
       "array(['FEMALE', 'MALE'], dtype=object)"
      ]
     },
     "execution_count": 279,
     "metadata": {},
     "output_type": "execute_result"
    }
   ],
   "source": [
    "px_db['gender'].unique()"
   ]
  },
  {
   "cell_type": "code",
   "execution_count": 280,
   "id": "26683b5a",
   "metadata": {},
   "outputs": [],
   "source": [
    "positive_age_mode = px_db['age'].where(px_db['age'] > 0).mode().iloc[0]\n",
    "px_db['age'].fillna(positive_age_mode, inplace=True)"
   ]
  },
  {
   "cell_type": "code",
   "execution_count": 281,
   "id": "a895ed67",
   "metadata": {},
   "outputs": [
    {
     "data": {
      "text/plain": [
       "5512482"
      ]
     },
     "execution_count": 281,
     "metadata": {},
     "output_type": "execute_result"
    }
   ],
   "source": [
    "px_db.shape[0]"
   ]
  },
  {
   "cell_type": "code",
   "execution_count": 282,
   "id": "ae856e4a",
   "metadata": {},
   "outputs": [],
   "source": [
    "px_db = px_db.drop_duplicates(subset='pxid')"
   ]
  },
  {
   "cell_type": "code",
   "execution_count": 283,
   "id": "c32ae542",
   "metadata": {},
   "outputs": [
    {
     "data": {
      "text/plain": [
       "5512482"
      ]
     },
     "execution_count": 283,
     "metadata": {},
     "output_type": "execute_result"
    }
   ],
   "source": [
    "px_db.shape[0]"
   ]
  },
  {
   "cell_type": "code",
   "execution_count": 284,
   "id": "a43ab9ce",
   "metadata": {
    "scrolled": true
   },
   "outputs": [
    {
     "data": {
      "text/plain": [
       "Unnamed: 0    False\n",
       "pxid          False\n",
       "age           False\n",
       "gender        False\n",
       "dtype: bool"
      ]
     },
     "execution_count": 284,
     "metadata": {},
     "output_type": "execute_result"
    }
   ],
   "source": [
    "px_db.isnull().any()"
   ]
  },
  {
   "cell_type": "code",
   "execution_count": 285,
   "id": "4e55ac41",
   "metadata": {},
   "outputs": [],
   "source": [
    "appoint_db = pd.read_csv(\"appointments.csv\")"
   ]
  },
  {
   "cell_type": "code",
   "execution_count": 286,
   "id": "b4d8f6e3",
   "metadata": {},
   "outputs": [],
   "source": [
    "new_pxdb = px_db.merge(appoint_db, left_on='pxid', right_on='pxid')[['pxid', 'age', 'gender']]"
   ]
  },
  {
   "cell_type": "code",
   "execution_count": 287,
   "id": "b2965125",
   "metadata": {},
   "outputs": [
    {
     "data": {
      "text/plain": [
       "320140"
      ]
     },
     "execution_count": 287,
     "metadata": {},
     "output_type": "execute_result"
    }
   ],
   "source": [
    "new_pxdb.shape[0]"
   ]
  },
  {
   "cell_type": "code",
   "execution_count": 288,
   "id": "9d49b4c1",
   "metadata": {},
   "outputs": [
    {
     "data": {
      "text/html": [
       "<div>\n",
       "<style scoped>\n",
       "    .dataframe tbody tr th:only-of-type {\n",
       "        vertical-align: middle;\n",
       "    }\n",
       "\n",
       "    .dataframe tbody tr th {\n",
       "        vertical-align: top;\n",
       "    }\n",
       "\n",
       "    .dataframe thead th {\n",
       "        text-align: right;\n",
       "    }\n",
       "</style>\n",
       "<table border=\"1\" class=\"dataframe\">\n",
       "  <thead>\n",
       "    <tr style=\"text-align: right;\">\n",
       "      <th></th>\n",
       "      <th>pxid</th>\n",
       "      <th>age</th>\n",
       "      <th>gender</th>\n",
       "    </tr>\n",
       "  </thead>\n",
       "  <tbody>\n",
       "    <tr>\n",
       "      <th>0</th>\n",
       "      <td>519CAC5EFB113B0E451F77E31541A314</td>\n",
       "      <td>36</td>\n",
       "      <td>FEMALE</td>\n",
       "    </tr>\n",
       "    <tr>\n",
       "      <th>1</th>\n",
       "      <td>224DEFC6F387F61F307846B09F945EB2</td>\n",
       "      <td>34</td>\n",
       "      <td>FEMALE</td>\n",
       "    </tr>\n",
       "    <tr>\n",
       "      <th>2</th>\n",
       "      <td>224DEFC6F387F61F307846B09F945EB2</td>\n",
       "      <td>34</td>\n",
       "      <td>FEMALE</td>\n",
       "    </tr>\n",
       "    <tr>\n",
       "      <th>3</th>\n",
       "      <td>224DEFC6F387F61F307846B09F945EB2</td>\n",
       "      <td>34</td>\n",
       "      <td>FEMALE</td>\n",
       "    </tr>\n",
       "    <tr>\n",
       "      <th>4</th>\n",
       "      <td>D02F0CFD3B6617FF0FD923C9787D5522</td>\n",
       "      <td>55</td>\n",
       "      <td>MALE</td>\n",
       "    </tr>\n",
       "    <tr>\n",
       "      <th>...</th>\n",
       "      <td>...</td>\n",
       "      <td>...</td>\n",
       "      <td>...</td>\n",
       "    </tr>\n",
       "    <tr>\n",
       "      <th>320135</th>\n",
       "      <td>FED6D4194DA23CA4607410C55D6DF246</td>\n",
       "      <td>66</td>\n",
       "      <td>MALE</td>\n",
       "    </tr>\n",
       "    <tr>\n",
       "      <th>320136</th>\n",
       "      <td>018132C688D9CFBAE3DDAF01505243F3</td>\n",
       "      <td>82</td>\n",
       "      <td>FEMALE</td>\n",
       "    </tr>\n",
       "    <tr>\n",
       "      <th>320137</th>\n",
       "      <td>018132C688D9CFBAE3DDAF01505243F3</td>\n",
       "      <td>82</td>\n",
       "      <td>FEMALE</td>\n",
       "    </tr>\n",
       "    <tr>\n",
       "      <th>320138</th>\n",
       "      <td>018132C688D9CFBAE3DDAF01505243F3</td>\n",
       "      <td>82</td>\n",
       "      <td>FEMALE</td>\n",
       "    </tr>\n",
       "    <tr>\n",
       "      <th>320139</th>\n",
       "      <td>018132C688D9CFBAE3DDAF01505243F3</td>\n",
       "      <td>82</td>\n",
       "      <td>FEMALE</td>\n",
       "    </tr>\n",
       "  </tbody>\n",
       "</table>\n",
       "<p>320140 rows × 3 columns</p>\n",
       "</div>"
      ],
      "text/plain": [
       "                                    pxid  age  gender\n",
       "0       519CAC5EFB113B0E451F77E31541A314   36  FEMALE\n",
       "1       224DEFC6F387F61F307846B09F945EB2   34  FEMALE\n",
       "2       224DEFC6F387F61F307846B09F945EB2   34  FEMALE\n",
       "3       224DEFC6F387F61F307846B09F945EB2   34  FEMALE\n",
       "4       D02F0CFD3B6617FF0FD923C9787D5522   55    MALE\n",
       "...                                  ...  ...     ...\n",
       "320135  FED6D4194DA23CA4607410C55D6DF246   66    MALE\n",
       "320136  018132C688D9CFBAE3DDAF01505243F3   82  FEMALE\n",
       "320137  018132C688D9CFBAE3DDAF01505243F3   82  FEMALE\n",
       "320138  018132C688D9CFBAE3DDAF01505243F3   82  FEMALE\n",
       "320139  018132C688D9CFBAE3DDAF01505243F3   82  FEMALE\n",
       "\n",
       "[320140 rows x 3 columns]"
      ]
     },
     "execution_count": 288,
     "metadata": {},
     "output_type": "execute_result"
    }
   ],
   "source": [
    "new_pxdb"
   ]
  },
  {
   "cell_type": "code",
   "execution_count": 289,
   "id": "7cff1607",
   "metadata": {},
   "outputs": [
    {
     "data": {
      "text/plain": [
       "True"
      ]
     },
     "execution_count": 289,
     "metadata": {},
     "output_type": "execute_result"
    }
   ],
   "source": [
    "new_pxdb.duplicated().any()"
   ]
  },
  {
   "cell_type": "code",
   "execution_count": 290,
   "id": "ec9eae4d",
   "metadata": {},
   "outputs": [
    {
     "data": {
      "text/plain": [
       "True"
      ]
     },
     "execution_count": 290,
     "metadata": {},
     "output_type": "execute_result"
    }
   ],
   "source": [
    "new_pxdb.duplicated().any()"
   ]
  },
  {
   "cell_type": "code",
   "execution_count": 291,
   "id": "6cc9c706",
   "metadata": {},
   "outputs": [
    {
     "data": {
      "text/plain": [
       "320140"
      ]
     },
     "execution_count": 291,
     "metadata": {},
     "output_type": "execute_result"
    }
   ],
   "source": [
    "new_pxdb.shape[0]"
   ]
  },
  {
   "cell_type": "code",
   "execution_count": 292,
   "id": "8a67cfcc",
   "metadata": {
    "scrolled": true
   },
   "outputs": [],
   "source": [
    "new_pxdb = new_pxdb.drop_duplicates()"
   ]
  },
  {
   "cell_type": "code",
   "execution_count": 293,
   "id": "15ca2043",
   "metadata": {},
   "outputs": [
    {
     "data": {
      "text/plain": [
       "67194"
      ]
     },
     "execution_count": 293,
     "metadata": {},
     "output_type": "execute_result"
    }
   ],
   "source": [
    "new_pxdb.shape[0]"
   ]
  },
  {
   "cell_type": "code",
   "execution_count": 294,
   "id": "13d38e45",
   "metadata": {
    "scrolled": true
   },
   "outputs": [
    {
     "data": {
      "text/plain": [
       "False"
      ]
     },
     "execution_count": 294,
     "metadata": {},
     "output_type": "execute_result"
    }
   ],
   "source": [
    "new_pxdb.duplicated().any()"
   ]
  },
  {
   "cell_type": "code",
   "execution_count": 295,
   "id": "10a250cc",
   "metadata": {},
   "outputs": [
    {
     "name": "stdout",
     "output_type": "stream",
     "text": [
      "367194\n"
     ]
    }
   ],
   "source": [
    "\n",
    "# Get the existing pxid in new_pxdb\n",
    "existing_pxid = new_pxdb['pxid'].unique()\n",
    "\n",
    "# Select 200,000 random rows from px_db that do not have the same pxid as in new_pxdb\n",
    "random_rows_px_db = px_db[~px_db['pxid'].isin(existing_pxid)].sample(n=300000, random_state=42, replace=False)\n",
    "\n",
    "# Concatenate new_pxdb with the randomly selected rows from px_db\n",
    "new_pxdb = pd.concat([new_pxdb, random_rows_px_db], ignore_index=True)\n",
    "\n",
    "# Verify the shape of the updated DataFrame\n",
    "print(new_pxdb.shape[0])"
   ]
  },
  {
   "cell_type": "code",
   "execution_count": 296,
   "id": "6c29d1b6",
   "metadata": {},
   "outputs": [
    {
     "data": {
      "text/plain": [
       "False"
      ]
     },
     "execution_count": 296,
     "metadata": {},
     "output_type": "execute_result"
    }
   ],
   "source": [
    "new_pxdb.duplicated().any()"
   ]
  },
  {
   "cell_type": "markdown",
   "id": "61b7cf64-47be-4c12-8ee5-d9533401feb8",
   "metadata": {},
   "source": [
    "# Clinic"
   ]
  },
  {
   "cell_type": "code",
   "execution_count": 297,
   "id": "c29b3d98-0a58-4f26-b57e-698ed3271bca",
   "metadata": {
    "tags": []
   },
   "outputs": [],
   "source": [
    "clinics_db = pd.read_csv(\"clinics.csv\", encoding = \"ISO-8859-1\")"
   ]
  },
  {
   "cell_type": "code",
   "execution_count": 298,
   "id": "64a463b9-4fec-42fe-8939-08e9702ef5fe",
   "metadata": {
    "tags": []
   },
   "outputs": [
    {
     "name": "stdout",
     "output_type": "stream",
     "text": [
      "<class 'pandas.core.frame.DataFrame'>\n",
      "RangeIndex: 53962 entries, 0 to 53961\n",
      "Data columns (total 7 columns):\n",
      " #   Column        Non-Null Count  Dtype \n",
      "---  ------        --------------  ----- \n",
      " 0   Unnamed: 0    53962 non-null  int64 \n",
      " 1   clinicid      53962 non-null  object\n",
      " 2   hospitalname  53962 non-null  object\n",
      " 3   IsHospital    53962 non-null  bool  \n",
      " 4   City          53962 non-null  object\n",
      " 5   Province      53962 non-null  object\n",
      " 6   RegionName    53962 non-null  object\n",
      "dtypes: bool(1), int64(1), object(5)\n",
      "memory usage: 2.5+ MB\n"
     ]
    }
   ],
   "source": [
    "clinics_db.info()"
   ]
  },
  {
   "cell_type": "code",
   "execution_count": 299,
   "id": "83a32faf-df1d-477c-baad-2ca71111da86",
   "metadata": {
    "tags": []
   },
   "outputs": [
    {
     "data": {
      "text/plain": [
       "array([\"St. Luke's Medical Center-Global City\",\n",
       "       'Our Lady of Lourdes Hospital', 'Makati Medical Center', ...,\n",
       "       'Leyte Provincial Hospital',\n",
       "       \"Lopez District Farmer's Hospital, Inc.\", 'Alegre Medical Clinic'],\n",
       "      dtype=object)"
      ]
     },
     "execution_count": 299,
     "metadata": {},
     "output_type": "execute_result"
    }
   ],
   "source": [
    "clinics_db['hospitalname'].unique()"
   ]
  },
  {
   "cell_type": "code",
   "execution_count": 300,
   "id": "c54cfb21-5415-4a9c-8120-0e23898cf1e1",
   "metadata": {
    "tags": []
   },
   "outputs": [
    {
     "data": {
      "text/plain": [
       "array(['Taguig', 'Manila', 'Makati', 'San Juan', 'Burgos', 'Butuan City',\n",
       "       'Basco', 'Quezon City', 'Mandaue City', 'Santa Rosa City',\n",
       "       'San Fernando City', 'Santiago City', 'Batangas City',\n",
       "       'Iloilo City', 'Botolan', 'Las PiÃ±as', 'Balabac', 'Pasig',\n",
       "       'Bilar', 'Malabon', 'Caloocan', 'Muntinlupa', 'Candijay',\n",
       "       'San Nicolas', 'Calape', 'Cebu City', 'Manito', 'Pasay',\n",
       "       'Cabanatuan City', 'Antipolo City', 'Taytay', 'Cainta',\n",
       "       'Mandaluyong', 'Marikina', 'San Leonardo', 'DasmariÃ±as City',\n",
       "       'Bacoor City', 'Malolos City', 'ParaÃ±aque', 'Imus City', 'Silang',\n",
       "       'San Jose del Monte City', 'San Mateo', 'Davao City',\n",
       "       'Kidapawan City', 'Tagbilaran City', 'General Trias', 'Balamban',\n",
       "       'Bacolod City', 'Cagayan de Oro', 'Guagua', 'Lubao',\n",
       "       'Zamboanga City', 'Rizal', 'Santa Cruz', 'Asuncion', 'Tagum City',\n",
       "       'Cardona', 'Morong', 'Tanay', 'Teresa', 'Meycauayan City',\n",
       "       'Santo Domingo', 'San Jose City', 'Trece Martires City', 'Angono',\n",
       "       'Mabalacat City', 'Angeles City', 'Ozamiz City', 'Bocaue',\n",
       "       'Pulilan', 'Baliuag', 'Lucena City', 'Plaridel', 'Bustos',\n",
       "       'Valenzuela', 'Koronadal City', 'Dumaguete City', 'Sibulan',\n",
       "       'Navotas', 'Tanza', 'Cabuyao City', 'Batac City', 'Tacloban City',\n",
       "       'San Pedro City', 'Daet', 'Kalilangan', 'Baguio City',\n",
       "       'Urdaneta City', 'Lapu-Lapu City', 'Alicia', 'Dagupan City',\n",
       "       'Legazpi City', 'Naga City', 'Iligan City', 'Digos City',\n",
       "       'Bayawan City', 'Lipa City', 'Asturias', 'Valladolid', 'Bansud',\n",
       "       'Pila', 'Bay', 'BiÃ±an City', 'La Trinidad', 'Sablayan', 'Dinagat',\n",
       "       'Minglanilla', 'Malita', 'Cordoba', 'Olongapo City', 'Padada',\n",
       "       'Boac', 'Malaybalay City', 'Santa Maria', 'Kawit', 'Bulakan',\n",
       "       'San Pablo City', 'Capas', 'Calamba City', 'Hilongos', 'Bacnotan',\n",
       "       'Miagao', 'Tanauan City', 'Santo Tomas', 'Marawi City', 'Carmona',\n",
       "       'Cavite City', 'Basey', 'Talisay City', 'Alegria', 'Cabiao',\n",
       "       'Dingle', 'Surigao City', 'Consolacion', 'Tagaytay City',\n",
       "       'San Francisco', 'Burdeos', 'Floridablanca', 'Binalonan',\n",
       "       'Tarlac City', 'Porac', 'Roxas', 'Bauko', 'Sagada',\n",
       "       'Alaminos City', 'Daraga', 'Bayombong', 'Balanga City',\n",
       "       'Borongan City', 'Rosario', 'General Mariano Alvarez',\n",
       "       'Laoag City', 'Valencia City', 'Lingayen', 'Agoo',\n",
       "       'Puerto Princesa City', 'General Santos City', 'Panabo City',\n",
       "       'Apalit', 'Marilao', 'Kalibo', 'Lambunao', 'Baler', 'Gattaran',\n",
       "       'Lemery', 'Bauan', 'Paombong', 'Balayan', 'Dimasalang', 'Malay',\n",
       "       'Gingoog City', 'Tuguegarao City', 'Ilagan City', 'Camalaniugan',\n",
       "       'Cabagan', 'Tabuk City', 'Vigan City', 'Bantay', 'Sorsogon City',\n",
       "       'La Carlota City', 'Cauayan City', 'Bangued', 'Governor Generoso',\n",
       "       'Tandag City', 'Mendez', 'Toboso', 'San Marcelino', 'Manaoag',\n",
       "       'Ipil', 'Balaoan', 'Iriga City', 'Tampakan', 'Aritao', 'Subic',\n",
       "       'San Luis', 'Mexico', 'Los BaÃ±os', 'Dinalupihan', 'Toledo City',\n",
       "       'Nabua', 'Atok', 'San Carlos City', 'Guiguinto', 'Siniloan',\n",
       "       'Surallah', 'Dapa', 'Pakil', 'Nasugbu', 'Alfonso', 'Noveleta',\n",
       "       'Bambang', 'Obando', 'Dapitan City', 'Calumpit', 'Ormoc City',\n",
       "       'Tacurong City', 'Norzagaray', 'Abra de Ilog', 'Calapan City',\n",
       "       'Binangonan', 'Taal', 'Lala', 'Alcoy', 'Tayabas City',\n",
       "       'Carcar City', 'Tabango', 'Maramag', 'Alubijid', 'Alimodian',\n",
       "       'Tinambac', 'Padre Burgos', 'Candelaria', 'Lucban', 'Sariaya',\n",
       "       'Nueva Valencia', 'Kabankalan City', 'Mamburao', 'Manabo', 'Naic',\n",
       "       'Mangatarem', 'Solano', 'Pandan', 'Roxas City', 'Aborlan', 'Tayug',\n",
       "       'Abulug', 'Sanchez-Mira', 'Boljoon', 'Anahawan', 'Alabat',\n",
       "       'Gloria', 'Cotabato City', 'Polomolok', 'Calanasan', 'Samal City',\n",
       "       'Luna', 'Bangar', 'Tagudin', 'Aringay', 'Cuenca', 'Lambayong',\n",
       "       'Aglipay', 'Santa Catalina', 'Adams', 'Compostela',\n",
       "       'Libjo (Albor)', 'Calasiao', 'Abucay', 'Sultan Kudarat', 'Lian',\n",
       "       'Labason', 'Rodriguez', 'Quezon', 'Del Gallego', 'Buluan',\n",
       "       'Cagdianao', 'Midsayap', 'Cabadbaran City', \"M'lang\",\n",
       "       'Manolo Fortich', 'Pagadian City', 'Tabaco City', 'Ligao City',\n",
       "       'Baybay City', 'Cabugao', 'Panganiban', 'Libon', 'Puerto Galera',\n",
       "       'Margosatubig', 'Lamut', 'Polangui', 'Calbayog City', 'Pateros',\n",
       "       'Solana', 'Balindong', 'Luisiana', 'Dipolog City', 'Passi City',\n",
       "       'Alamada', 'Maragusan', 'Agoncillo', 'Bulan', 'Pastrana',\n",
       "       'Kabasalan', 'Liloy', 'Calayan', 'Magalang', 'Candon City',\n",
       "       'Polillo', 'Calauag', 'Dingras', 'Catarman', 'Buenavista',\n",
       "       'Santa Ana', 'Flora', 'Pagsanjan', 'Llorente', 'Masbate City',\n",
       "       'Batan', 'Liloan', 'Santiago', 'Baras', 'Alcala',\n",
       "       'Science City of MuÃ±oz', 'Bombon', 'Hermosa', 'Pangil', 'Nasipit',\n",
       "       'Naguilian', 'San Ildefonso', 'Victorias City', 'Dagohoy',\n",
       "       'Santa Barbara', 'Malitbog', 'Tanjay City', 'San Pascual',\n",
       "       'Pozzorubio', 'Danao City', 'Guimbal', 'Macabebe', 'Pambujan',\n",
       "       'San Joaquin', 'Ubay', 'Paete', 'New Washington', 'Virac',\n",
       "       'Agdangan', 'Narvacan', 'Isulan', 'San Jose', 'Naval', 'Lugus',\n",
       "       'San Miguel', 'Calaca', 'Santa Teresita', 'Malvar', 'Anini-y',\n",
       "       'Tobias Fornier', 'Prosperidad', 'Hagonoy', 'Naga', 'Arayat',\n",
       "       'Orani', 'Kiblawan', 'Anda', 'Oroquieta City', 'San Fabian',\n",
       "       'Bacarra', 'Dumarao', 'Sogod', 'Libmanan', 'Sampaloc', 'Rosales',\n",
       "       'Villasis', 'Laoac', 'Bogo City', 'Medellin', 'Lopez',\n",
       "       'San Rafael', 'Pamplona', 'Arteche', 'Tiwi', 'Cabarroguis',\n",
       "       'Coron', 'Gonzaga', 'Enrique B. Magalona', 'Kabacan', 'Gumaca',\n",
       "       'Talisay', 'Sagay City', 'Maragondon', 'New Bataan', 'Bugallon',\n",
       "       'Talavera', 'Gapan City', 'Bago City', 'Guimba', 'Leyte',\n",
       "       'Kananga', 'Valencia', 'Makilala', 'Carmen', 'Esperanza',\n",
       "       'Pagbilao', 'Norala', 'Leon', 'Odiongan', 'Silay City',\n",
       "       'Tangub City', 'Camiling', 'Ajuy', 'San Antonio', 'Balagtas',\n",
       "       'Luba', 'Maslog', 'Santa Ignacia', 'Alabel', 'Maco', 'Zumarraga',\n",
       "       'Siquijor', 'Aguilar', 'Matungao', 'Calabanga', 'Bato',\n",
       "       'Pontevedra', 'Burauen', 'Carranglan', 'Zaragoza', 'Santa Rosa',\n",
       "       'Cuartero', 'Aurora', 'Al-Barka', 'Majayjay', 'Zamboanguita',\n",
       "       'Corcuera', 'Caibiran', 'Montevista', 'Bayambang', 'Galimuyod',\n",
       "       'San Quintin', 'Bislig City', 'Medina', 'Clarin', 'Monreal', 'Iba',\n",
       "       'Gabaldon', 'Kiamba', 'Ibaan', 'Oton', 'Tubod', 'Angat', 'Cabusao',\n",
       "       'Monkayo', 'Moncada', 'Kibawe', 'Goa', 'Libungan', 'Laguindingan',\n",
       "       'Mondragon', 'Pavia', 'Banate', 'Buguias', 'Nabunturan',\n",
       "       'Bien Unido', 'Palo', 'Infanta', 'Mawab', 'Nabas', 'Canaman',\n",
       "       'Cadiz City', 'Orion', 'Mabinay', 'Upi', 'Banayoyo', 'Capul',\n",
       "       'Maria', 'Dauis', 'Maasin City', 'Paluan', 'Pigcawayan', 'Bolinao',\n",
       "       'Kasibu', 'Malalag', 'Victoria', 'Bonifacio', 'Jabonga',\n",
       "       'Mati City', 'Concepcion', 'Poro', 'Salcedo', 'Malasiqui',\n",
       "       'Binalbagan', 'Trinidad', 'Bacolor', 'Mariveles', 'Almeria',\n",
       "       'Siaton', 'Calauan', 'Casiguran', 'Paoay', 'Lasam', 'Pinamalayan',\n",
       "       'Nagcarlan', 'Pantukan', 'Pilar', 'Pandi', 'Bais City', 'Jasaan',\n",
       "       'Tiaong', 'Bagabag', 'Carigara', 'Catbalogan City', 'Famy', 'Jolo',\n",
       "       'Bauang', 'Bamban', 'Antequera', 'Jaen', 'Paniqui', 'Don Carlos',\n",
       "       \"Brooke's Point\", 'Pililla', 'Bulusan', 'Oslob', 'Santander',\n",
       "       'Bagac', 'Real', 'Magdalena', 'Licab', 'Gamay', 'Cuyapo',\n",
       "       'Echague', 'Baroy', 'Liliw', 'El Nido', 'Laak', 'Caba', 'Socorro',\n",
       "       'Balingasag', 'Manticao', 'Talisayan', 'Binmaley', 'Guiuan',\n",
       "       'Araceli', 'Indang', 'San Agustin', 'Labangan', 'Bataraza', 'Tago',\n",
       "       'Cavinti', 'Bantayan', 'Manapla', 'Aroroy', 'Sinait', 'Pinili',\n",
       "       'Sibonga', 'Alangalang', 'Mabini', 'Alaminos', 'Magallanes',\n",
       "       'San Clemente', 'Claveria', 'Manay', 'Baganga', 'Palauig',\n",
       "       'Allacapan', 'Banga', 'Sipocot', 'Pikit', 'Alburquerque',\n",
       "       'Libagon', 'Jamindan', 'Mambusao', 'Barobo', 'Asingan', 'Mandaon',\n",
       "       'Abuyog', 'Sultan Dumalondong', 'Banguingui', 'Pinabacdao',\n",
       "       'Madrid', 'Dolores', 'New Corella', 'Bacolod', 'Jose Dalman',\n",
       "       'Initao', 'Molave', 'Pintuyan', 'Sasmuan', 'Camalig', 'Vintar',\n",
       "       'Palompon', 'Daanbantayan', 'Murcia', 'San Pablo', 'Natividad',\n",
       "       'Umingan', 'General Emilio Aguinaldo', 'Amadeo', 'Labo', 'Candoni',\n",
       "       'Kitaotao', 'Lezo', 'Mauban', 'Samal', 'Guihulngan City',\n",
       "       'Cabatuan', 'San Manuel', 'Kapangan', 'Trento', 'Ramon Magsaysay',\n",
       "       'Tublay', 'Baao', 'Castillejos', 'Padre Garcia', 'Cateel', 'Pili',\n",
       "       'Bacacay', 'Lal-lo', 'Lapuyan', 'Pasuquin', 'Panglao', 'Opol',\n",
       "       'Diadi', 'Sara', 'Pitogo', 'Antipas', 'Argao', 'Gerona',\n",
       "       'Roseller Lim', 'Marantao', 'Santa Rita', 'Atimonan', 'Llanera',\n",
       "       'President Roxas', 'Dao', 'Kapatagan', 'Piat', 'Candaba',\n",
       "       'Tabuelan', 'Tupi', 'Aleosan', 'Hamtic', 'Calinog', 'Guinobatan',\n",
       "       'San Felipe', 'Aparri', 'Cuyo', 'Tabogon', 'Tuburan', 'Pototan',\n",
       "       'Malinao', 'Gasan', 'Marihatag', 'Baco', 'Gubat', 'Taysan',\n",
       "       'Mataasnakahoy', 'Bongabon', 'Jalajala', 'Masinloc', 'San Remigio',\n",
       "       'Kitcharao', 'Bula', 'Dilasag', 'General Nakar', 'Tagoloan',\n",
       "       'Dimataling', 'Santa Monica', 'San Isidro', 'Lagonoy', 'Tabina',\n",
       "       'General Luna', 'Tuba', 'Currimao', 'Magsingal', 'Calintaan',\n",
       "       'Mangaldan', 'Bangui', 'Matalom', 'Babatngon', 'Tagkawayan',\n",
       "       'Catanauan', 'Barotac Nuevo', 'Balatan', 'Kalamansig',\n",
       "       'Hinundayan', 'Tigbauan', 'Dumanjug', 'Sabtang', 'San Simon',\n",
       "       'Minalin', 'Estancia', 'Wao', 'Baloi', 'Lupon', 'Banaybanay',\n",
       "       'Tanudan', 'San Jacinto', 'PeÃ±ablanca', 'Moalboal', 'Ronda',\n",
       "       'Badoc', 'Tubigon', 'Panay', 'Tubao', 'Limay', 'Ragay', 'Baggao',\n",
       "       'Tulunan', 'San Fernando', 'Imelda', 'Buug', 'Palayan City',\n",
       "       'Masantol', 'Culion', 'Aliaga', 'Lubang', 'San Narciso',\n",
       "       'Isabela City', 'Tumauini', 'La Libertad', 'Sison', 'Sindangan',\n",
       "       'Basista', 'Urbiztondo', 'Maddela', 'Sulop', 'Patnongon',\n",
       "       'Bunawan', 'Sarangani', 'Balangiga', 'Jaro', 'Biliran', 'Bontoc',\n",
       "       'Bongabong', 'Alilem', 'Patnanungan', 'Janiuay', 'Vallehermoso',\n",
       "       'Buguey', 'Kapalong'], dtype=object)"
      ]
     },
     "execution_count": 300,
     "metadata": {},
     "output_type": "execute_result"
    }
   ],
   "source": [
    "clinics_db['City'].unique()"
   ]
  },
  {
   "cell_type": "code",
   "execution_count": 301,
   "id": "d7626e40-95ad-4202-aef2-138ca7585860",
   "metadata": {
    "tags": []
   },
   "outputs": [
    {
     "data": {
      "text/plain": [
       "array(['National Capital Region (NCR)', 'Ilocos Region (I)',\n",
       "       'Caraga (XIII)', 'Cagayan Valley (II)', 'Central Visayas (VII)',\n",
       "       'CALABARZON (IV-A)', 'Western Visayas (VI)', 'Central Luzon (III)',\n",
       "       'MIMAROPA (IV-B)', 'Bicol Region (V)', 'Davao Region (XI)',\n",
       "       'SOCCSKSARGEN (Cotabato Region) (XII)', 'Northern Mindanao (X)',\n",
       "       'Zamboanga Peninsula (IX)', 'Eastern Visayas (VIII)',\n",
       "       'Cordillera Administrative Region (CAR)',\n",
       "       'Bangsamoro Autonomous Region in Muslim Mindanao (BARMM)'],\n",
       "      dtype=object)"
      ]
     },
     "execution_count": 301,
     "metadata": {},
     "output_type": "execute_result"
    }
   ],
   "source": [
    "clinics_db['RegionName'].unique()"
   ]
  },
  {
   "cell_type": "code",
   "execution_count": 302,
   "id": "c182da70-2905-4bc2-a082-f540aa28dc62",
   "metadata": {
    "tags": []
   },
   "outputs": [
    {
     "data": {
      "text/plain": [
       "False"
      ]
     },
     "execution_count": 302,
     "metadata": {},
     "output_type": "execute_result"
    }
   ],
   "source": [
    "clinics_db.duplicated().any()"
   ]
  },
  {
   "cell_type": "code",
   "execution_count": 303,
   "id": "e5e4c17b",
   "metadata": {},
   "outputs": [
    {
     "data": {
      "text/plain": [
       "array(['Manila', 'Ilocos Sur', 'Agusan del Norte', 'Batanes', 'Cebu',\n",
       "       'Laguna', 'La Union', 'Isabela', 'Batangas', 'Iloilo', 'Zambales',\n",
       "       'Palawan', 'Bohol', 'Ilocos Norte', 'Albay', 'Nueva Ecija',\n",
       "       'Rizal', 'Cavite', 'Bulacan', 'Davao del Sur', 'Cotabato',\n",
       "       'Negros Occidental', 'Misamis Oriental', 'Pampanga',\n",
       "       'Zamboanga del Sur', 'Davao del Norte', 'Misamis Occidental',\n",
       "       'Quezon', 'South Cotabato', 'Negros Oriental', 'Leyte',\n",
       "       'Camarines Norte', 'Bukidnon', 'Benguet', 'Pangasinan',\n",
       "       'Camarines Sur', 'Lanao del Norte', 'Oriental Mindoro',\n",
       "       'Occidental Mindoro', 'Dinagat Islands', 'Davao Occidental',\n",
       "       'Marinduque', 'Tarlac', 'Angeles', 'Lanao del Sur', 'Samar',\n",
       "       'Surigao del Norte', 'Agusan del Sur', 'Mountain Province',\n",
       "       'Nueva Vizcaya', 'Bataan', 'Eastern Samar', 'Aklan', 'Aurora',\n",
       "       'Cagayan', 'Masbate', 'Kalinga', 'Sorsogon', 'Abra',\n",
       "       'Davao Oriental', 'Surigao del Sur', 'Zamboanga Sibugay',\n",
       "       'Zamboanga del Norte', 'Sultan Kudarat', 'Guimaras', 'Antique',\n",
       "       'Capiz', 'Southern Leyte', 'Maguindanao', 'Apayao', 'Quirino',\n",
       "       'Compostela Valley', 'Catanduanes', 'Ifugao', 'Northern Samar',\n",
       "       'Biliran', 'Sulu', 'Romblon', 'Sarangani', 'Siquijor', 'Basilan',\n",
       "       'Taguig', 'Camiguin'], dtype=object)"
      ]
     },
     "execution_count": 303,
     "metadata": {},
     "output_type": "execute_result"
    }
   ],
   "source": [
    "clinics_db['Province'].unique()"
   ]
  },
  {
   "cell_type": "code",
   "execution_count": 304,
   "id": "fcc7c11d-9e6c-4ad6-8851-2b0eb77f5ef2",
   "metadata": {
    "tags": []
   },
   "outputs": [
    {
     "data": {
      "text/plain": [
       "Unnamed: 0      False\n",
       "clinicid        False\n",
       "hospitalname    False\n",
       "IsHospital      False\n",
       "City            False\n",
       "Province        False\n",
       "RegionName      False\n",
       "dtype: bool"
      ]
     },
     "execution_count": 304,
     "metadata": {},
     "output_type": "execute_result"
    }
   ],
   "source": [
    "clinics_db.isnull().any()"
   ]
  },
  {
   "cell_type": "code",
   "execution_count": 305,
   "id": "b3dba5ad",
   "metadata": {},
   "outputs": [
    {
     "data": {
      "text/plain": [
       "0"
      ]
     },
     "execution_count": 305,
     "metadata": {},
     "output_type": "execute_result"
    }
   ],
   "source": [
    "(clinics_db['hospitalname'].isnull()).sum().sum()"
   ]
  },
  {
   "cell_type": "code",
   "execution_count": 306,
   "id": "88536b0f",
   "metadata": {},
   "outputs": [],
   "source": [
    "# change N/A values to 'Unknown'\n",
    "clinics_db['hospitalname'].fillna('Unknown', inplace=True)"
   ]
  },
  {
   "cell_type": "code",
   "execution_count": 307,
   "id": "dfcbb4df",
   "metadata": {},
   "outputs": [
    {
     "data": {
      "text/plain": [
       "Unnamed: 0      False\n",
       "clinicid        False\n",
       "hospitalname    False\n",
       "IsHospital      False\n",
       "City            False\n",
       "Province        False\n",
       "RegionName      False\n",
       "dtype: bool"
      ]
     },
     "execution_count": 307,
     "metadata": {},
     "output_type": "execute_result"
    }
   ],
   "source": [
    "clinics_db.isnull().any()"
   ]
  },
  {
   "cell_type": "code",
   "execution_count": 308,
   "id": "d8784ecf",
   "metadata": {},
   "outputs": [
    {
     "data": {
      "text/plain": [
       "53962"
      ]
     },
     "execution_count": 308,
     "metadata": {},
     "output_type": "execute_result"
    }
   ],
   "source": [
    "clinics_db.shape[0]"
   ]
  },
  {
   "cell_type": "code",
   "execution_count": 309,
   "id": "4aaa1582",
   "metadata": {},
   "outputs": [],
   "source": [
    "clinics_db = clinics_db.drop_duplicates(subset='clinicid')"
   ]
  },
  {
   "cell_type": "code",
   "execution_count": 310,
   "id": "d8720c0c",
   "metadata": {},
   "outputs": [
    {
     "data": {
      "text/plain": [
       "53962"
      ]
     },
     "execution_count": 310,
     "metadata": {},
     "output_type": "execute_result"
    }
   ],
   "source": [
    "clinics_db.shape[0]"
   ]
  },
  {
   "cell_type": "markdown",
   "id": "c49c2c30",
   "metadata": {},
   "source": [
    "After examining the data, it seems that no interpolation technique can be made since it specifies a certain hospital. We can't do dropping of values as well since 36424 rows will be dropped, affecting the data largely. Thus, putting a placeholder, like \"Unknown\" is the best choice for this dataframe."
   ]
  },
  {
   "cell_type": "markdown",
   "id": "20c4562d-f730-4f71-9888-01ee6a91fb51",
   "metadata": {},
   "source": [
    "# Appointment"
   ]
  },
  {
   "cell_type": "code",
   "execution_count": 311,
   "id": "238f26cb-3dff-47ef-8d17-9a7766f2d33d",
   "metadata": {
    "tags": []
   },
   "outputs": [
    {
     "name": "stdout",
     "output_type": "stream",
     "text": [
      "<class 'pandas.core.frame.DataFrame'>\n",
      "RangeIndex: 320140 entries, 0 to 320139\n",
      "Data columns (total 12 columns):\n",
      " #   Column      Non-Null Count   Dtype \n",
      "---  ------      --------------   ----- \n",
      " 0   Unnamed: 0  320140 non-null  int64 \n",
      " 1   pxid        320140 non-null  object\n",
      " 2   clinicid    320140 non-null  object\n",
      " 3   doctorid    320140 non-null  object\n",
      " 4   apptid      320140 non-null  object\n",
      " 5   status      320140 non-null  object\n",
      " 6   TimeQueued  320140 non-null  object\n",
      " 7   QueueDate   320140 non-null  object\n",
      " 8   StartTime   203608 non-null  object\n",
      " 9   EndTime     60152 non-null   object\n",
      " 10  type        320140 non-null  object\n",
      " 11  Virtual     130004 non-null  object\n",
      "dtypes: int64(1), object(11)\n",
      "memory usage: 29.3+ MB\n"
     ]
    }
   ],
   "source": [
    "appoint_db.info()"
   ]
  },
  {
   "cell_type": "code",
   "execution_count": 312,
   "id": "4bec0d53-6800-4d39-bbe2-8e77f30bae5f",
   "metadata": {
    "tags": []
   },
   "outputs": [
    {
     "data": {
      "text/html": [
       "<div>\n",
       "<style scoped>\n",
       "    .dataframe tbody tr th:only-of-type {\n",
       "        vertical-align: middle;\n",
       "    }\n",
       "\n",
       "    .dataframe tbody tr th {\n",
       "        vertical-align: top;\n",
       "    }\n",
       "\n",
       "    .dataframe thead th {\n",
       "        text-align: right;\n",
       "    }\n",
       "</style>\n",
       "<table border=\"1\" class=\"dataframe\">\n",
       "  <thead>\n",
       "    <tr style=\"text-align: right;\">\n",
       "      <th></th>\n",
       "      <th>Unnamed: 0</th>\n",
       "      <th>pxid</th>\n",
       "      <th>clinicid</th>\n",
       "      <th>doctorid</th>\n",
       "      <th>apptid</th>\n",
       "      <th>status</th>\n",
       "      <th>TimeQueued</th>\n",
       "      <th>QueueDate</th>\n",
       "      <th>StartTime</th>\n",
       "      <th>EndTime</th>\n",
       "      <th>type</th>\n",
       "      <th>Virtual</th>\n",
       "    </tr>\n",
       "  </thead>\n",
       "  <tbody>\n",
       "    <tr>\n",
       "      <th>0</th>\n",
       "      <td>0</td>\n",
       "      <td>FE4A5D5A20EC492D2FC691F126A568AB</td>\n",
       "      <td>3B8D83483189887A2F1A39D690463A8F</td>\n",
       "      <td>ACB3A881C7CE9ABCAE0CE8C99C86A906</td>\n",
       "      <td>04BC9218E072BEEFEBEE9C97B78A35C9</td>\n",
       "      <td>Queued</td>\n",
       "      <td>2020-06-22 05:11:38.247000000</td>\n",
       "      <td>2020-07-02 16:00:00</td>\n",
       "      <td>2020-07-02 17:00:38.073000000</td>\n",
       "      <td>2020-07-02 17:15:38.073000000</td>\n",
       "      <td>Consultation</td>\n",
       "      <td>NaN</td>\n",
       "    </tr>\n",
       "    <tr>\n",
       "      <th>1</th>\n",
       "      <td>1</td>\n",
       "      <td>FE4A5D5A20EC492D2FC691F126A568AB</td>\n",
       "      <td>BAE3529F0210CC5A603AC708BB5E7797</td>\n",
       "      <td>ACB3A881C7CE9ABCAE0CE8C99C86A906</td>\n",
       "      <td>F3BAF3D43E9C6DE6D41850604F4A3A71</td>\n",
       "      <td>Serving</td>\n",
       "      <td>2020-07-24 06:30:36.910000000</td>\n",
       "      <td>2020-07-24 16:00:00</td>\n",
       "      <td>2020-07-25 02:00:36.877000000</td>\n",
       "      <td>2020-07-25 02:15:36.877000000</td>\n",
       "      <td>Consultation</td>\n",
       "      <td>NaN</td>\n",
       "    </tr>\n",
       "    <tr>\n",
       "      <th>2</th>\n",
       "      <td>2</td>\n",
       "      <td>E6BC8E80685AA4A239617F196F12A0C3</td>\n",
       "      <td>3B8D83483189887A2F1A39D690463A8F</td>\n",
       "      <td>ACB3A881C7CE9ABCAE0CE8C99C86A906</td>\n",
       "      <td>F2335AAFB7EE079C7E7306591057C0C9</td>\n",
       "      <td>Queued</td>\n",
       "      <td>2020-06-26 04:51:16.403000000</td>\n",
       "      <td>2020-07-12 16:00:00</td>\n",
       "      <td>2020-07-12 17:00:15.833000000</td>\n",
       "      <td>2020-07-12 17:15:15.833000000</td>\n",
       "      <td>Consultation</td>\n",
       "      <td>NaN</td>\n",
       "    </tr>\n",
       "    <tr>\n",
       "      <th>3</th>\n",
       "      <td>3</td>\n",
       "      <td>E6BC8E80685AA4A239617F196F12A0C3</td>\n",
       "      <td>3B8D83483189887A2F1A39D690463A8F</td>\n",
       "      <td>ACB3A881C7CE9ABCAE0CE8C99C86A906</td>\n",
       "      <td>DA4023B5A8C3F1BD540EA82552F21134</td>\n",
       "      <td>Queued</td>\n",
       "      <td>2020-07-13 06:07:13.537000000</td>\n",
       "      <td>2020-07-28 16:00:00</td>\n",
       "      <td>2020-07-29 05:00:13.133000000</td>\n",
       "      <td>2020-07-29 05:15:13.133000000</td>\n",
       "      <td>Consultation</td>\n",
       "      <td>NaN</td>\n",
       "    </tr>\n",
       "    <tr>\n",
       "      <th>4</th>\n",
       "      <td>4</td>\n",
       "      <td>E6BC8E80685AA4A239617F196F12A0C3</td>\n",
       "      <td>BAE3529F0210CC5A603AC708BB5E7797</td>\n",
       "      <td>ACB3A881C7CE9ABCAE0CE8C99C86A906</td>\n",
       "      <td>87C3AD392CEF821752AB5191F67D46A7</td>\n",
       "      <td>Serving</td>\n",
       "      <td>2020-07-31 02:13:15.870000000</td>\n",
       "      <td>2020-07-31 16:00:00</td>\n",
       "      <td>2020-08-01 02:30:56.457000000</td>\n",
       "      <td>2020-08-01 02:45:56.460000000</td>\n",
       "      <td>Consultation</td>\n",
       "      <td>NaN</td>\n",
       "    </tr>\n",
       "  </tbody>\n",
       "</table>\n",
       "</div>"
      ],
      "text/plain": [
       "   Unnamed: 0                              pxid  \\\n",
       "0           0  FE4A5D5A20EC492D2FC691F126A568AB   \n",
       "1           1  FE4A5D5A20EC492D2FC691F126A568AB   \n",
       "2           2  E6BC8E80685AA4A239617F196F12A0C3   \n",
       "3           3  E6BC8E80685AA4A239617F196F12A0C3   \n",
       "4           4  E6BC8E80685AA4A239617F196F12A0C3   \n",
       "\n",
       "                           clinicid                          doctorid  \\\n",
       "0  3B8D83483189887A2F1A39D690463A8F  ACB3A881C7CE9ABCAE0CE8C99C86A906   \n",
       "1  BAE3529F0210CC5A603AC708BB5E7797  ACB3A881C7CE9ABCAE0CE8C99C86A906   \n",
       "2  3B8D83483189887A2F1A39D690463A8F  ACB3A881C7CE9ABCAE0CE8C99C86A906   \n",
       "3  3B8D83483189887A2F1A39D690463A8F  ACB3A881C7CE9ABCAE0CE8C99C86A906   \n",
       "4  BAE3529F0210CC5A603AC708BB5E7797  ACB3A881C7CE9ABCAE0CE8C99C86A906   \n",
       "\n",
       "                             apptid   status                     TimeQueued  \\\n",
       "0  04BC9218E072BEEFEBEE9C97B78A35C9   Queued  2020-06-22 05:11:38.247000000   \n",
       "1  F3BAF3D43E9C6DE6D41850604F4A3A71  Serving  2020-07-24 06:30:36.910000000   \n",
       "2  F2335AAFB7EE079C7E7306591057C0C9   Queued  2020-06-26 04:51:16.403000000   \n",
       "3  DA4023B5A8C3F1BD540EA82552F21134   Queued  2020-07-13 06:07:13.537000000   \n",
       "4  87C3AD392CEF821752AB5191F67D46A7  Serving  2020-07-31 02:13:15.870000000   \n",
       "\n",
       "             QueueDate                      StartTime  \\\n",
       "0  2020-07-02 16:00:00  2020-07-02 17:00:38.073000000   \n",
       "1  2020-07-24 16:00:00  2020-07-25 02:00:36.877000000   \n",
       "2  2020-07-12 16:00:00  2020-07-12 17:00:15.833000000   \n",
       "3  2020-07-28 16:00:00  2020-07-29 05:00:13.133000000   \n",
       "4  2020-07-31 16:00:00  2020-08-01 02:30:56.457000000   \n",
       "\n",
       "                         EndTime          type Virtual  \n",
       "0  2020-07-02 17:15:38.073000000  Consultation     NaN  \n",
       "1  2020-07-25 02:15:36.877000000  Consultation     NaN  \n",
       "2  2020-07-12 17:15:15.833000000  Consultation     NaN  \n",
       "3  2020-07-29 05:15:13.133000000  Consultation     NaN  \n",
       "4  2020-08-01 02:45:56.460000000  Consultation     NaN  "
      ]
     },
     "execution_count": 312,
     "metadata": {},
     "output_type": "execute_result"
    }
   ],
   "source": [
    "appoint_db.head()"
   ]
  },
  {
   "cell_type": "code",
   "execution_count": 313,
   "id": "a1b7c564-a335-483c-a8ef-c6c9da79cf6f",
   "metadata": {
    "tags": []
   },
   "outputs": [
    {
     "data": {
      "text/plain": [
       "array(['Queued', 'Serving', 'NoShow', 'Complete', 'Cancel', 'Skip'],\n",
       "      dtype=object)"
      ]
     },
     "execution_count": 313,
     "metadata": {},
     "output_type": "execute_result"
    }
   ],
   "source": [
    "appoint_db.status.unique()"
   ]
  },
  {
   "cell_type": "code",
   "execution_count": 314,
   "id": "caf717ba-1a7b-422d-b757-0a12c07f960a",
   "metadata": {
    "tags": []
   },
   "outputs": [
    {
     "data": {
      "text/plain": [
       "status\n",
       "Queued      179638\n",
       "Complete    135259\n",
       "Cancel        2258\n",
       "Serving       1544\n",
       "NoShow        1008\n",
       "Skip           433\n",
       "Name: count, dtype: int64"
      ]
     },
     "execution_count": 314,
     "metadata": {},
     "output_type": "execute_result"
    }
   ],
   "source": [
    "appoint_db['status'].value_counts()"
   ]
  },
  {
   "cell_type": "code",
   "execution_count": 315,
   "id": "e102363d-2ef5-416b-85aa-a76696f0f78c",
   "metadata": {
    "tags": []
   },
   "outputs": [
    {
     "data": {
      "text/plain": [
       "type\n",
       "Consultation    319931\n",
       "Inpatient          209\n",
       "Name: count, dtype: int64"
      ]
     },
     "execution_count": 315,
     "metadata": {},
     "output_type": "execute_result"
    }
   ],
   "source": [
    "appoint_db['type'].value_counts()"
   ]
  },
  {
   "cell_type": "code",
   "execution_count": 316,
   "id": "9c7c6776-d9e7-4422-9f76-31112c8e2b79",
   "metadata": {
    "tags": []
   },
   "outputs": [
    {
     "data": {
      "text/plain": [
       "Virtual\n",
       "False    124157\n",
       "True       5847\n",
       "Name: count, dtype: int64"
      ]
     },
     "execution_count": 316,
     "metadata": {},
     "output_type": "execute_result"
    }
   ],
   "source": [
    "appoint_db['Virtual'].value_counts()"
   ]
  },
  {
   "cell_type": "code",
   "execution_count": 317,
   "id": "c5b2bb74-4a4e-4380-b9b9-471cce06b9a4",
   "metadata": {
    "tags": []
   },
   "outputs": [
    {
     "data": {
      "text/plain": [
       "Unnamed: 0    False\n",
       "pxid          False\n",
       "clinicid      False\n",
       "doctorid      False\n",
       "apptid        False\n",
       "status        False\n",
       "TimeQueued    False\n",
       "QueueDate     False\n",
       "StartTime      True\n",
       "EndTime        True\n",
       "type          False\n",
       "Virtual        True\n",
       "dtype: bool"
      ]
     },
     "execution_count": 317,
     "metadata": {},
     "output_type": "execute_result"
    }
   ],
   "source": [
    "appoint_db.isnull().any()"
   ]
  },
  {
   "cell_type": "code",
   "execution_count": 318,
   "id": "ba17bb05",
   "metadata": {},
   "outputs": [
    {
     "data": {
      "text/plain": [
       "False"
      ]
     },
     "execution_count": 318,
     "metadata": {},
     "output_type": "execute_result"
    }
   ],
   "source": [
    "appoint_db.duplicated().any()"
   ]
  },
  {
   "cell_type": "code",
   "execution_count": 319,
   "id": "3417cda5-296b-467b-b592-396005f9144d",
   "metadata": {
    "tags": []
   },
   "outputs": [],
   "source": [
    "# n = 100000\n",
    "# appoint_db = appoint_db.sample(n, random_state=25)\n",
    "# appoint_db.head()"
   ]
  },
  {
   "cell_type": "code",
   "execution_count": 320,
   "id": "6479a915",
   "metadata": {},
   "outputs": [],
   "source": [
    "appoint_db = appoint_db.merge(px_db, left_on='pxid', right_on='pxid')[['pxid', 'clinicid', 'doctorid', 'apptid', 'status', 'TimeQueued', 'QueueDate', 'StartTime', 'EndTime', 'type', 'Virtual']]\n"
   ]
  },
  {
   "cell_type": "code",
   "execution_count": 321,
   "id": "10815c73",
   "metadata": {
    "scrolled": true
   },
   "outputs": [
    {
     "data": {
      "text/html": [
       "<div>\n",
       "<style scoped>\n",
       "    .dataframe tbody tr th:only-of-type {\n",
       "        vertical-align: middle;\n",
       "    }\n",
       "\n",
       "    .dataframe tbody tr th {\n",
       "        vertical-align: top;\n",
       "    }\n",
       "\n",
       "    .dataframe thead th {\n",
       "        text-align: right;\n",
       "    }\n",
       "</style>\n",
       "<table border=\"1\" class=\"dataframe\">\n",
       "  <thead>\n",
       "    <tr style=\"text-align: right;\">\n",
       "      <th></th>\n",
       "      <th>pxid</th>\n",
       "      <th>clinicid</th>\n",
       "      <th>doctorid</th>\n",
       "      <th>apptid</th>\n",
       "      <th>status</th>\n",
       "      <th>TimeQueued</th>\n",
       "      <th>QueueDate</th>\n",
       "      <th>StartTime</th>\n",
       "      <th>EndTime</th>\n",
       "      <th>type</th>\n",
       "      <th>Virtual</th>\n",
       "    </tr>\n",
       "  </thead>\n",
       "  <tbody>\n",
       "    <tr>\n",
       "      <th>0</th>\n",
       "      <td>FE4A5D5A20EC492D2FC691F126A568AB</td>\n",
       "      <td>3B8D83483189887A2F1A39D690463A8F</td>\n",
       "      <td>ACB3A881C7CE9ABCAE0CE8C99C86A906</td>\n",
       "      <td>04BC9218E072BEEFEBEE9C97B78A35C9</td>\n",
       "      <td>Queued</td>\n",
       "      <td>2020-06-22 05:11:38.247000000</td>\n",
       "      <td>2020-07-02 16:00:00</td>\n",
       "      <td>2020-07-02 17:00:38.073000000</td>\n",
       "      <td>2020-07-02 17:15:38.073000000</td>\n",
       "      <td>Consultation</td>\n",
       "      <td>NaN</td>\n",
       "    </tr>\n",
       "    <tr>\n",
       "      <th>1</th>\n",
       "      <td>FE4A5D5A20EC492D2FC691F126A568AB</td>\n",
       "      <td>BAE3529F0210CC5A603AC708BB5E7797</td>\n",
       "      <td>ACB3A881C7CE9ABCAE0CE8C99C86A906</td>\n",
       "      <td>F3BAF3D43E9C6DE6D41850604F4A3A71</td>\n",
       "      <td>Serving</td>\n",
       "      <td>2020-07-24 06:30:36.910000000</td>\n",
       "      <td>2020-07-24 16:00:00</td>\n",
       "      <td>2020-07-25 02:00:36.877000000</td>\n",
       "      <td>2020-07-25 02:15:36.877000000</td>\n",
       "      <td>Consultation</td>\n",
       "      <td>NaN</td>\n",
       "    </tr>\n",
       "    <tr>\n",
       "      <th>2</th>\n",
       "      <td>E6BC8E80685AA4A239617F196F12A0C3</td>\n",
       "      <td>3B8D83483189887A2F1A39D690463A8F</td>\n",
       "      <td>ACB3A881C7CE9ABCAE0CE8C99C86A906</td>\n",
       "      <td>F2335AAFB7EE079C7E7306591057C0C9</td>\n",
       "      <td>Queued</td>\n",
       "      <td>2020-06-26 04:51:16.403000000</td>\n",
       "      <td>2020-07-12 16:00:00</td>\n",
       "      <td>2020-07-12 17:00:15.833000000</td>\n",
       "      <td>2020-07-12 17:15:15.833000000</td>\n",
       "      <td>Consultation</td>\n",
       "      <td>NaN</td>\n",
       "    </tr>\n",
       "    <tr>\n",
       "      <th>3</th>\n",
       "      <td>E6BC8E80685AA4A239617F196F12A0C3</td>\n",
       "      <td>3B8D83483189887A2F1A39D690463A8F</td>\n",
       "      <td>ACB3A881C7CE9ABCAE0CE8C99C86A906</td>\n",
       "      <td>DA4023B5A8C3F1BD540EA82552F21134</td>\n",
       "      <td>Queued</td>\n",
       "      <td>2020-07-13 06:07:13.537000000</td>\n",
       "      <td>2020-07-28 16:00:00</td>\n",
       "      <td>2020-07-29 05:00:13.133000000</td>\n",
       "      <td>2020-07-29 05:15:13.133000000</td>\n",
       "      <td>Consultation</td>\n",
       "      <td>NaN</td>\n",
       "    </tr>\n",
       "    <tr>\n",
       "      <th>4</th>\n",
       "      <td>E6BC8E80685AA4A239617F196F12A0C3</td>\n",
       "      <td>BAE3529F0210CC5A603AC708BB5E7797</td>\n",
       "      <td>ACB3A881C7CE9ABCAE0CE8C99C86A906</td>\n",
       "      <td>87C3AD392CEF821752AB5191F67D46A7</td>\n",
       "      <td>Serving</td>\n",
       "      <td>2020-07-31 02:13:15.870000000</td>\n",
       "      <td>2020-07-31 16:00:00</td>\n",
       "      <td>2020-08-01 02:30:56.457000000</td>\n",
       "      <td>2020-08-01 02:45:56.460000000</td>\n",
       "      <td>Consultation</td>\n",
       "      <td>NaN</td>\n",
       "    </tr>\n",
       "  </tbody>\n",
       "</table>\n",
       "</div>"
      ],
      "text/plain": [
       "                               pxid                          clinicid  \\\n",
       "0  FE4A5D5A20EC492D2FC691F126A568AB  3B8D83483189887A2F1A39D690463A8F   \n",
       "1  FE4A5D5A20EC492D2FC691F126A568AB  BAE3529F0210CC5A603AC708BB5E7797   \n",
       "2  E6BC8E80685AA4A239617F196F12A0C3  3B8D83483189887A2F1A39D690463A8F   \n",
       "3  E6BC8E80685AA4A239617F196F12A0C3  3B8D83483189887A2F1A39D690463A8F   \n",
       "4  E6BC8E80685AA4A239617F196F12A0C3  BAE3529F0210CC5A603AC708BB5E7797   \n",
       "\n",
       "                           doctorid                            apptid  \\\n",
       "0  ACB3A881C7CE9ABCAE0CE8C99C86A906  04BC9218E072BEEFEBEE9C97B78A35C9   \n",
       "1  ACB3A881C7CE9ABCAE0CE8C99C86A906  F3BAF3D43E9C6DE6D41850604F4A3A71   \n",
       "2  ACB3A881C7CE9ABCAE0CE8C99C86A906  F2335AAFB7EE079C7E7306591057C0C9   \n",
       "3  ACB3A881C7CE9ABCAE0CE8C99C86A906  DA4023B5A8C3F1BD540EA82552F21134   \n",
       "4  ACB3A881C7CE9ABCAE0CE8C99C86A906  87C3AD392CEF821752AB5191F67D46A7   \n",
       "\n",
       "    status                     TimeQueued            QueueDate  \\\n",
       "0   Queued  2020-06-22 05:11:38.247000000  2020-07-02 16:00:00   \n",
       "1  Serving  2020-07-24 06:30:36.910000000  2020-07-24 16:00:00   \n",
       "2   Queued  2020-06-26 04:51:16.403000000  2020-07-12 16:00:00   \n",
       "3   Queued  2020-07-13 06:07:13.537000000  2020-07-28 16:00:00   \n",
       "4  Serving  2020-07-31 02:13:15.870000000  2020-07-31 16:00:00   \n",
       "\n",
       "                       StartTime                        EndTime          type  \\\n",
       "0  2020-07-02 17:00:38.073000000  2020-07-02 17:15:38.073000000  Consultation   \n",
       "1  2020-07-25 02:00:36.877000000  2020-07-25 02:15:36.877000000  Consultation   \n",
       "2  2020-07-12 17:00:15.833000000  2020-07-12 17:15:15.833000000  Consultation   \n",
       "3  2020-07-29 05:00:13.133000000  2020-07-29 05:15:13.133000000  Consultation   \n",
       "4  2020-08-01 02:30:56.457000000  2020-08-01 02:45:56.460000000  Consultation   \n",
       "\n",
       "  Virtual  \n",
       "0     NaN  \n",
       "1     NaN  \n",
       "2     NaN  \n",
       "3     NaN  \n",
       "4     NaN  "
      ]
     },
     "execution_count": 321,
     "metadata": {},
     "output_type": "execute_result"
    }
   ],
   "source": [
    "appoint_db.head()"
   ]
  },
  {
   "cell_type": "code",
   "execution_count": 322,
   "id": "55d4050e",
   "metadata": {},
   "outputs": [
    {
     "data": {
      "text/plain": [
       "320140"
      ]
     },
     "execution_count": 322,
     "metadata": {},
     "output_type": "execute_result"
    }
   ],
   "source": [
    "appoint_db.shape[0]"
   ]
  },
  {
   "cell_type": "code",
   "execution_count": 323,
   "id": "2b512ec4",
   "metadata": {},
   "outputs": [],
   "source": [
    "appoint_db=appoint_db.drop_duplicates(subset='apptid')"
   ]
  },
  {
   "cell_type": "code",
   "execution_count": 324,
   "id": "c55ed181",
   "metadata": {},
   "outputs": [
    {
     "data": {
      "text/plain": [
       "320140"
      ]
     },
     "execution_count": 324,
     "metadata": {},
     "output_type": "execute_result"
    }
   ],
   "source": [
    "appoint_db.shape[0]"
   ]
  },
  {
   "cell_type": "markdown",
   "id": "3381335f",
   "metadata": {},
   "source": [
    "Appointments seem to have valid data."
   ]
  },
  {
   "cell_type": "markdown",
   "id": "36b36721-489e-4a15-8c96-da04231d9e27",
   "metadata": {},
   "source": [
    "# Doctors"
   ]
  },
  {
   "cell_type": "code",
   "execution_count": 325,
   "id": "76bd7c6a-da31-4102-927f-e69553171809",
   "metadata": {
    "tags": []
   },
   "outputs": [],
   "source": [
    "doctors_db = pd.read_csv(\"doctors.csv\", encoding = \"ISO-8859-1\")"
   ]
  },
  {
   "cell_type": "code",
   "execution_count": 326,
   "id": "9a9972e3-06ca-411f-927c-c66e97f8e323",
   "metadata": {
    "tags": []
   },
   "outputs": [
    {
     "name": "stdout",
     "output_type": "stream",
     "text": [
      "<class 'pandas.core.frame.DataFrame'>\n",
      "RangeIndex: 59602 entries, 0 to 59601\n",
      "Data columns (total 4 columns):\n",
      " #   Column         Non-Null Count  Dtype \n",
      "---  ------         --------------  ----- \n",
      " 0   Unnamed: 0     59602 non-null  int64 \n",
      " 1   doctorid       59602 non-null  object\n",
      " 2   mainspecialty  59602 non-null  object\n",
      " 3   age            59602 non-null  int64 \n",
      "dtypes: int64(2), object(2)\n",
      "memory usage: 1.8+ MB\n"
     ]
    }
   ],
   "source": [
    "doctors_db.info()"
   ]
  },
  {
   "cell_type": "code",
   "execution_count": 327,
   "id": "698e5f0e-9db7-4906-9fe6-3bec73090ac0",
   "metadata": {
    "tags": []
   },
   "outputs": [
    {
     "data": {
      "text/plain": [
       "mainspecialty\n",
       "Unknown                                  33273\n",
       "Internal Medicine                         3812\n",
       "General Medicine                          2317\n",
       "Pediatrics                                1709\n",
       "Family Medicine                            894\n",
       "                                         ...  \n",
       "Orthopaedics (Bone and Joint Surgery)        1\n",
       "Generalists                                  1\n",
       "Public Health, Pathology                     1\n",
       "Internal Medicibe                            1\n",
       "Allergist                                    1\n",
       "Name: count, Length: 3618, dtype: int64"
      ]
     },
     "execution_count": 327,
     "metadata": {},
     "output_type": "execute_result"
    }
   ],
   "source": [
    "doctors_db['mainspecialty'].value_counts()"
   ]
  },
  {
   "cell_type": "code",
   "execution_count": 328,
   "id": "2829619f-2b7b-4709-b405-35bd5e0b7039",
   "metadata": {
    "tags": []
   },
   "outputs": [
    {
     "data": {
      "text/plain": [
       "array(['General Medicine', 'Family Medicine', 'Vascular Medicine', ...,\n",
       "       'Bone alignment therapy', 'Healot Biomekaniks', 'Allergist'],\n",
       "      dtype=object)"
      ]
     },
     "execution_count": 328,
     "metadata": {},
     "output_type": "execute_result"
    }
   ],
   "source": [
    "doctors_db['mainspecialty'].unique()\n"
   ]
  },
  {
   "cell_type": "code",
   "execution_count": 329,
   "id": "52b372fe",
   "metadata": {},
   "outputs": [],
   "source": [
    "# WIP, also idk how to drop the stuff thats in the list so if yall know how pls lmk ee\n",
    "doctors_db = doctors_db[~doctors_db[\"mainspecialty\"].isin([\"Test\", \"Endocrinology (test)\", \"Testing\", \"test\", \"abc\", \"bbbb\", \"abbb\",\n",
    " \"isiwiwiw\", \"super saiyan\", \"Db\", \"Ll\", \"Main\", \"m\", \"as\", \"ggg\", \"SolSee\",  \"ya\", \"1\", \"MainS\", \"1231\", \"123\", \"MS\",  \"xxx\", \"asd\", \"F?s????e?ape?t??\",\n",
    "   \"MainSpecialty\", \"kirurgji\", \"zxczcxcxzcxz\", \"ABCD\", \"b\", \"L\", \"RN/A\", \"123123\", \"AAAAAAAAAAA\", \"A\", \"AAA\", \"Omomi\", \"afsf\", \"Hjj\",  \"aoeu\", \"ooooo\", \n",
    "   \"'><img src=x onerror=prompt(1)>\", \"s\",\"a\", \"gaga\", \"man\", \"M\", \"Things\", \"aaaaaaaaaaa\", \"Com\", \"nope\", \"Rrr\", \"IDK\", \"B\",\n",
    "   \"Aaa\", \"Yy\", \"lkjsadlfkj\", \"kdsjflkfdsjg\", \"Yg\", \"Me :)\", \"Breeding Uroplatus\", \"Absenos\", \"qweqwe\", \"zzz\", \"nnnnnn\", \"sdf\",\n",
    "   \"Special\",\"n\",\"12\", \"AGREE\", \"Dhjdu\", \"Me\", \"Md\", \"Help\", \"P\", \"43\", \"fdgf\", \"ertryty\", \"sdaf\", \"sdfsda\",\n",
    "   \"Est qui minim et au\", \"Hull Engineering\", \"Ghhhhj\", \"Computer Science And Technology\", \"Gsu\", \"fhhhf\",\n",
    "   \"Ttt\", \"Ship handling\", \"acctg\", \"Gh\", \"Specialty 1\",  \"Specialty\", \"Ok\", \"Human Resources\", \"Web Development\",\n",
    "   \"ABC\", \"ertertertert ertert\", \"Degree\", \"patient\", \"Test account\", \".\", \"main specialty\", \"Web Developer\",\n",
    "   \"F\", \"Welder pipe filter\", \"Patienr\", \"Sorry wrong sign up\", \"sdd\", \"Helping mother to gave birth by normal delivery\",\n",
    "   \"Hshshs\", \"w\", \"Hahaha\", \"Test Only\", \"Babag\", \"computer science\", \"accounting\", \"Test Specilty\", \"kik\", \"Sdj\",\n",
    "   \"Bdjsp\", \"finane\", \"Being Me\", \"3\", \"tester\", \"Major in accountancy\", \"any\", \"CS\", \"I\", \"Bshshshs\",\n",
    "    \"FN\", \"sccs\", \"moon light\", \"No\", \"User\", \"asfasfsaf\", \"awf\", \"asdf\", \"Shejsjj\", \"Elecrical\", \"dd\", \"bba\", \"N\", \"x\",\"Internet\",\n",
    "    \"HACKING\",\"Worker\",\"Her\", \"f\", \"Lalala\", \"Hh\", \"core\", \"Fpsedm\", \"Sales\", \"cc\", \"Sample\", \"Sen\", \"Level 1 Hospital\",\n",
    "    \"Ghetto\", \"maka\", \"Sick\", \"Qui culpa in quo ea\", \"Bab\", \"bussiness\", \"sasa\", \"yes\", \"BEEd\", \"Bsb\", \"Hhh\", \"Restaurants\",\n",
    "    \"Bvv\", \"X\", \"000\", \"Kakakak\", \"Fabricator\", \"English\", \"Ddsdaa\", \"222\", \"Ids\", \"tests\", \"Consult\", \"I need Medicine\",\n",
    "    \"Shy caustic  \", \"English Language Studies\", \"dwadawd\", \"da\", \"wada\", \"fawawf\", \"Housewife\", \"hba1c\", \"H\", \"bjj\",\n",
    "    \"hjikjjbh\", \"Calvin Smith\", \"Pineapple Processing\", \"What\", \"Shaman\", \"hhhbb\", \"banking\", \"Design\", \"broken colarbone\",\n",
    "    \"S\", \"Hahahahah\",\"Hsha\",\"Hsha\", \"asdas\", \"trial\", \"sir\", \"asdasd\", \"jj\", \"ef\", \"a/a\", \"ad\", \"adasd\", \"cfvhgbjnk\", \"sample\",\n",
    "    \"sh\", \"Snsjsj\", \"das\", \"bhb\", \"im not a doctor\", \"Q\", \"--\", \"vv\", \"Bsbs\", \"Nil\",\"Ndhdbehbsjshs\", \"Seafarer\", \"to\", \"On\",\n",
    "    \"Bbbb\", \"hah\", \"ghbb\", \"need a demtology\", \"cxxxc\", \"Mother\", \"Resting\", \"2\", \"medcert\", \"Aa\", \"c\", \"J\", \"IMMKMLKSMDLKMS\",\n",
    "    \"aaa\", \"Gygghh\", \"Hshhs\", \"Xisis\", \"Not A Doctor\", \"guycvujb\", \"hhh\", \"qqq\", \"dfghdfjh\", \"to motivate\", \"W\", \"Asksbdkdnd\",\n",
    "    \"Shshaha\", \"k\", \"nejdhdjdjdh\", \"For check up\", \"Check up\", \"Wrong Entry\", \"Partner Visa\", \"fdd\", \"All\", \"jsjsjsja\", \"LLala\",\n",
    "    \"Bbb\", \"Jajan\", \"Snsnd\", \"",
    "\", \"FOLLOW UP\", \"hdh\", \"enen\", \"js\", \"wqeqwe\"\n",
    "   ])]\n",
    "\n",
    "doctors_db = doctors_db.replace(to_replace=[\"docmark_coli@yahoo.com\",\"Leading You To True Health\",\"SURGUYYY\",\"Doctor\",\"logistics\", \"In\", \"main\",\"3D\", \n",
    "\"event coordinator\", \"a/a\", \"ad\", \"SPECIALTY\", \"non\", \"Loves Kids\", \"Bed Making\",\"ONLINE KONSULTA\",\"DR.RUSSEL VILLANUEVA\",\n",
    "\"FAMED\", \"Your Health Is Our Priority\", \"-\", \"na\", \"Patient\", \"Nothing\", \" \", \"Na\", \"RALPh Roque\", \"RN\", \"Jennifer Apurillo Baldillo\",\n",
    "\"appointments\", \"Marc\", \"N/a\", \"Trisha Reyes\", \"Not Sure\", \"OSH\", \"Dr. Anna Mitzi Matela\", \"Vnc\",\"Dra. beverly\",\n",
    "\"Valerie Ann  Valdez\", \"Gonzalez\", \"NONE\", \"Wala\", \"MBA\", \"Agnes Atas\", \"Too many to mention\", \"None \", \"Oliver Delgado Castro\",\n",
    "\"N/A \", \"Valdez\", \"Faye Garciano\", \"Need Consultant Of Doctor Before Vaccine\", \"N.A\", \"n.a\",\"0\", \"nan\", \"VA\", \"none\", \"PGI\",\n",
    "\"La\", \"Second opinion\", \"Luisa marie s cruz\", \"ERN\", \"Herrera\", \"-\", \"MeFocal cert\", \"Nothings \", \"Orjto\", \"Mr.\", \"Makati med\",\n",
    "\"mr\", \"doc\", \"Doc\", \"Cruz\", \". \", \"Allen Marquez\", \"131375\", \"Azarraga\", \"Skip\", \"??\", \"515828\", \"no\", \"Nonde\", \"Fermont Base\", \n",
    "\"Juan Rafael\", \"Benoza\", \"Yu\", \"jana\", \"Joshua Bacolod\", \"unknown\"\n",
    "], value=\"Unknown\")\n",
    "\n",
    "unique_specialty = doctors_db['mainspecialty'].unique()\n"
   ]
  },
  {
   "cell_type": "code",
   "execution_count": 330,
   "id": "9b801215-ca20-4800-9127-ca472a969795",
   "metadata": {
    "tags": []
   },
   "outputs": [
    {
     "data": {
      "text/plain": [
       "array([41, 43, 26, 34, 50, 62, 38, 57, 44, 59, 39, 49, 55, 37, 40, 48, 51,\n",
       "       46, 45, 54, 61, 60, 31, 65, 36, 72, 64, 35, 47, 33, 68, 42, 73, 53,\n",
       "       58, 71, 52, 56, 67, 63, 66, 81, 69, 70, 32, 91, 75, 30, 78, 76, 27,\n",
       "       29, 74,  8,  7, 28, 80, 24, 25, 92, 77, 23, 83,  4, 86, 88, 21, 22,\n",
       "       84, 79, 17, 85], dtype=int64)"
      ]
     },
     "execution_count": 330,
     "metadata": {},
     "output_type": "execute_result"
    }
   ],
   "source": [
    "doctors_db['age'].unique()"
   ]
  },
  {
   "cell_type": "code",
   "execution_count": 331,
   "id": "e9934a0c-555c-484c-ab82-0cc8ab8eaadd",
   "metadata": {
    "tags": []
   },
   "outputs": [
    {
     "data": {
      "text/plain": [
       "age\n",
       "34    40893\n",
       "35     1076\n",
       "33      972\n",
       "37      969\n",
       "36      950\n",
       "      ...  \n",
       "22        1\n",
       "84        1\n",
       "79        1\n",
       "17        1\n",
       "85        1\n",
       "Name: count, Length: 72, dtype: int64"
      ]
     },
     "execution_count": 331,
     "metadata": {},
     "output_type": "execute_result"
    }
   ],
   "source": [
    "doctors_db['age'].value_counts()"
   ]
  },
  {
   "cell_type": "code",
   "execution_count": 332,
   "id": "b01235fc",
   "metadata": {},
   "outputs": [
    {
     "data": {
      "text/plain": [
       "Unnamed: 0       False\n",
       "doctorid         False\n",
       "mainspecialty    False\n",
       "age              False\n",
       "dtype: bool"
      ]
     },
     "execution_count": 332,
     "metadata": {},
     "output_type": "execute_result"
    }
   ],
   "source": [
    "doctors_db.isnull().any()"
   ]
  },
  {
   "cell_type": "code",
   "execution_count": 333,
   "id": "e9423761",
   "metadata": {
    "scrolled": true
   },
   "outputs": [
    {
     "data": {
      "text/plain": [
       "0"
      ]
     },
     "execution_count": 333,
     "metadata": {},
     "output_type": "execute_result"
    }
   ],
   "source": [
    "doctors_db['mainspecialty'].isnull().sum().sum()"
   ]
  },
  {
   "cell_type": "code",
   "execution_count": 334,
   "id": "7b7f38cb",
   "metadata": {},
   "outputs": [],
   "source": [
    "doctors_db['age'] = pd.to_numeric(doctors_db['age'], errors='coerce').astype('Int64')"
   ]
  },
  {
   "cell_type": "code",
   "execution_count": 335,
   "id": "008327e8",
   "metadata": {},
   "outputs": [],
   "source": [
    "#replace outliers with mode\n",
    "doctors_db['age'] = doctors_db['age'].mask(doctors_db['age'] > 100, doctors_db['age'].mode())"
   ]
  },
  {
   "cell_type": "code",
   "execution_count": 336,
   "id": "bd1636b5",
   "metadata": {},
   "outputs": [
    {
     "data": {
      "text/plain": [
       "<IntegerArray>\n",
       "[41, 43, 26, 34, 50, 62, 38, 57, 44, 59, 39, 49, 55, 37, 40, 48, 51, 46, 45,\n",
       " 54, 61, 60, 31, 65, 36, 72, 64, 35, 47, 33, 68, 42, 73, 53, 58, 71, 52, 56,\n",
       " 67, 63, 66, 81, 69, 70, 32, 91, 75, 30, 78, 76, 27, 29, 74,  8,  7, 28, 80,\n",
       " 24, 25, 92, 77, 23, 83,  4, 86, 88, 21, 22, 84, 79, 17, 85]\n",
       "Length: 72, dtype: Int64"
      ]
     },
     "execution_count": 336,
     "metadata": {},
     "output_type": "execute_result"
    }
   ],
   "source": [
    "doctors_db['age'].unique()"
   ]
  },
  {
   "cell_type": "code",
   "execution_count": 337,
   "id": "66dbf5ce",
   "metadata": {},
   "outputs": [],
   "source": [
    "# change N/A values to the mode of the dataframe\n",
    "doctors_db['age'].fillna(value=doctors_db['age'].mode().iloc[0], inplace=True)"
   ]
  },
  {
   "cell_type": "code",
   "execution_count": 338,
   "id": "4ba35154",
   "metadata": {},
   "outputs": [
    {
     "data": {
      "text/plain": [
       "0"
      ]
     },
     "execution_count": 338,
     "metadata": {},
     "output_type": "execute_result"
    }
   ],
   "source": [
    "doctors_db['age'].isnull().sum().sum()"
   ]
  },
  {
   "cell_type": "code",
   "execution_count": 339,
   "id": "849ba39d",
   "metadata": {},
   "outputs": [
    {
     "data": {
      "text/plain": [
       "Unnamed: 0       False\n",
       "doctorid         False\n",
       "mainspecialty    False\n",
       "age              False\n",
       "dtype: bool"
      ]
     },
     "execution_count": 339,
     "metadata": {},
     "output_type": "execute_result"
    }
   ],
   "source": [
    "doctors_db.isnull().any()"
   ]
  },
  {
   "cell_type": "code",
   "execution_count": 340,
   "id": "0c76ebf4",
   "metadata": {},
   "outputs": [],
   "source": [
    "#replace null values with Unknown string\n",
    "doctors_db['mainspecialty'].fillna('Unknown', inplace=True)"
   ]
  },
  {
   "cell_type": "code",
   "execution_count": 341,
   "id": "6ada0607",
   "metadata": {},
   "outputs": [
    {
     "data": {
      "text/plain": [
       "0"
      ]
     },
     "execution_count": 341,
     "metadata": {},
     "output_type": "execute_result"
    }
   ],
   "source": [
    "doctors_db['mainspecialty'].isnull().sum().sum()"
   ]
  },
  {
   "cell_type": "code",
   "execution_count": 342,
   "id": "9ad53d9a",
   "metadata": {},
   "outputs": [
    {
     "data": {
      "text/plain": [
       "59602"
      ]
     },
     "execution_count": 342,
     "metadata": {},
     "output_type": "execute_result"
    }
   ],
   "source": [
    "doctors_db.shape[0]"
   ]
  },
  {
   "cell_type": "code",
   "execution_count": 343,
   "id": "59e691ed",
   "metadata": {},
   "outputs": [],
   "source": [
    "doctors_db = doctors_db.drop_duplicates(subset='doctorid')"
   ]
  },
  {
   "cell_type": "code",
   "execution_count": 344,
   "id": "98870df5",
   "metadata": {},
   "outputs": [
    {
     "data": {
      "text/plain": [
       "59602"
      ]
     },
     "execution_count": 344,
     "metadata": {},
     "output_type": "execute_result"
    }
   ],
   "source": [
    "doctors_db.shape[0]"
   ]
  },
  {
   "cell_type": "markdown",
   "id": "bb61a92f-1727-495a-968a-13d975b9730c",
   "metadata": {},
   "source": [
    "# Exporting the CSV"
   ]
  },
  {
   "cell_type": "code",
   "execution_count": 345,
   "id": "5010ccac",
   "metadata": {
    "tags": []
   },
   "outputs": [],
   "source": [
    "doctors_db.to_csv('doctors_modified.csv')"
   ]
  },
  {
   "cell_type": "code",
   "execution_count": 346,
   "id": "3f67a367-41af-4c64-9600-452c613a790a",
   "metadata": {
    "tags": []
   },
   "outputs": [],
   "source": [
    "px_db.to_csv('px_modified.csv')"
   ]
  },
  {
   "cell_type": "code",
   "execution_count": 347,
   "id": "6160835f-c09c-4dc3-875e-593ab1f9fbb8",
   "metadata": {
    "tags": []
   },
   "outputs": [],
   "source": [
    "clinics_db.to_csv('clinics_modified.csv')"
   ]
  },
  {
   "cell_type": "code",
   "execution_count": 348,
   "id": "cd379df2-ad14-41ca-87dd-7a7925ded419",
   "metadata": {
    "tags": []
   },
   "outputs": [],
   "source": [
    "appoint_db.to_csv('appointments_modifed.csv')"
   ]
  }
 ],
 "metadata": {
  "kernelspec": {
   "display_name": "Python 3 (ipykernel)",
   "language": "python",
   "name": "python3"
  },
  "language_info": {
   "codemirror_mode": {
    "name": "ipython",
    "version": 3
   },
   "file_extension": ".py",
   "mimetype": "text/x-python",
   "name": "python",
   "nbconvert_exporter": "python",
   "pygments_lexer": "ipython3",
   "version": "3.11.5"
  }
 },
 "nbformat": 4,
 "nbformat_minor": 5
}
